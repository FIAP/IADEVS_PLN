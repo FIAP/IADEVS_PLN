{
  "nbformat": 4,
  "nbformat_minor": 0,
  "metadata": {
    "colab": {
      "provenance": [],
      "mount_file_id": "1_02D5hU7etmShyQO92fKHsDdtkT-7kGv",
      "authorship_tag": "ABX9TyMVkBHwe4QwDjsU/st26gK6",
      "include_colab_link": true
    },
    "kernelspec": {
      "name": "python3",
      "display_name": "Python 3"
    },
    "language_info": {
      "name": "python"
    }
  },
  "cells": [
    {
      "cell_type": "markdown",
      "metadata": {
        "id": "view-in-github",
        "colab_type": "text"
      },
      "source": [
        "<a href=\"https://colab.research.google.com/github/carlosaragao/PLN/blob/main/Spacy.ipynb\" target=\"_parent\"><img src=\"https://colab.research.google.com/assets/colab-badge.svg\" alt=\"Open In Colab\"/></a>"
      ]
    },
    {
      "cell_type": "code",
      "execution_count": null,
      "metadata": {
        "id": "Afza3R5wbd-8"
      },
      "outputs": [],
      "source": [
        "import pandas as pd"
      ]
    },
    {
      "cell_type": "code",
      "source": [
        "artigo_treino = pd.read_csv(\"/content/drive/MyDrive/Colab Notebooks/Word2Vec/treino.csv\")\n",
        "artigo_teste = pd.read_csv(\"/content/drive/MyDrive/Colab Notebooks/Word2Vec/teste.csv\")"
      ],
      "metadata": {
        "id": "tX39FrtnbjwF"
      },
      "execution_count": null,
      "outputs": []
    },
    {
      "cell_type": "code",
      "source": [
        "!python -m spacy download pt_core_news_sm"
      ],
      "metadata": {
        "colab": {
          "base_uri": "https://localhost:8080/"
        },
        "id": "-4T97a1EbtAK",
        "outputId": "d2b5297a-7b4f-4571-ce81-b87b07202374"
      },
      "execution_count": null,
      "outputs": [
        {
          "output_type": "stream",
          "name": "stdout",
          "text": [
            "2023-12-20 22:54:47.269026: E external/local_xla/xla/stream_executor/cuda/cuda_dnn.cc:9261] Unable to register cuDNN factory: Attempting to register factory for plugin cuDNN when one has already been registered\n",
            "2023-12-20 22:54:47.269102: E external/local_xla/xla/stream_executor/cuda/cuda_fft.cc:607] Unable to register cuFFT factory: Attempting to register factory for plugin cuFFT when one has already been registered\n",
            "2023-12-20 22:54:47.270700: E external/local_xla/xla/stream_executor/cuda/cuda_blas.cc:1515] Unable to register cuBLAS factory: Attempting to register factory for plugin cuBLAS when one has already been registered\n",
            "2023-12-20 22:54:47.280395: I tensorflow/core/platform/cpu_feature_guard.cc:182] This TensorFlow binary is optimized to use available CPU instructions in performance-critical operations.\n",
            "To enable the following instructions: AVX2 FMA, in other operations, rebuild TensorFlow with the appropriate compiler flags.\n",
            "2023-12-20 22:54:48.643355: W tensorflow/compiler/tf2tensorrt/utils/py_utils.cc:38] TF-TRT Warning: Could not find TensorRT\n",
            "Collecting pt-core-news-sm==3.6.0\n",
            "  Downloading https://github.com/explosion/spacy-models/releases/download/pt_core_news_sm-3.6.0/pt_core_news_sm-3.6.0-py3-none-any.whl (13.0 MB)\n",
            "\u001b[2K     \u001b[90m━━━━━━━━━━━━━━━━━━━━━━━━━━━━━━━━━━━━━━━━\u001b[0m \u001b[32m13.0/13.0 MB\u001b[0m \u001b[31m34.9 MB/s\u001b[0m eta \u001b[36m0:00:00\u001b[0m\n",
            "\u001b[?25hRequirement already satisfied: spacy<3.7.0,>=3.6.0 in /usr/local/lib/python3.10/dist-packages (from pt-core-news-sm==3.6.0) (3.6.1)\n",
            "Requirement already satisfied: spacy-legacy<3.1.0,>=3.0.11 in /usr/local/lib/python3.10/dist-packages (from spacy<3.7.0,>=3.6.0->pt-core-news-sm==3.6.0) (3.0.12)\n",
            "Requirement already satisfied: spacy-loggers<2.0.0,>=1.0.0 in /usr/local/lib/python3.10/dist-packages (from spacy<3.7.0,>=3.6.0->pt-core-news-sm==3.6.0) (1.0.5)\n",
            "Requirement already satisfied: murmurhash<1.1.0,>=0.28.0 in /usr/local/lib/python3.10/dist-packages (from spacy<3.7.0,>=3.6.0->pt-core-news-sm==3.6.0) (1.0.10)\n",
            "Requirement already satisfied: cymem<2.1.0,>=2.0.2 in /usr/local/lib/python3.10/dist-packages (from spacy<3.7.0,>=3.6.0->pt-core-news-sm==3.6.0) (2.0.8)\n",
            "Requirement already satisfied: preshed<3.1.0,>=3.0.2 in /usr/local/lib/python3.10/dist-packages (from spacy<3.7.0,>=3.6.0->pt-core-news-sm==3.6.0) (3.0.9)\n",
            "Requirement already satisfied: thinc<8.2.0,>=8.1.8 in /usr/local/lib/python3.10/dist-packages (from spacy<3.7.0,>=3.6.0->pt-core-news-sm==3.6.0) (8.1.12)\n",
            "Requirement already satisfied: wasabi<1.2.0,>=0.9.1 in /usr/local/lib/python3.10/dist-packages (from spacy<3.7.0,>=3.6.0->pt-core-news-sm==3.6.0) (1.1.2)\n",
            "Requirement already satisfied: srsly<3.0.0,>=2.4.3 in /usr/local/lib/python3.10/dist-packages (from spacy<3.7.0,>=3.6.0->pt-core-news-sm==3.6.0) (2.4.8)\n",
            "Requirement already satisfied: catalogue<2.1.0,>=2.0.6 in /usr/local/lib/python3.10/dist-packages (from spacy<3.7.0,>=3.6.0->pt-core-news-sm==3.6.0) (2.0.10)\n",
            "Requirement already satisfied: typer<0.10.0,>=0.3.0 in /usr/local/lib/python3.10/dist-packages (from spacy<3.7.0,>=3.6.0->pt-core-news-sm==3.6.0) (0.9.0)\n",
            "Requirement already satisfied: pathy>=0.10.0 in /usr/local/lib/python3.10/dist-packages (from spacy<3.7.0,>=3.6.0->pt-core-news-sm==3.6.0) (0.10.3)\n",
            "Requirement already satisfied: smart-open<7.0.0,>=5.2.1 in /usr/local/lib/python3.10/dist-packages (from spacy<3.7.0,>=3.6.0->pt-core-news-sm==3.6.0) (6.4.0)\n",
            "Requirement already satisfied: tqdm<5.0.0,>=4.38.0 in /usr/local/lib/python3.10/dist-packages (from spacy<3.7.0,>=3.6.0->pt-core-news-sm==3.6.0) (4.66.1)\n",
            "Requirement already satisfied: numpy>=1.15.0 in /usr/local/lib/python3.10/dist-packages (from spacy<3.7.0,>=3.6.0->pt-core-news-sm==3.6.0) (1.23.5)\n",
            "Requirement already satisfied: requests<3.0.0,>=2.13.0 in /usr/local/lib/python3.10/dist-packages (from spacy<3.7.0,>=3.6.0->pt-core-news-sm==3.6.0) (2.31.0)\n",
            "Requirement already satisfied: pydantic!=1.8,!=1.8.1,<3.0.0,>=1.7.4 in /usr/local/lib/python3.10/dist-packages (from spacy<3.7.0,>=3.6.0->pt-core-news-sm==3.6.0) (1.10.13)\n",
            "Requirement already satisfied: jinja2 in /usr/local/lib/python3.10/dist-packages (from spacy<3.7.0,>=3.6.0->pt-core-news-sm==3.6.0) (3.1.2)\n",
            "Requirement already satisfied: setuptools in /usr/local/lib/python3.10/dist-packages (from spacy<3.7.0,>=3.6.0->pt-core-news-sm==3.6.0) (67.7.2)\n",
            "Requirement already satisfied: packaging>=20.0 in /usr/local/lib/python3.10/dist-packages (from spacy<3.7.0,>=3.6.0->pt-core-news-sm==3.6.0) (23.2)\n",
            "Requirement already satisfied: langcodes<4.0.0,>=3.2.0 in /usr/local/lib/python3.10/dist-packages (from spacy<3.7.0,>=3.6.0->pt-core-news-sm==3.6.0) (3.3.0)\n",
            "Requirement already satisfied: typing-extensions>=4.2.0 in /usr/local/lib/python3.10/dist-packages (from pydantic!=1.8,!=1.8.1,<3.0.0,>=1.7.4->spacy<3.7.0,>=3.6.0->pt-core-news-sm==3.6.0) (4.5.0)\n",
            "Requirement already satisfied: charset-normalizer<4,>=2 in /usr/local/lib/python3.10/dist-packages (from requests<3.0.0,>=2.13.0->spacy<3.7.0,>=3.6.0->pt-core-news-sm==3.6.0) (3.3.2)\n",
            "Requirement already satisfied: idna<4,>=2.5 in /usr/local/lib/python3.10/dist-packages (from requests<3.0.0,>=2.13.0->spacy<3.7.0,>=3.6.0->pt-core-news-sm==3.6.0) (3.6)\n",
            "Requirement already satisfied: urllib3<3,>=1.21.1 in /usr/local/lib/python3.10/dist-packages (from requests<3.0.0,>=2.13.0->spacy<3.7.0,>=3.6.0->pt-core-news-sm==3.6.0) (2.0.7)\n",
            "Requirement already satisfied: certifi>=2017.4.17 in /usr/local/lib/python3.10/dist-packages (from requests<3.0.0,>=2.13.0->spacy<3.7.0,>=3.6.0->pt-core-news-sm==3.6.0) (2023.11.17)\n",
            "Requirement already satisfied: blis<0.8.0,>=0.7.8 in /usr/local/lib/python3.10/dist-packages (from thinc<8.2.0,>=8.1.8->spacy<3.7.0,>=3.6.0->pt-core-news-sm==3.6.0) (0.7.11)\n",
            "Requirement already satisfied: confection<1.0.0,>=0.0.1 in /usr/local/lib/python3.10/dist-packages (from thinc<8.2.0,>=8.1.8->spacy<3.7.0,>=3.6.0->pt-core-news-sm==3.6.0) (0.1.4)\n",
            "Requirement already satisfied: click<9.0.0,>=7.1.1 in /usr/local/lib/python3.10/dist-packages (from typer<0.10.0,>=0.3.0->spacy<3.7.0,>=3.6.0->pt-core-news-sm==3.6.0) (8.1.7)\n",
            "Requirement already satisfied: MarkupSafe>=2.0 in /usr/local/lib/python3.10/dist-packages (from jinja2->spacy<3.7.0,>=3.6.0->pt-core-news-sm==3.6.0) (2.1.3)\n",
            "Installing collected packages: pt-core-news-sm\n",
            "Successfully installed pt-core-news-sm-3.6.0\n",
            "\u001b[38;5;2m✔ Download and installation successful\u001b[0m\n",
            "You can now load the package via spacy.load('pt_core_news_sm')\n"
          ]
        }
      ]
    },
    {
      "cell_type": "code",
      "source": [
        "import spacy\n",
        "nlp = spacy.load(\"pt_core_news_sm\")"
      ],
      "metadata": {
        "id": "y5Vm5zZpcRUR"
      },
      "execution_count": null,
      "outputs": []
    },
    {
      "cell_type": "code",
      "source": [
        "texto = \"Adoro a cidade de caldas novas!\"\n",
        "doc = nlp(texto)"
      ],
      "metadata": {
        "id": "i4Vl0CZXcsdX"
      },
      "execution_count": null,
      "outputs": []
    },
    {
      "cell_type": "code",
      "source": [
        "type(doc)"
      ],
      "metadata": {
        "colab": {
          "base_uri": "https://localhost:8080/"
        },
        "id": "rXHizbrPm6yO",
        "outputId": "881dedd4-9c45-40ab-b9b9-435733977b9c"
      },
      "execution_count": null,
      "outputs": [
        {
          "output_type": "execute_result",
          "data": {
            "text/plain": [
              "spacy.tokens.doc.Doc"
            ]
          },
          "metadata": {},
          "execution_count": 18
        }
      ]
    },
    {
      "cell_type": "code",
      "source": [
        "doc.ents"
      ],
      "metadata": {
        "colab": {
          "base_uri": "https://localhost:8080/"
        },
        "id": "VEfsklnSnSN0",
        "outputId": "b79fb32c-6767-4c3f-8b4a-ba2346195be3"
      },
      "execution_count": null,
      "outputs": [
        {
          "output_type": "execute_result",
          "data": {
            "text/plain": [
              "(Adoro, caldas novas)"
            ]
          },
          "metadata": {},
          "execution_count": 19
        }
      ]
    },
    {
      "cell_type": "code",
      "source": [
        "doc[1].is_stop"
      ],
      "metadata": {
        "colab": {
          "base_uri": "https://localhost:8080/"
        },
        "id": "6pn120z5on7W",
        "outputId": "8c2624e2-eab0-4776-aad8-dae69b45eca3"
      },
      "execution_count": null,
      "outputs": [
        {
          "output_type": "execute_result",
          "data": {
            "text/plain": [
              "True"
            ]
          },
          "metadata": {},
          "execution_count": 20
        }
      ]
    },
    {
      "cell_type": "code",
      "source": [
        "doc[1].is_alpha"
      ],
      "metadata": {
        "colab": {
          "base_uri": "https://localhost:8080/"
        },
        "id": "hwa73B9RqtIi",
        "outputId": "fbbac8f4-c3b6-4397-8d09-3f1d1e360209"
      },
      "execution_count": null,
      "outputs": [
        {
          "output_type": "execute_result",
          "data": {
            "text/plain": [
              "True"
            ]
          },
          "metadata": {},
          "execution_count": 32
        }
      ]
    },
    {
      "cell_type": "code",
      "source": [
        "textos_para_tratamento = (titulos.lower() for titulos in artigo_treino.title)"
      ],
      "metadata": {
        "id": "hm0J6gOYqJqf"
      },
      "execution_count": null,
      "outputs": []
    },
    {
      "cell_type": "code",
      "source": [
        "def trata_textos(doc):\n",
        "  tokens_validos = []\n",
        "\n",
        "\n",
        "  for token in doc:\n",
        "    e_valido = not token.is_stop and token.is_alpha\n",
        "    if e_valido:\n",
        "      tokens_validos.append(token.text)\n",
        "\n",
        "\n",
        "  if len(tokens_validos) > 2:\n",
        "    return \" \".join(tokens_validos)"
      ],
      "metadata": {
        "id": "k9k_hCKnqGsV"
      },
      "execution_count": null,
      "outputs": []
    },
    {
      "cell_type": "code",
      "source": [
        "texto = \"Adoro a 342342 #$@#@#$ cidade de caldas novas!\"\n",
        "doc = nlp(texto)\n",
        "trata_textos(doc)"
      ],
      "metadata": {
        "colab": {
          "base_uri": "https://localhost:8080/",
          "height": 53
        },
        "id": "9wo56HUvrNSv",
        "outputId": "7422ca8a-492a-459d-8b6c-c36315ffc195"
      },
      "execution_count": null,
      "outputs": [
        {
          "output_type": "stream",
          "name": "stdout",
          "text": [
            "Resultado para o documento: Adoro cidade caldas\n"
          ]
        },
        {
          "output_type": "execute_result",
          "data": {
            "text/plain": [
              "'Adoro cidade caldas'"
            ],
            "application/vnd.google.colaboratory.intrinsic+json": {
              "type": "string"
            }
          },
          "metadata": {},
          "execution_count": 72
        }
      ]
    },
    {
      "cell_type": "code",
      "source": [
        "textos_tratados = [trata_textos(doc) for doc in nlp.pipe(textos_para_tratamento,\n",
        "                                                        batch_size = 1000,\n",
        "                                                        n_process = -1)]"
      ],
      "metadata": {
        "id": "AmUSHnPlr5CY"
      },
      "execution_count": null,
      "outputs": []
    },
    {
      "cell_type": "code",
      "source": [
        "titulos_tratados = pd.DataFrame({\"titulo\": textos_tratados})"
      ],
      "metadata": {
        "id": "LAx6qmCewTmf"
      },
      "execution_count": null,
      "outputs": []
    },
    {
      "cell_type": "code",
      "source": [
        "titulos_tratados.head()"
      ],
      "metadata": {
        "colab": {
          "base_uri": "https://localhost:8080/",
          "height": 206
        },
        "id": "lHlEycN6wb5P",
        "outputId": "5a7f8db8-76ff-4034-c5c0-25b1a9eae769"
      },
      "execution_count": null,
      "outputs": [
        {
          "output_type": "execute_result",
          "data": {
            "text/plain": [
              "                                              titulo\n",
              "0        pai cariocas lúcia veríssimo vence festival\n",
              "1   governo aumentar multa empresas assinam carteira\n",
              "2                  dias cantareira volta ficar acima\n",
              "3  militares egípcios mortos atentado península s...\n",
              "4                   ataque triplo mata dezenas chade"
            ],
            "text/html": [
              "\n",
              "  <div id=\"df-6e285734-8fa8-4ea8-b7f0-286c5e6a21e8\" class=\"colab-df-container\">\n",
              "    <div>\n",
              "<style scoped>\n",
              "    .dataframe tbody tr th:only-of-type {\n",
              "        vertical-align: middle;\n",
              "    }\n",
              "\n",
              "    .dataframe tbody tr th {\n",
              "        vertical-align: top;\n",
              "    }\n",
              "\n",
              "    .dataframe thead th {\n",
              "        text-align: right;\n",
              "    }\n",
              "</style>\n",
              "<table border=\"1\" class=\"dataframe\">\n",
              "  <thead>\n",
              "    <tr style=\"text-align: right;\">\n",
              "      <th></th>\n",
              "      <th>titulo</th>\n",
              "    </tr>\n",
              "  </thead>\n",
              "  <tbody>\n",
              "    <tr>\n",
              "      <th>0</th>\n",
              "      <td>pai cariocas lúcia veríssimo vence festival</td>\n",
              "    </tr>\n",
              "    <tr>\n",
              "      <th>1</th>\n",
              "      <td>governo aumentar multa empresas assinam carteira</td>\n",
              "    </tr>\n",
              "    <tr>\n",
              "      <th>2</th>\n",
              "      <td>dias cantareira volta ficar acima</td>\n",
              "    </tr>\n",
              "    <tr>\n",
              "      <th>3</th>\n",
              "      <td>militares egípcios mortos atentado península s...</td>\n",
              "    </tr>\n",
              "    <tr>\n",
              "      <th>4</th>\n",
              "      <td>ataque triplo mata dezenas chade</td>\n",
              "    </tr>\n",
              "  </tbody>\n",
              "</table>\n",
              "</div>\n",
              "    <div class=\"colab-df-buttons\">\n",
              "\n",
              "  <div class=\"colab-df-container\">\n",
              "    <button class=\"colab-df-convert\" onclick=\"convertToInteractive('df-6e285734-8fa8-4ea8-b7f0-286c5e6a21e8')\"\n",
              "            title=\"Convert this dataframe to an interactive table.\"\n",
              "            style=\"display:none;\">\n",
              "\n",
              "  <svg xmlns=\"http://www.w3.org/2000/svg\" height=\"24px\" viewBox=\"0 -960 960 960\">\n",
              "    <path d=\"M120-120v-720h720v720H120Zm60-500h600v-160H180v160Zm220 220h160v-160H400v160Zm0 220h160v-160H400v160ZM180-400h160v-160H180v160Zm440 0h160v-160H620v160ZM180-180h160v-160H180v160Zm440 0h160v-160H620v160Z\"/>\n",
              "  </svg>\n",
              "    </button>\n",
              "\n",
              "  <style>\n",
              "    .colab-df-container {\n",
              "      display:flex;\n",
              "      gap: 12px;\n",
              "    }\n",
              "\n",
              "    .colab-df-convert {\n",
              "      background-color: #E8F0FE;\n",
              "      border: none;\n",
              "      border-radius: 50%;\n",
              "      cursor: pointer;\n",
              "      display: none;\n",
              "      fill: #1967D2;\n",
              "      height: 32px;\n",
              "      padding: 0 0 0 0;\n",
              "      width: 32px;\n",
              "    }\n",
              "\n",
              "    .colab-df-convert:hover {\n",
              "      background-color: #E2EBFA;\n",
              "      box-shadow: 0px 1px 2px rgba(60, 64, 67, 0.3), 0px 1px 3px 1px rgba(60, 64, 67, 0.15);\n",
              "      fill: #174EA6;\n",
              "    }\n",
              "\n",
              "    .colab-df-buttons div {\n",
              "      margin-bottom: 4px;\n",
              "    }\n",
              "\n",
              "    [theme=dark] .colab-df-convert {\n",
              "      background-color: #3B4455;\n",
              "      fill: #D2E3FC;\n",
              "    }\n",
              "\n",
              "    [theme=dark] .colab-df-convert:hover {\n",
              "      background-color: #434B5C;\n",
              "      box-shadow: 0px 1px 3px 1px rgba(0, 0, 0, 0.15);\n",
              "      filter: drop-shadow(0px 1px 2px rgba(0, 0, 0, 0.3));\n",
              "      fill: #FFFFFF;\n",
              "    }\n",
              "  </style>\n",
              "\n",
              "    <script>\n",
              "      const buttonEl =\n",
              "        document.querySelector('#df-6e285734-8fa8-4ea8-b7f0-286c5e6a21e8 button.colab-df-convert');\n",
              "      buttonEl.style.display =\n",
              "        google.colab.kernel.accessAllowed ? 'block' : 'none';\n",
              "\n",
              "      async function convertToInteractive(key) {\n",
              "        const element = document.querySelector('#df-6e285734-8fa8-4ea8-b7f0-286c5e6a21e8');\n",
              "        const dataTable =\n",
              "          await google.colab.kernel.invokeFunction('convertToInteractive',\n",
              "                                                    [key], {});\n",
              "        if (!dataTable) return;\n",
              "\n",
              "        const docLinkHtml = 'Like what you see? Visit the ' +\n",
              "          '<a target=\"_blank\" href=https://colab.research.google.com/notebooks/data_table.ipynb>data table notebook</a>'\n",
              "          + ' to learn more about interactive tables.';\n",
              "        element.innerHTML = '';\n",
              "        dataTable['output_type'] = 'display_data';\n",
              "        await google.colab.output.renderOutput(dataTable, element);\n",
              "        const docLink = document.createElement('div');\n",
              "        docLink.innerHTML = docLinkHtml;\n",
              "        element.appendChild(docLink);\n",
              "      }\n",
              "    </script>\n",
              "  </div>\n",
              "\n",
              "\n",
              "<div id=\"df-e84a7225-e093-4a20-9730-d5bab223dd2f\">\n",
              "  <button class=\"colab-df-quickchart\" onclick=\"quickchart('df-e84a7225-e093-4a20-9730-d5bab223dd2f')\"\n",
              "            title=\"Suggest charts\"\n",
              "            style=\"display:none;\">\n",
              "\n",
              "<svg xmlns=\"http://www.w3.org/2000/svg\" height=\"24px\"viewBox=\"0 0 24 24\"\n",
              "     width=\"24px\">\n",
              "    <g>\n",
              "        <path d=\"M19 3H5c-1.1 0-2 .9-2 2v14c0 1.1.9 2 2 2h14c1.1 0 2-.9 2-2V5c0-1.1-.9-2-2-2zM9 17H7v-7h2v7zm4 0h-2V7h2v10zm4 0h-2v-4h2v4z\"/>\n",
              "    </g>\n",
              "</svg>\n",
              "  </button>\n",
              "\n",
              "<style>\n",
              "  .colab-df-quickchart {\n",
              "      --bg-color: #E8F0FE;\n",
              "      --fill-color: #1967D2;\n",
              "      --hover-bg-color: #E2EBFA;\n",
              "      --hover-fill-color: #174EA6;\n",
              "      --disabled-fill-color: #AAA;\n",
              "      --disabled-bg-color: #DDD;\n",
              "  }\n",
              "\n",
              "  [theme=dark] .colab-df-quickchart {\n",
              "      --bg-color: #3B4455;\n",
              "      --fill-color: #D2E3FC;\n",
              "      --hover-bg-color: #434B5C;\n",
              "      --hover-fill-color: #FFFFFF;\n",
              "      --disabled-bg-color: #3B4455;\n",
              "      --disabled-fill-color: #666;\n",
              "  }\n",
              "\n",
              "  .colab-df-quickchart {\n",
              "    background-color: var(--bg-color);\n",
              "    border: none;\n",
              "    border-radius: 50%;\n",
              "    cursor: pointer;\n",
              "    display: none;\n",
              "    fill: var(--fill-color);\n",
              "    height: 32px;\n",
              "    padding: 0;\n",
              "    width: 32px;\n",
              "  }\n",
              "\n",
              "  .colab-df-quickchart:hover {\n",
              "    background-color: var(--hover-bg-color);\n",
              "    box-shadow: 0 1px 2px rgba(60, 64, 67, 0.3), 0 1px 3px 1px rgba(60, 64, 67, 0.15);\n",
              "    fill: var(--button-hover-fill-color);\n",
              "  }\n",
              "\n",
              "  .colab-df-quickchart-complete:disabled,\n",
              "  .colab-df-quickchart-complete:disabled:hover {\n",
              "    background-color: var(--disabled-bg-color);\n",
              "    fill: var(--disabled-fill-color);\n",
              "    box-shadow: none;\n",
              "  }\n",
              "\n",
              "  .colab-df-spinner {\n",
              "    border: 2px solid var(--fill-color);\n",
              "    border-color: transparent;\n",
              "    border-bottom-color: var(--fill-color);\n",
              "    animation:\n",
              "      spin 1s steps(1) infinite;\n",
              "  }\n",
              "\n",
              "  @keyframes spin {\n",
              "    0% {\n",
              "      border-color: transparent;\n",
              "      border-bottom-color: var(--fill-color);\n",
              "      border-left-color: var(--fill-color);\n",
              "    }\n",
              "    20% {\n",
              "      border-color: transparent;\n",
              "      border-left-color: var(--fill-color);\n",
              "      border-top-color: var(--fill-color);\n",
              "    }\n",
              "    30% {\n",
              "      border-color: transparent;\n",
              "      border-left-color: var(--fill-color);\n",
              "      border-top-color: var(--fill-color);\n",
              "      border-right-color: var(--fill-color);\n",
              "    }\n",
              "    40% {\n",
              "      border-color: transparent;\n",
              "      border-right-color: var(--fill-color);\n",
              "      border-top-color: var(--fill-color);\n",
              "    }\n",
              "    60% {\n",
              "      border-color: transparent;\n",
              "      border-right-color: var(--fill-color);\n",
              "    }\n",
              "    80% {\n",
              "      border-color: transparent;\n",
              "      border-right-color: var(--fill-color);\n",
              "      border-bottom-color: var(--fill-color);\n",
              "    }\n",
              "    90% {\n",
              "      border-color: transparent;\n",
              "      border-bottom-color: var(--fill-color);\n",
              "    }\n",
              "  }\n",
              "</style>\n",
              "\n",
              "  <script>\n",
              "    async function quickchart(key) {\n",
              "      const quickchartButtonEl =\n",
              "        document.querySelector('#' + key + ' button');\n",
              "      quickchartButtonEl.disabled = true;  // To prevent multiple clicks.\n",
              "      quickchartButtonEl.classList.add('colab-df-spinner');\n",
              "      try {\n",
              "        const charts = await google.colab.kernel.invokeFunction(\n",
              "            'suggestCharts', [key], {});\n",
              "      } catch (error) {\n",
              "        console.error('Error during call to suggestCharts:', error);\n",
              "      }\n",
              "      quickchartButtonEl.classList.remove('colab-df-spinner');\n",
              "      quickchartButtonEl.classList.add('colab-df-quickchart-complete');\n",
              "    }\n",
              "    (() => {\n",
              "      let quickchartButtonEl =\n",
              "        document.querySelector('#df-e84a7225-e093-4a20-9730-d5bab223dd2f button');\n",
              "      quickchartButtonEl.style.display =\n",
              "        google.colab.kernel.accessAllowed ? 'block' : 'none';\n",
              "    })();\n",
              "  </script>\n",
              "</div>\n",
              "\n",
              "    </div>\n",
              "  </div>\n"
            ]
          },
          "metadata": {},
          "execution_count": 77
        }
      ]
    },
    {
      "cell_type": "code",
      "source": [
        "from gensim.models import Word2Vec\n",
        "\n",
        "w2v_modelo = Word2Vec(sg = 0,\n",
        "                      window = 2,\n",
        "                      vector_size = 300,\n",
        "                      min_count = 5,\n",
        "                      alpha = 0.03,\n",
        "                      min_alpha = 0.007)"
      ],
      "metadata": {
        "id": "I7XT0fsZ0YG2"
      },
      "execution_count": null,
      "outputs": []
    },
    {
      "cell_type": "code",
      "source": [
        "print(len(titulos_tratados))\n",
        "\n",
        "titulos_tratados = titulos_tratados.dropna().drop_duplicates()\n",
        "\n",
        "print(len(titulos_tratados))"
      ],
      "metadata": {
        "colab": {
          "base_uri": "https://localhost:8080/"
        },
        "id": "gJ80u6lQ4LpI",
        "outputId": "a55a8774-849e-4aa0-d1b7-f32cc6f4cace"
      },
      "execution_count": null,
      "outputs": [
        {
          "output_type": "stream",
          "name": "stdout",
          "text": [
            "76969\n",
            "76969\n"
          ]
        }
      ]
    },
    {
      "cell_type": "code",
      "source": [
        "lista_lista_tokens = [titulo.split(\" \") for titulo in titulos_tratados.titulo]"
      ],
      "metadata": {
        "id": "MjIM3BeJ3odu"
      },
      "execution_count": null,
      "outputs": []
    },
    {
      "cell_type": "code",
      "source": [
        "w2v_modelo.build_vocab(lista_lista_tokens)"
      ],
      "metadata": {
        "id": "vY4rBzZ33NJI"
      },
      "execution_count": null,
      "outputs": []
    },
    {
      "cell_type": "code",
      "source": [
        "dir(w2v_modelo)"
      ],
      "metadata": {
        "colab": {
          "base_uri": "https://localhost:8080/"
        },
        "id": "WqjaD6n56h6l",
        "outputId": "2f061d3d-2e5a-4d7f-a5c1-d32fb475d3b5"
      },
      "execution_count": null,
      "outputs": [
        {
          "output_type": "execute_result",
          "data": {
            "text/plain": [
              "['__class__',\n",
              " '__delattr__',\n",
              " '__dict__',\n",
              " '__dir__',\n",
              " '__doc__',\n",
              " '__eq__',\n",
              " '__format__',\n",
              " '__ge__',\n",
              " '__getattribute__',\n",
              " '__gt__',\n",
              " '__hash__',\n",
              " '__init__',\n",
              " '__init_subclass__',\n",
              " '__le__',\n",
              " '__lt__',\n",
              " '__module__',\n",
              " '__ne__',\n",
              " '__new__',\n",
              " '__reduce__',\n",
              " '__reduce_ex__',\n",
              " '__repr__',\n",
              " '__setattr__',\n",
              " '__sizeof__',\n",
              " '__str__',\n",
              " '__subclasshook__',\n",
              " '__weakref__',\n",
              " '_adapt_by_suffix',\n",
              " '_check_corpus_sanity',\n",
              " '_check_training_sanity',\n",
              " '_clear_post_train',\n",
              " '_do_train_epoch',\n",
              " '_do_train_job',\n",
              " '_get_next_alpha',\n",
              " '_get_thread_working_mem',\n",
              " '_job_producer',\n",
              " '_load_specials',\n",
              " '_log_epoch_end',\n",
              " '_log_epoch_progress',\n",
              " '_log_progress',\n",
              " '_log_train_end',\n",
              " '_raw_word_count',\n",
              " '_save_specials',\n",
              " '_scan_vocab',\n",
              " '_smart_save',\n",
              " '_train_epoch',\n",
              " '_train_epoch_corpusfile',\n",
              " '_worker_loop',\n",
              " '_worker_loop_corpusfile',\n",
              " 'add_lifecycle_event',\n",
              " 'add_null_word',\n",
              " 'alpha',\n",
              " 'batch_words',\n",
              " 'build_vocab',\n",
              " 'build_vocab_from_freq',\n",
              " 'cbow_mean',\n",
              " 'comment',\n",
              " 'compute_loss',\n",
              " 'corpus_count',\n",
              " 'corpus_total_words',\n",
              " 'create_binary_tree',\n",
              " 'cum_table',\n",
              " 'effective_min_count',\n",
              " 'epochs',\n",
              " 'estimate_memory',\n",
              " 'get_latest_training_loss',\n",
              " 'hashfxn',\n",
              " 'hs',\n",
              " 'init_sims',\n",
              " 'init_weights',\n",
              " 'layer1_size',\n",
              " 'lifecycle_events',\n",
              " 'load',\n",
              " 'make_cum_table',\n",
              " 'max_final_vocab',\n",
              " 'max_vocab_size',\n",
              " 'min_alpha',\n",
              " 'min_alpha_yet_reached',\n",
              " 'min_count',\n",
              " 'negative',\n",
              " 'ns_exponent',\n",
              " 'null_word',\n",
              " 'predict_output_word',\n",
              " 'prepare_vocab',\n",
              " 'prepare_weights',\n",
              " 'random',\n",
              " 'raw_vocab',\n",
              " 'reset_from',\n",
              " 'running_training_loss',\n",
              " 'sample',\n",
              " 'save',\n",
              " 'scan_vocab',\n",
              " 'score',\n",
              " 'seed',\n",
              " 'seeded_vector',\n",
              " 'sg',\n",
              " 'shrink_windows',\n",
              " 'sorted_vocab',\n",
              " 'syn1neg',\n",
              " 'total_train_time',\n",
              " 'train',\n",
              " 'train_count',\n",
              " 'update_weights',\n",
              " 'vector_size',\n",
              " 'window',\n",
              " 'workers',\n",
              " 'wv']"
            ]
          },
          "metadata": {},
          "execution_count": 103
        }
      ]
    },
    {
      "cell_type": "code",
      "source": [
        "w2v_modelo.corpus_count"
      ],
      "metadata": {
        "colab": {
          "base_uri": "https://localhost:8080/"
        },
        "id": "cr5mc8P-7X8o",
        "outputId": "4a6decf1-7b70-4e55-a75b-e4d2e770b4ba"
      },
      "execution_count": null,
      "outputs": [
        {
          "output_type": "execute_result",
          "data": {
            "text/plain": [
              "76969"
            ]
          },
          "metadata": {},
          "execution_count": 104
        }
      ]
    },
    {
      "cell_type": "code",
      "source": [
        "from gensim.models.callbacks import CallbackAny2Vec\n",
        "from gensim.models import Word2Vec\n",
        "\n",
        "# iniciando a chamada callback\n",
        "class callback(CallbackAny2Vec):\n",
        "  def __init__(self):\n",
        "    self.epoch = 0\n",
        "\n",
        "  def on_epoch_end(self, model):\n",
        "    loss = model.get_latest_training_loss()\n",
        "    if self.epoch == 0:\n",
        "        print('Loss após a época {}: {}'.format(self.epoch, loss))\n",
        "    else:\n",
        "        print('Loss após a época {}: {}'.format(self.epoch, loss- self.loss_previous_step))\n",
        "    self.epoch += 1\n",
        "    self.loss_previous_step = loss\n"
      ],
      "metadata": {
        "id": "babi3NLz970p"
      },
      "execution_count": null,
      "outputs": []
    },
    {
      "cell_type": "code",
      "source": [
        "w2v_modelo.train(lista_lista_tokens,\n",
        "                 total_examples = w2v_modelo.corpus_count,\n",
        "                 epochs = 30,\n",
        "                 compute_loss = True,\n",
        "                 callbacks=[callback()])"
      ],
      "metadata": {
        "colab": {
          "base_uri": "https://localhost:8080/"
        },
        "id": "NIxmR4r67c_G",
        "outputId": "f1cb1f52-a9fc-4117-d394-573d40a0ecfa"
      },
      "execution_count": null,
      "outputs": [
        {
          "output_type": "stream",
          "name": "stderr",
          "text": [
            "WARNING:gensim.models.word2vec:Effective 'alpha' higher than previous training cycles\n"
          ]
        },
        {
          "output_type": "stream",
          "name": "stdout",
          "text": [
            "Loss após a época 0: 128024.8046875\n",
            "Loss após a época 1: 132844.4140625\n",
            "Loss após a época 2: 111690.34375\n",
            "Loss após a época 3: 113595.65625\n",
            "Loss após a época 4: 114956.28125\n",
            "Loss após a época 5: 109776.9375\n",
            "Loss após a época 6: 124906.0\n",
            "Loss após a época 7: 108823.0\n",
            "Loss após a época 8: 93432.75\n",
            "Loss após a época 9: 94198.3125\n",
            "Loss após a época 10: 80607.5\n",
            "Loss após a época 11: 79012.5\n",
            "Loss após a época 12: 81198.625\n",
            "Loss após a época 13: 89049.0\n",
            "Loss após a época 14: 81453.625\n",
            "Loss após a época 15: 80215.5\n",
            "Loss após a época 16: 78417.125\n",
            "Loss após a época 17: 67593.625\n",
            "Loss após a época 18: 71154.5\n",
            "Loss após a época 19: 78073.25\n",
            "Loss após a época 20: 64399.375\n",
            "Loss após a época 21: 71019.0\n",
            "Loss após a época 22: 65394.375\n",
            "Loss após a época 23: 72630.0\n",
            "Loss após a época 24: 57091.5\n",
            "Loss após a época 25: 67096.25\n",
            "Loss após a época 26: 60068.25\n",
            "Loss após a época 27: 61648.0\n",
            "Loss após a época 28: 60507.25\n",
            "Loss após a época 29: 56692.5\n"
          ]
        },
        {
          "output_type": "execute_result",
          "data": {
            "text/plain": [
              "(13208782, 14769900)"
            ]
          },
          "metadata": {},
          "execution_count": 110
        }
      ]
    },
    {
      "cell_type": "code",
      "source": [
        "w2v_modelo.wv.most_similar(\"google\")"
      ],
      "metadata": {
        "colab": {
          "base_uri": "https://localhost:8080/"
        },
        "id": "7-uCFflD77AM",
        "outputId": "e851a2bf-bb5c-433c-893f-4f165f6b0f6e"
      },
      "execution_count": null,
      "outputs": [
        {
          "output_type": "execute_result",
          "data": {
            "text/plain": [
              "[('apple', 0.5626863837242126),\n",
              " ('facebook', 0.5589815974235535),\n",
              " ('amazon', 0.4820205271244049),\n",
              " ('airbnb', 0.4768913984298706),\n",
              " ('disney', 0.4409243166446686),\n",
              " ('software', 0.43702954053878784),\n",
              " ('volkswagen', 0.436532586812973),\n",
              " ('toshiba', 0.4363655149936676),\n",
              " ('uber', 0.43553879857063293),\n",
              " ('fbi', 0.43474552035331726)]"
            ]
          },
          "metadata": {},
          "execution_count": 106
        }
      ]
    },
    {
      "cell_type": "markdown",
      "source": [
        "**skip gram**"
      ],
      "metadata": {
        "id": "LzcMlRP2-vgD"
      }
    },
    {
      "cell_type": "code",
      "source": [
        "w2v_modelo_sg = Word2Vec(sg = 1,\n",
        "                      window = 5,\n",
        "                      vector_size = 300,\n",
        "                      min_count = 5,\n",
        "                      alpha = 0.03,\n",
        "                      min_alpha = 0.007)\n",
        "\n",
        "w2v_modelo_sg.build_vocab(lista_lista_tokens)\n",
        "\n",
        "w2v_modelo_sg.train(lista_lista_tokens,\n",
        "                 total_examples = w2v_modelo_sg.corpus_count,\n",
        "                 epochs = 30,\n",
        "                 compute_loss = True,\n",
        "                 callbacks=[callback()])"
      ],
      "metadata": {
        "colab": {
          "base_uri": "https://localhost:8080/"
        },
        "id": "fZ069XMh8Uu7",
        "outputId": "06560513-8c7c-4a85-cd89-12a8283dfb03"
      },
      "execution_count": null,
      "outputs": [
        {
          "output_type": "stream",
          "name": "stdout",
          "text": [
            "Loss após a época 0: 1697830.0\n",
            "Loss após a época 1: 1359959.5\n",
            "Loss após a época 2: 1160477.0\n",
            "Loss após a época 3: 974708.0\n",
            "Loss após a época 4: 983052.0\n",
            "Loss após a época 5: 965750.0\n",
            "Loss após a época 6: 809030.5\n",
            "Loss após a época 7: 837879.0\n",
            "Loss após a época 8: 719260.0\n",
            "Loss após a época 9: 695912.0\n",
            "Loss após a época 10: 673677.0\n",
            "Loss após a época 11: 659187.0\n",
            "Loss após a época 12: 679481.0\n",
            "Loss após a época 13: 659922.0\n",
            "Loss após a época 14: 567042.0\n",
            "Loss após a época 15: 629479.0\n",
            "Loss após a época 16: 615091.0\n",
            "Loss após a época 17: 564709.0\n",
            "Loss após a época 18: 586833.0\n",
            "Loss após a época 19: 576479.0\n",
            "Loss após a época 20: 487878.0\n",
            "Loss após a época 21: 413270.0\n",
            "Loss após a época 22: 405092.0\n",
            "Loss após a época 23: 398776.0\n",
            "Loss após a época 24: 395456.0\n",
            "Loss após a época 25: 388448.0\n",
            "Loss após a época 26: 354938.0\n",
            "Loss após a época 27: 371028.0\n",
            "Loss após a época 28: 366214.0\n",
            "Loss após a época 29: 359072.0\n"
          ]
        },
        {
          "output_type": "execute_result",
          "data": {
            "text/plain": [
              "(13208662, 14769900)"
            ]
          },
          "metadata": {},
          "execution_count": 111
        }
      ]
    },
    {
      "cell_type": "code",
      "source": [
        "w2v_modelo_sg.wv.most_similar(\"google\")"
      ],
      "metadata": {
        "colab": {
          "base_uri": "https://localhost:8080/"
        },
        "id": "GgV4fq8B_gaR",
        "outputId": "364f5fcb-763d-4ad7-8a1d-1ae5099c19c2"
      },
      "execution_count": null,
      "outputs": [
        {
          "output_type": "execute_result",
          "data": {
            "text/plain": [
              "[('apple', 0.43627840280532837),\n",
              " ('android', 0.4222179055213928),\n",
              " ('reguladores', 0.3971448540687561),\n",
              " ('yahoo', 0.38743484020233154),\n",
              " ('verizon', 0.3778606057167053),\n",
              " ('facebook', 0.37057068943977356),\n",
              " ('pfizer', 0.36726638674736023),\n",
              " ('automóveis', 0.3619340658187866),\n",
              " ('concorda', 0.35202541947364807),\n",
              " ('toshiba', 0.34956300258636475)]"
            ]
          },
          "metadata": {},
          "execution_count": 112
        }
      ]
    },
    {
      "cell_type": "code",
      "source": [
        "w2v_modelo.wv.save_word2vec_format(\"/content/drive/MyDrive/Colab Notebooks/Word2Vec/modelo_cbow.txt\", binary=False)\n",
        "w2v_modelo_sg.wv.save_word2vec_format(\"/content/drive/MyDrive/Colab Notebooks/Word2Vec/modelo_sg.txt\", binary=False)"
      ],
      "metadata": {
        "id": "jmwgTob2BYpj"
      },
      "execution_count": null,
      "outputs": []
    },
    {
      "cell_type": "markdown",
      "source": [
        "**Classificador**"
      ],
      "metadata": {
        "id": "fRB31XX4B0NN"
      }
    },
    {
      "cell_type": "code",
      "source": [
        "import spacy\n",
        "nlp = spacy.load(\"pt_core_news_sm\", disable=[\"parser\", \"ner\", \"tagger\", \"textcat\"])\n",
        "\n",
        "def tokenizador(texto):\n",
        "  tokens_validos = []\n",
        "  doc = nlp(texto)\n",
        "\n",
        "  for token in doc:\n",
        "    e_valido = not token.is_stop and token.is_alpha\n",
        "    if e_valido:\n",
        "      tokens_validos.append(token.text.lower())\n",
        "\n",
        "  return tokens_validos\n",
        "\n",
        "texto = \"Adoro a 342342 #$@#@#$ cidade de caldas novas!\"\n",
        "tokenizador(texto)"
      ],
      "metadata": {
        "colab": {
          "base_uri": "https://localhost:8080/"
        },
        "id": "UGJ8Ho3jCU0q",
        "outputId": "1854b30e-4996-423f-bc46-816151416553"
      },
      "execution_count": null,
      "outputs": [
        {
          "output_type": "execute_result",
          "data": {
            "text/plain": [
              "['adoro', 'cidade', 'caldas']"
            ]
          },
          "metadata": {},
          "execution_count": 129
        }
      ]
    },
    {
      "cell_type": "code",
      "source": [
        "import numpy as np\n",
        "\n",
        "def combinacao_de_vetores_por_soma(palavras, modelo):\n",
        "  vetor_resultante = np.zeros(300)\n",
        "  for pn in palavras:\n",
        "    try:\n",
        "      vetor_resultante =+ modelo.wv.get_vector(pn)\n",
        "    except KeyError:\n",
        "      pass\n",
        "\n",
        "  return vetor_resultante"
      ],
      "metadata": {
        "id": "FNH9_JyRCSe8"
      },
      "execution_count": null,
      "outputs": []
    },
    {
      "cell_type": "code",
      "source": [
        "def matriz_vetores(textos, modelo):\n",
        "  x = len(textos)\n",
        "  y = 300\n",
        "  matriz = np.zeros((x,y))\n",
        "\n",
        "  for i in range(x):\n",
        "    palavras = tokenizador(textos.iloc[i])\n",
        "    matriz[i] = combinacao_de_vetores_por_soma(palavras, modelo)\n",
        "\n",
        "  return matriz"
      ],
      "metadata": {
        "id": "L8CqFfW_B3AC"
      },
      "execution_count": null,
      "outputs": []
    },
    {
      "cell_type": "code",
      "source": [
        "matriz_vetores_treino_cbow = matriz_vetores(artigo_treino.title, w2v_modelo)\n",
        "matriz_vetores_teste_cbow = matriz_vetores(artigo_teste.title, w2v_modelo)\n",
        "print(matriz_vetores_treino_cbow.shape)\n",
        "print(matriz_vetores_teste_cbow.shape)\n",
        "\n",
        "matriz_vetores_treino_sg = matriz_vetores(artigo_treino.title, w2v_modelo_sg)\n",
        "matriz_vetores_teste_sg = matriz_vetores(artigo_teste.title, w2v_modelo_sg)\n",
        "print(matriz_vetores_treino_sg.shape)\n",
        "print(matriz_vetores_teste_sg.shape)"
      ],
      "metadata": {
        "colab": {
          "base_uri": "https://localhost:8080/"
        },
        "id": "Y0el8Jd4Gi97",
        "outputId": "af1f6849-5e89-4e95-b52c-329c8c8a7080"
      },
      "execution_count": null,
      "outputs": [
        {
          "output_type": "stream",
          "name": "stdout",
          "text": [
            "(90000, 300)\n",
            "(20513, 300)\n",
            "(90000, 300)\n",
            "(20513, 300)\n"
          ]
        }
      ]
    },
    {
      "cell_type": "code",
      "source": [
        "from sklearn.linear_model import LogisticRegression\n",
        "from sklearn.metrics import classification_report\n",
        "\n",
        "def classificador(modelo, x_treino, y_treino, x_teste, y_teste):\n",
        "  RL = LogisticRegression(max_iter = 800)\n",
        "  RL.fit(x_treino, y_treino)\n",
        "  categorias = RL.predict(x_teste)\n",
        "  resultados = classification_report(y_teste, categorias)\n",
        "  print(resultados)\n",
        "  return RL"
      ],
      "metadata": {
        "id": "sHwkhipZOsI2"
      },
      "execution_count": null,
      "outputs": []
    },
    {
      "cell_type": "code",
      "source": [
        "RL_cbow = classificador(w2v_modelo,\n",
        "                        matriz_vetores_treino_cbow,\n",
        "                        artigo_treino.category,\n",
        "                        matriz_vetores_teste_cbow,\n",
        "                        artigo_teste.category)"
      ],
      "metadata": {
        "colab": {
          "base_uri": "https://localhost:8080/"
        },
        "id": "JjFP_la3QS0Z",
        "outputId": "90bf0c42-dbca-4f86-e987-8f2c7758eeda"
      },
      "execution_count": null,
      "outputs": [
        {
          "output_type": "stream",
          "name": "stdout",
          "text": [
            "              precision    recall  f1-score   support\n",
            "\n",
            "     colunas       0.59      0.37      0.46      6103\n",
            "   cotidiano       0.33      0.56      0.42      1698\n",
            "     esporte       0.69      0.60      0.64      4663\n",
            "   ilustrada       0.04      0.56      0.07       131\n",
            "     mercado       0.68      0.56      0.62      5867\n",
            "       mundo       0.42      0.62      0.50      2051\n",
            "\n",
            "    accuracy                           0.52     20513\n",
            "   macro avg       0.46      0.55      0.45     20513\n",
            "weighted avg       0.60      0.52      0.54     20513\n",
            "\n"
          ]
        }
      ]
    },
    {
      "cell_type": "code",
      "source": [
        "RL_cbow = classificador(w2v_modelo_sg,\n",
        "                        matriz_vetores_treino_sg,\n",
        "                        artigo_treino.category,\n",
        "                        matriz_vetores_teste_sg,\n",
        "                        artigo_teste.category)"
      ],
      "metadata": {
        "colab": {
          "base_uri": "https://localhost:8080/"
        },
        "id": "jj6Ln_BFQlax",
        "outputId": "c89d0b4e-6ae3-483e-f6c7-efbdfdf7a64c"
      },
      "execution_count": null,
      "outputs": [
        {
          "output_type": "stream",
          "name": "stdout",
          "text": [
            "              precision    recall  f1-score   support\n",
            "\n",
            "     colunas       0.63      0.36      0.46      6103\n",
            "   cotidiano       0.34      0.58      0.43      1698\n",
            "     esporte       0.74      0.59      0.66      4663\n",
            "   ilustrada       0.04      0.63      0.08       131\n",
            "     mercado       0.66      0.62      0.64      5867\n",
            "       mundo       0.43      0.62      0.51      2051\n",
            "\n",
            "    accuracy                           0.53     20513\n",
            "   macro avg       0.47      0.57      0.46     20513\n",
            "weighted avg       0.62      0.53      0.56     20513\n",
            "\n"
          ]
        }
      ]
    }
  ]
}