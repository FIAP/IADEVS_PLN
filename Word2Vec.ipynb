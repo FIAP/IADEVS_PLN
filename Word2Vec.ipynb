{
  "nbformat": 4,
  "nbformat_minor": 0,
  "metadata": {
    "colab": {
      "provenance": [],
      "mount_file_id": "1g18LA905M5YQ-VZSnVAUtKNE0gv7yMgP",
      "authorship_tag": "ABX9TyMu16szu0YiM6nc2KxcBBc0",
      "include_colab_link": true
    },
    "kernelspec": {
      "name": "python3",
      "display_name": "Python 3"
    },
    "language_info": {
      "name": "python"
    }
  },
  "cells": [
    {
      "cell_type": "markdown",
      "metadata": {
        "id": "view-in-github",
        "colab_type": "text"
      },
      "source": [
        "<a href=\"https://colab.research.google.com/github/carlosaragao/PLN/blob/main/Word2Vec.ipynb\" target=\"_parent\"><img src=\"https://colab.research.google.com/assets/colab-badge.svg\" alt=\"Open In Colab\"/></a>"
      ]
    },
    {
      "cell_type": "code",
      "source": [
        "!unzip \"/content/drive/MyDrive/Colab Notebooks/Word2Vec/cbow_s300.zip\""
      ],
      "metadata": {
        "colab": {
          "base_uri": "https://localhost:8080/"
        },
        "id": "uCwbf8HSyzb4",
        "outputId": "7be1655f-512f-4a61-e28f-a99422180a31"
      },
      "execution_count": null,
      "outputs": [
        {
          "output_type": "stream",
          "name": "stdout",
          "text": [
            "Archive:  /content/drive/MyDrive/Colab Notebooks/Word2Vec/cbow_s300.zip\n",
            "replace cbow_s300.txt? [y]es, [n]o, [A]ll, [N]one, [r]ename: y\n",
            "  inflating: cbow_s300.txt           \n"
          ]
        }
      ]
    },
    {
      "cell_type": "code",
      "execution_count": null,
      "metadata": {
        "id": "nuhb7vweiES1"
      },
      "outputs": [],
      "source": [
        "import pandas as pd\n",
        "artigo_treino = pd.read_csv(\"/content/drive/MyDrive/Colab Notebooks/Word2Vec/treino.csv\")\n",
        "artigo_teste = pd.read_csv(\"/content/drive/MyDrive/Colab Notebooks/Word2Vec/teste.csv\")"
      ]
    },
    {
      "cell_type": "code",
      "source": [
        "artigo_treino.head(5)"
      ],
      "metadata": {
        "colab": {
          "base_uri": "https://localhost:8080/",
          "height": 553
        },
        "id": "sBULV_UkjK_z",
        "outputId": "a8b20836-7d55-4104-8129-f6a407922cf3"
      },
      "execution_count": null,
      "outputs": [
        {
          "output_type": "execute_result",
          "data": {
            "text/plain": [
              "                                               title  \\\n",
              "0  Após polêmica, Marine Le Pen diz que abomina n...   \n",
              "1  Macron e Le Pen vão ao 2º turno na França, em ...   \n",
              "2  Apesar de larga vitória nas legislativas, Macr...   \n",
              "3  Governo antecipa balanço, e Alckmin anuncia qu...   \n",
              "4  Após queda em maio, a atividade econômica sobe...   \n",
              "\n",
              "                                                text        date   category  \\\n",
              "0  A candidata da direita nacionalista à Presidên...  2017-04-28      mundo   \n",
              "1  O centrista independente Emmanuel Macron e a d...  2017-04-23      mundo   \n",
              "2  As eleições legislativas deste domingo (19) na...  2017-06-19      mundo   \n",
              "3  O número de ocorrências de homicídios dolosos ...  2015-07-24  cotidiano   \n",
              "4  A economia cresceu 0,25% no segundo trimestre,...  2017-08-17    mercado   \n",
              "\n",
              "  subcategory                                               link  \n",
              "0         NaN  http://www1.folha.uol.com.br/mundo/2017/04/187...  \n",
              "1         NaN  http://www1.folha.uol.com.br/mundo/2017/04/187...  \n",
              "2         NaN  http://www1.folha.uol.com.br/mundo/2017/06/189...  \n",
              "3         NaN  http://www1.folha.uol.com.br/cotidiano/2015/07...  \n",
              "4         NaN  http://www1.folha.uol.com.br/mercado/2017/08/1...  "
            ],
            "text/html": [
              "\n",
              "  <div id=\"df-b38b6a04-c2a9-4a94-8f96-ab55447a1efa\" class=\"colab-df-container\">\n",
              "    <div>\n",
              "<style scoped>\n",
              "    .dataframe tbody tr th:only-of-type {\n",
              "        vertical-align: middle;\n",
              "    }\n",
              "\n",
              "    .dataframe tbody tr th {\n",
              "        vertical-align: top;\n",
              "    }\n",
              "\n",
              "    .dataframe thead th {\n",
              "        text-align: right;\n",
              "    }\n",
              "</style>\n",
              "<table border=\"1\" class=\"dataframe\">\n",
              "  <thead>\n",
              "    <tr style=\"text-align: right;\">\n",
              "      <th></th>\n",
              "      <th>title</th>\n",
              "      <th>text</th>\n",
              "      <th>date</th>\n",
              "      <th>category</th>\n",
              "      <th>subcategory</th>\n",
              "      <th>link</th>\n",
              "    </tr>\n",
              "  </thead>\n",
              "  <tbody>\n",
              "    <tr>\n",
              "      <th>0</th>\n",
              "      <td>Após polêmica, Marine Le Pen diz que abomina n...</td>\n",
              "      <td>A candidata da direita nacionalista à Presidên...</td>\n",
              "      <td>2017-04-28</td>\n",
              "      <td>mundo</td>\n",
              "      <td>NaN</td>\n",
              "      <td>http://www1.folha.uol.com.br/mundo/2017/04/187...</td>\n",
              "    </tr>\n",
              "    <tr>\n",
              "      <th>1</th>\n",
              "      <td>Macron e Le Pen vão ao 2º turno na França, em ...</td>\n",
              "      <td>O centrista independente Emmanuel Macron e a d...</td>\n",
              "      <td>2017-04-23</td>\n",
              "      <td>mundo</td>\n",
              "      <td>NaN</td>\n",
              "      <td>http://www1.folha.uol.com.br/mundo/2017/04/187...</td>\n",
              "    </tr>\n",
              "    <tr>\n",
              "      <th>2</th>\n",
              "      <td>Apesar de larga vitória nas legislativas, Macr...</td>\n",
              "      <td>As eleições legislativas deste domingo (19) na...</td>\n",
              "      <td>2017-06-19</td>\n",
              "      <td>mundo</td>\n",
              "      <td>NaN</td>\n",
              "      <td>http://www1.folha.uol.com.br/mundo/2017/06/189...</td>\n",
              "    </tr>\n",
              "    <tr>\n",
              "      <th>3</th>\n",
              "      <td>Governo antecipa balanço, e Alckmin anuncia qu...</td>\n",
              "      <td>O número de ocorrências de homicídios dolosos ...</td>\n",
              "      <td>2015-07-24</td>\n",
              "      <td>cotidiano</td>\n",
              "      <td>NaN</td>\n",
              "      <td>http://www1.folha.uol.com.br/cotidiano/2015/07...</td>\n",
              "    </tr>\n",
              "    <tr>\n",
              "      <th>4</th>\n",
              "      <td>Após queda em maio, a atividade econômica sobe...</td>\n",
              "      <td>A economia cresceu 0,25% no segundo trimestre,...</td>\n",
              "      <td>2017-08-17</td>\n",
              "      <td>mercado</td>\n",
              "      <td>NaN</td>\n",
              "      <td>http://www1.folha.uol.com.br/mercado/2017/08/1...</td>\n",
              "    </tr>\n",
              "  </tbody>\n",
              "</table>\n",
              "</div>\n",
              "    <div class=\"colab-df-buttons\">\n",
              "\n",
              "  <div class=\"colab-df-container\">\n",
              "    <button class=\"colab-df-convert\" onclick=\"convertToInteractive('df-b38b6a04-c2a9-4a94-8f96-ab55447a1efa')\"\n",
              "            title=\"Convert this dataframe to an interactive table.\"\n",
              "            style=\"display:none;\">\n",
              "\n",
              "  <svg xmlns=\"http://www.w3.org/2000/svg\" height=\"24px\" viewBox=\"0 -960 960 960\">\n",
              "    <path d=\"M120-120v-720h720v720H120Zm60-500h600v-160H180v160Zm220 220h160v-160H400v160Zm0 220h160v-160H400v160ZM180-400h160v-160H180v160Zm440 0h160v-160H620v160ZM180-180h160v-160H180v160Zm440 0h160v-160H620v160Z\"/>\n",
              "  </svg>\n",
              "    </button>\n",
              "\n",
              "  <style>\n",
              "    .colab-df-container {\n",
              "      display:flex;\n",
              "      gap: 12px;\n",
              "    }\n",
              "\n",
              "    .colab-df-convert {\n",
              "      background-color: #E8F0FE;\n",
              "      border: none;\n",
              "      border-radius: 50%;\n",
              "      cursor: pointer;\n",
              "      display: none;\n",
              "      fill: #1967D2;\n",
              "      height: 32px;\n",
              "      padding: 0 0 0 0;\n",
              "      width: 32px;\n",
              "    }\n",
              "\n",
              "    .colab-df-convert:hover {\n",
              "      background-color: #E2EBFA;\n",
              "      box-shadow: 0px 1px 2px rgba(60, 64, 67, 0.3), 0px 1px 3px 1px rgba(60, 64, 67, 0.15);\n",
              "      fill: #174EA6;\n",
              "    }\n",
              "\n",
              "    .colab-df-buttons div {\n",
              "      margin-bottom: 4px;\n",
              "    }\n",
              "\n",
              "    [theme=dark] .colab-df-convert {\n",
              "      background-color: #3B4455;\n",
              "      fill: #D2E3FC;\n",
              "    }\n",
              "\n",
              "    [theme=dark] .colab-df-convert:hover {\n",
              "      background-color: #434B5C;\n",
              "      box-shadow: 0px 1px 3px 1px rgba(0, 0, 0, 0.15);\n",
              "      filter: drop-shadow(0px 1px 2px rgba(0, 0, 0, 0.3));\n",
              "      fill: #FFFFFF;\n",
              "    }\n",
              "  </style>\n",
              "\n",
              "    <script>\n",
              "      const buttonEl =\n",
              "        document.querySelector('#df-b38b6a04-c2a9-4a94-8f96-ab55447a1efa button.colab-df-convert');\n",
              "      buttonEl.style.display =\n",
              "        google.colab.kernel.accessAllowed ? 'block' : 'none';\n",
              "\n",
              "      async function convertToInteractive(key) {\n",
              "        const element = document.querySelector('#df-b38b6a04-c2a9-4a94-8f96-ab55447a1efa');\n",
              "        const dataTable =\n",
              "          await google.colab.kernel.invokeFunction('convertToInteractive',\n",
              "                                                    [key], {});\n",
              "        if (!dataTable) return;\n",
              "\n",
              "        const docLinkHtml = 'Like what you see? Visit the ' +\n",
              "          '<a target=\"_blank\" href=https://colab.research.google.com/notebooks/data_table.ipynb>data table notebook</a>'\n",
              "          + ' to learn more about interactive tables.';\n",
              "        element.innerHTML = '';\n",
              "        dataTable['output_type'] = 'display_data';\n",
              "        await google.colab.output.renderOutput(dataTable, element);\n",
              "        const docLink = document.createElement('div');\n",
              "        docLink.innerHTML = docLinkHtml;\n",
              "        element.appendChild(docLink);\n",
              "      }\n",
              "    </script>\n",
              "  </div>\n",
              "\n",
              "\n",
              "<div id=\"df-1aa1048a-8c43-48f8-abdb-1cefa9499df0\">\n",
              "  <button class=\"colab-df-quickchart\" onclick=\"quickchart('df-1aa1048a-8c43-48f8-abdb-1cefa9499df0')\"\n",
              "            title=\"Suggest charts\"\n",
              "            style=\"display:none;\">\n",
              "\n",
              "<svg xmlns=\"http://www.w3.org/2000/svg\" height=\"24px\"viewBox=\"0 0 24 24\"\n",
              "     width=\"24px\">\n",
              "    <g>\n",
              "        <path d=\"M19 3H5c-1.1 0-2 .9-2 2v14c0 1.1.9 2 2 2h14c1.1 0 2-.9 2-2V5c0-1.1-.9-2-2-2zM9 17H7v-7h2v7zm4 0h-2V7h2v10zm4 0h-2v-4h2v4z\"/>\n",
              "    </g>\n",
              "</svg>\n",
              "  </button>\n",
              "\n",
              "<style>\n",
              "  .colab-df-quickchart {\n",
              "      --bg-color: #E8F0FE;\n",
              "      --fill-color: #1967D2;\n",
              "      --hover-bg-color: #E2EBFA;\n",
              "      --hover-fill-color: #174EA6;\n",
              "      --disabled-fill-color: #AAA;\n",
              "      --disabled-bg-color: #DDD;\n",
              "  }\n",
              "\n",
              "  [theme=dark] .colab-df-quickchart {\n",
              "      --bg-color: #3B4455;\n",
              "      --fill-color: #D2E3FC;\n",
              "      --hover-bg-color: #434B5C;\n",
              "      --hover-fill-color: #FFFFFF;\n",
              "      --disabled-bg-color: #3B4455;\n",
              "      --disabled-fill-color: #666;\n",
              "  }\n",
              "\n",
              "  .colab-df-quickchart {\n",
              "    background-color: var(--bg-color);\n",
              "    border: none;\n",
              "    border-radius: 50%;\n",
              "    cursor: pointer;\n",
              "    display: none;\n",
              "    fill: var(--fill-color);\n",
              "    height: 32px;\n",
              "    padding: 0;\n",
              "    width: 32px;\n",
              "  }\n",
              "\n",
              "  .colab-df-quickchart:hover {\n",
              "    background-color: var(--hover-bg-color);\n",
              "    box-shadow: 0 1px 2px rgba(60, 64, 67, 0.3), 0 1px 3px 1px rgba(60, 64, 67, 0.15);\n",
              "    fill: var(--button-hover-fill-color);\n",
              "  }\n",
              "\n",
              "  .colab-df-quickchart-complete:disabled,\n",
              "  .colab-df-quickchart-complete:disabled:hover {\n",
              "    background-color: var(--disabled-bg-color);\n",
              "    fill: var(--disabled-fill-color);\n",
              "    box-shadow: none;\n",
              "  }\n",
              "\n",
              "  .colab-df-spinner {\n",
              "    border: 2px solid var(--fill-color);\n",
              "    border-color: transparent;\n",
              "    border-bottom-color: var(--fill-color);\n",
              "    animation:\n",
              "      spin 1s steps(1) infinite;\n",
              "  }\n",
              "\n",
              "  @keyframes spin {\n",
              "    0% {\n",
              "      border-color: transparent;\n",
              "      border-bottom-color: var(--fill-color);\n",
              "      border-left-color: var(--fill-color);\n",
              "    }\n",
              "    20% {\n",
              "      border-color: transparent;\n",
              "      border-left-color: var(--fill-color);\n",
              "      border-top-color: var(--fill-color);\n",
              "    }\n",
              "    30% {\n",
              "      border-color: transparent;\n",
              "      border-left-color: var(--fill-color);\n",
              "      border-top-color: var(--fill-color);\n",
              "      border-right-color: var(--fill-color);\n",
              "    }\n",
              "    40% {\n",
              "      border-color: transparent;\n",
              "      border-right-color: var(--fill-color);\n",
              "      border-top-color: var(--fill-color);\n",
              "    }\n",
              "    60% {\n",
              "      border-color: transparent;\n",
              "      border-right-color: var(--fill-color);\n",
              "    }\n",
              "    80% {\n",
              "      border-color: transparent;\n",
              "      border-right-color: var(--fill-color);\n",
              "      border-bottom-color: var(--fill-color);\n",
              "    }\n",
              "    90% {\n",
              "      border-color: transparent;\n",
              "      border-bottom-color: var(--fill-color);\n",
              "    }\n",
              "  }\n",
              "</style>\n",
              "\n",
              "  <script>\n",
              "    async function quickchart(key) {\n",
              "      const quickchartButtonEl =\n",
              "        document.querySelector('#' + key + ' button');\n",
              "      quickchartButtonEl.disabled = true;  // To prevent multiple clicks.\n",
              "      quickchartButtonEl.classList.add('colab-df-spinner');\n",
              "      try {\n",
              "        const charts = await google.colab.kernel.invokeFunction(\n",
              "            'suggestCharts', [key], {});\n",
              "      } catch (error) {\n",
              "        console.error('Error during call to suggestCharts:', error);\n",
              "      }\n",
              "      quickchartButtonEl.classList.remove('colab-df-spinner');\n",
              "      quickchartButtonEl.classList.add('colab-df-quickchart-complete');\n",
              "    }\n",
              "    (() => {\n",
              "      let quickchartButtonEl =\n",
              "        document.querySelector('#df-1aa1048a-8c43-48f8-abdb-1cefa9499df0 button');\n",
              "      quickchartButtonEl.style.display =\n",
              "        google.colab.kernel.accessAllowed ? 'block' : 'none';\n",
              "    })();\n",
              "  </script>\n",
              "</div>\n",
              "\n",
              "    </div>\n",
              "  </div>\n"
            ]
          },
          "metadata": {},
          "execution_count": 44
        }
      ]
    },
    {
      "cell_type": "code",
      "source": [
        "artigo_teste.head(5)"
      ],
      "metadata": {
        "colab": {
          "base_uri": "https://localhost:8080/",
          "height": 571
        },
        "id": "ijpRSvrhjNQ-",
        "outputId": "d9882434-f6d6-440e-b6e6-2db53cce5494"
      },
      "execution_count": null,
      "outputs": [
        {
          "output_type": "execute_result",
          "data": {
            "text/plain": [
              "                                               title  \\\n",
              "0                                     Grandes irmãos   \n",
              "1  Haddad congela orçamento e suspende emendas de...   \n",
              "2  Proposta de reforma da Fifa tem a divulgação d...   \n",
              "3  Mercado incipiente, internet das coisas conect...   \n",
              "4  Mortes: Psicanalista, estudou o autismo em cri...   \n",
              "\n",
              "                                                text        date   category  \\\n",
              "0  RIO DE JANEIRO - O Brasil, cada vez menos famí...  2017-03-06    colunas   \n",
              "1  O prefeito de São Paulo, Fernando Haddad (PT),...  2016-08-10    colunas   \n",
              "2  A Fifa divulgou, nesta quinta (10), um relatór...  2015-10-09    esporte   \n",
              "3  Bueiros, coleiras, aparelhos hospitalares, ele...  2016-11-09    mercado   \n",
              "4  Toda vez que o grupo de amigos de Silvana Rabe...  2017-02-07  cotidiano   \n",
              "\n",
              "     subcategory                                               link  \n",
              "0      ruycastro  http://www1.folha.uol.com.br/colunas/ruycastro...  \n",
              "1  monicabergamo  http://www1.folha.uol.com.br/colunas/monicaber...  \n",
              "2            NaN  http://www1.folha.uol.com.br/esporte/2015/09/1...  \n",
              "3            NaN  http://www1.folha.uol.com.br/mercado/2016/09/1...  \n",
              "4            NaN  http://www1.folha.uol.com.br/cotidiano/2017/07...  "
            ],
            "text/html": [
              "\n",
              "  <div id=\"df-15bbab2d-1583-4aa1-876c-644c840f5e7a\" class=\"colab-df-container\">\n",
              "    <div>\n",
              "<style scoped>\n",
              "    .dataframe tbody tr th:only-of-type {\n",
              "        vertical-align: middle;\n",
              "    }\n",
              "\n",
              "    .dataframe tbody tr th {\n",
              "        vertical-align: top;\n",
              "    }\n",
              "\n",
              "    .dataframe thead th {\n",
              "        text-align: right;\n",
              "    }\n",
              "</style>\n",
              "<table border=\"1\" class=\"dataframe\">\n",
              "  <thead>\n",
              "    <tr style=\"text-align: right;\">\n",
              "      <th></th>\n",
              "      <th>title</th>\n",
              "      <th>text</th>\n",
              "      <th>date</th>\n",
              "      <th>category</th>\n",
              "      <th>subcategory</th>\n",
              "      <th>link</th>\n",
              "    </tr>\n",
              "  </thead>\n",
              "  <tbody>\n",
              "    <tr>\n",
              "      <th>0</th>\n",
              "      <td>Grandes irmãos</td>\n",
              "      <td>RIO DE JANEIRO - O Brasil, cada vez menos famí...</td>\n",
              "      <td>2017-03-06</td>\n",
              "      <td>colunas</td>\n",
              "      <td>ruycastro</td>\n",
              "      <td>http://www1.folha.uol.com.br/colunas/ruycastro...</td>\n",
              "    </tr>\n",
              "    <tr>\n",
              "      <th>1</th>\n",
              "      <td>Haddad congela orçamento e suspende emendas de...</td>\n",
              "      <td>O prefeito de São Paulo, Fernando Haddad (PT),...</td>\n",
              "      <td>2016-08-10</td>\n",
              "      <td>colunas</td>\n",
              "      <td>monicabergamo</td>\n",
              "      <td>http://www1.folha.uol.com.br/colunas/monicaber...</td>\n",
              "    </tr>\n",
              "    <tr>\n",
              "      <th>2</th>\n",
              "      <td>Proposta de reforma da Fifa tem a divulgação d...</td>\n",
              "      <td>A Fifa divulgou, nesta quinta (10), um relatór...</td>\n",
              "      <td>2015-10-09</td>\n",
              "      <td>esporte</td>\n",
              "      <td>NaN</td>\n",
              "      <td>http://www1.folha.uol.com.br/esporte/2015/09/1...</td>\n",
              "    </tr>\n",
              "    <tr>\n",
              "      <th>3</th>\n",
              "      <td>Mercado incipiente, internet das coisas conect...</td>\n",
              "      <td>Bueiros, coleiras, aparelhos hospitalares, ele...</td>\n",
              "      <td>2016-11-09</td>\n",
              "      <td>mercado</td>\n",
              "      <td>NaN</td>\n",
              "      <td>http://www1.folha.uol.com.br/mercado/2016/09/1...</td>\n",
              "    </tr>\n",
              "    <tr>\n",
              "      <th>4</th>\n",
              "      <td>Mortes: Psicanalista, estudou o autismo em cri...</td>\n",
              "      <td>Toda vez que o grupo de amigos de Silvana Rabe...</td>\n",
              "      <td>2017-02-07</td>\n",
              "      <td>cotidiano</td>\n",
              "      <td>NaN</td>\n",
              "      <td>http://www1.folha.uol.com.br/cotidiano/2017/07...</td>\n",
              "    </tr>\n",
              "  </tbody>\n",
              "</table>\n",
              "</div>\n",
              "    <div class=\"colab-df-buttons\">\n",
              "\n",
              "  <div class=\"colab-df-container\">\n",
              "    <button class=\"colab-df-convert\" onclick=\"convertToInteractive('df-15bbab2d-1583-4aa1-876c-644c840f5e7a')\"\n",
              "            title=\"Convert this dataframe to an interactive table.\"\n",
              "            style=\"display:none;\">\n",
              "\n",
              "  <svg xmlns=\"http://www.w3.org/2000/svg\" height=\"24px\" viewBox=\"0 -960 960 960\">\n",
              "    <path d=\"M120-120v-720h720v720H120Zm60-500h600v-160H180v160Zm220 220h160v-160H400v160Zm0 220h160v-160H400v160ZM180-400h160v-160H180v160Zm440 0h160v-160H620v160ZM180-180h160v-160H180v160Zm440 0h160v-160H620v160Z\"/>\n",
              "  </svg>\n",
              "    </button>\n",
              "\n",
              "  <style>\n",
              "    .colab-df-container {\n",
              "      display:flex;\n",
              "      gap: 12px;\n",
              "    }\n",
              "\n",
              "    .colab-df-convert {\n",
              "      background-color: #E8F0FE;\n",
              "      border: none;\n",
              "      border-radius: 50%;\n",
              "      cursor: pointer;\n",
              "      display: none;\n",
              "      fill: #1967D2;\n",
              "      height: 32px;\n",
              "      padding: 0 0 0 0;\n",
              "      width: 32px;\n",
              "    }\n",
              "\n",
              "    .colab-df-convert:hover {\n",
              "      background-color: #E2EBFA;\n",
              "      box-shadow: 0px 1px 2px rgba(60, 64, 67, 0.3), 0px 1px 3px 1px rgba(60, 64, 67, 0.15);\n",
              "      fill: #174EA6;\n",
              "    }\n",
              "\n",
              "    .colab-df-buttons div {\n",
              "      margin-bottom: 4px;\n",
              "    }\n",
              "\n",
              "    [theme=dark] .colab-df-convert {\n",
              "      background-color: #3B4455;\n",
              "      fill: #D2E3FC;\n",
              "    }\n",
              "\n",
              "    [theme=dark] .colab-df-convert:hover {\n",
              "      background-color: #434B5C;\n",
              "      box-shadow: 0px 1px 3px 1px rgba(0, 0, 0, 0.15);\n",
              "      filter: drop-shadow(0px 1px 2px rgba(0, 0, 0, 0.3));\n",
              "      fill: #FFFFFF;\n",
              "    }\n",
              "  </style>\n",
              "\n",
              "    <script>\n",
              "      const buttonEl =\n",
              "        document.querySelector('#df-15bbab2d-1583-4aa1-876c-644c840f5e7a button.colab-df-convert');\n",
              "      buttonEl.style.display =\n",
              "        google.colab.kernel.accessAllowed ? 'block' : 'none';\n",
              "\n",
              "      async function convertToInteractive(key) {\n",
              "        const element = document.querySelector('#df-15bbab2d-1583-4aa1-876c-644c840f5e7a');\n",
              "        const dataTable =\n",
              "          await google.colab.kernel.invokeFunction('convertToInteractive',\n",
              "                                                    [key], {});\n",
              "        if (!dataTable) return;\n",
              "\n",
              "        const docLinkHtml = 'Like what you see? Visit the ' +\n",
              "          '<a target=\"_blank\" href=https://colab.research.google.com/notebooks/data_table.ipynb>data table notebook</a>'\n",
              "          + ' to learn more about interactive tables.';\n",
              "        element.innerHTML = '';\n",
              "        dataTable['output_type'] = 'display_data';\n",
              "        await google.colab.output.renderOutput(dataTable, element);\n",
              "        const docLink = document.createElement('div');\n",
              "        docLink.innerHTML = docLinkHtml;\n",
              "        element.appendChild(docLink);\n",
              "      }\n",
              "    </script>\n",
              "  </div>\n",
              "\n",
              "\n",
              "<div id=\"df-5238df88-cac5-4e71-8e85-e1946ded71e7\">\n",
              "  <button class=\"colab-df-quickchart\" onclick=\"quickchart('df-5238df88-cac5-4e71-8e85-e1946ded71e7')\"\n",
              "            title=\"Suggest charts\"\n",
              "            style=\"display:none;\">\n",
              "\n",
              "<svg xmlns=\"http://www.w3.org/2000/svg\" height=\"24px\"viewBox=\"0 0 24 24\"\n",
              "     width=\"24px\">\n",
              "    <g>\n",
              "        <path d=\"M19 3H5c-1.1 0-2 .9-2 2v14c0 1.1.9 2 2 2h14c1.1 0 2-.9 2-2V5c0-1.1-.9-2-2-2zM9 17H7v-7h2v7zm4 0h-2V7h2v10zm4 0h-2v-4h2v4z\"/>\n",
              "    </g>\n",
              "</svg>\n",
              "  </button>\n",
              "\n",
              "<style>\n",
              "  .colab-df-quickchart {\n",
              "      --bg-color: #E8F0FE;\n",
              "      --fill-color: #1967D2;\n",
              "      --hover-bg-color: #E2EBFA;\n",
              "      --hover-fill-color: #174EA6;\n",
              "      --disabled-fill-color: #AAA;\n",
              "      --disabled-bg-color: #DDD;\n",
              "  }\n",
              "\n",
              "  [theme=dark] .colab-df-quickchart {\n",
              "      --bg-color: #3B4455;\n",
              "      --fill-color: #D2E3FC;\n",
              "      --hover-bg-color: #434B5C;\n",
              "      --hover-fill-color: #FFFFFF;\n",
              "      --disabled-bg-color: #3B4455;\n",
              "      --disabled-fill-color: #666;\n",
              "  }\n",
              "\n",
              "  .colab-df-quickchart {\n",
              "    background-color: var(--bg-color);\n",
              "    border: none;\n",
              "    border-radius: 50%;\n",
              "    cursor: pointer;\n",
              "    display: none;\n",
              "    fill: var(--fill-color);\n",
              "    height: 32px;\n",
              "    padding: 0;\n",
              "    width: 32px;\n",
              "  }\n",
              "\n",
              "  .colab-df-quickchart:hover {\n",
              "    background-color: var(--hover-bg-color);\n",
              "    box-shadow: 0 1px 2px rgba(60, 64, 67, 0.3), 0 1px 3px 1px rgba(60, 64, 67, 0.15);\n",
              "    fill: var(--button-hover-fill-color);\n",
              "  }\n",
              "\n",
              "  .colab-df-quickchart-complete:disabled,\n",
              "  .colab-df-quickchart-complete:disabled:hover {\n",
              "    background-color: var(--disabled-bg-color);\n",
              "    fill: var(--disabled-fill-color);\n",
              "    box-shadow: none;\n",
              "  }\n",
              "\n",
              "  .colab-df-spinner {\n",
              "    border: 2px solid var(--fill-color);\n",
              "    border-color: transparent;\n",
              "    border-bottom-color: var(--fill-color);\n",
              "    animation:\n",
              "      spin 1s steps(1) infinite;\n",
              "  }\n",
              "\n",
              "  @keyframes spin {\n",
              "    0% {\n",
              "      border-color: transparent;\n",
              "      border-bottom-color: var(--fill-color);\n",
              "      border-left-color: var(--fill-color);\n",
              "    }\n",
              "    20% {\n",
              "      border-color: transparent;\n",
              "      border-left-color: var(--fill-color);\n",
              "      border-top-color: var(--fill-color);\n",
              "    }\n",
              "    30% {\n",
              "      border-color: transparent;\n",
              "      border-left-color: var(--fill-color);\n",
              "      border-top-color: var(--fill-color);\n",
              "      border-right-color: var(--fill-color);\n",
              "    }\n",
              "    40% {\n",
              "      border-color: transparent;\n",
              "      border-right-color: var(--fill-color);\n",
              "      border-top-color: var(--fill-color);\n",
              "    }\n",
              "    60% {\n",
              "      border-color: transparent;\n",
              "      border-right-color: var(--fill-color);\n",
              "    }\n",
              "    80% {\n",
              "      border-color: transparent;\n",
              "      border-right-color: var(--fill-color);\n",
              "      border-bottom-color: var(--fill-color);\n",
              "    }\n",
              "    90% {\n",
              "      border-color: transparent;\n",
              "      border-bottom-color: var(--fill-color);\n",
              "    }\n",
              "  }\n",
              "</style>\n",
              "\n",
              "  <script>\n",
              "    async function quickchart(key) {\n",
              "      const quickchartButtonEl =\n",
              "        document.querySelector('#' + key + ' button');\n",
              "      quickchartButtonEl.disabled = true;  // To prevent multiple clicks.\n",
              "      quickchartButtonEl.classList.add('colab-df-spinner');\n",
              "      try {\n",
              "        const charts = await google.colab.kernel.invokeFunction(\n",
              "            'suggestCharts', [key], {});\n",
              "      } catch (error) {\n",
              "        console.error('Error during call to suggestCharts:', error);\n",
              "      }\n",
              "      quickchartButtonEl.classList.remove('colab-df-spinner');\n",
              "      quickchartButtonEl.classList.add('colab-df-quickchart-complete');\n",
              "    }\n",
              "    (() => {\n",
              "      let quickchartButtonEl =\n",
              "        document.querySelector('#df-5238df88-cac5-4e71-8e85-e1946ded71e7 button');\n",
              "      quickchartButtonEl.style.display =\n",
              "        google.colab.kernel.accessAllowed ? 'block' : 'none';\n",
              "    })();\n",
              "  </script>\n",
              "</div>\n",
              "\n",
              "    </div>\n",
              "  </div>\n"
            ]
          },
          "metadata": {},
          "execution_count": 45
        }
      ]
    },
    {
      "cell_type": "code",
      "source": [
        "from sklearn.feature_extraction.text import CountVectorizer\n",
        "\n",
        "texto = [\n",
        "    \"Este produto é muito bom\",\n",
        "    \"Este produto é muito ruim\"\n",
        "]\n",
        "\n",
        "vetorizador = CountVectorizer()\n",
        "vetorizador.fit(texto)"
      ],
      "metadata": {
        "colab": {
          "base_uri": "https://localhost:8080/",
          "height": 75
        },
        "id": "xwv89QWtm1Zi",
        "outputId": "1ef179ca-e1d4-4f42-bdbf-3980ccc8d739"
      },
      "execution_count": null,
      "outputs": [
        {
          "output_type": "execute_result",
          "data": {
            "text/plain": [
              "CountVectorizer()"
            ],
            "text/html": [
              "<style>#sk-container-id-4 {color: black;background-color: white;}#sk-container-id-4 pre{padding: 0;}#sk-container-id-4 div.sk-toggleable {background-color: white;}#sk-container-id-4 label.sk-toggleable__label {cursor: pointer;display: block;width: 100%;margin-bottom: 0;padding: 0.3em;box-sizing: border-box;text-align: center;}#sk-container-id-4 label.sk-toggleable__label-arrow:before {content: \"▸\";float: left;margin-right: 0.25em;color: #696969;}#sk-container-id-4 label.sk-toggleable__label-arrow:hover:before {color: black;}#sk-container-id-4 div.sk-estimator:hover label.sk-toggleable__label-arrow:before {color: black;}#sk-container-id-4 div.sk-toggleable__content {max-height: 0;max-width: 0;overflow: hidden;text-align: left;background-color: #f0f8ff;}#sk-container-id-4 div.sk-toggleable__content pre {margin: 0.2em;color: black;border-radius: 0.25em;background-color: #f0f8ff;}#sk-container-id-4 input.sk-toggleable__control:checked~div.sk-toggleable__content {max-height: 200px;max-width: 100%;overflow: auto;}#sk-container-id-4 input.sk-toggleable__control:checked~label.sk-toggleable__label-arrow:before {content: \"▾\";}#sk-container-id-4 div.sk-estimator input.sk-toggleable__control:checked~label.sk-toggleable__label {background-color: #d4ebff;}#sk-container-id-4 div.sk-label input.sk-toggleable__control:checked~label.sk-toggleable__label {background-color: #d4ebff;}#sk-container-id-4 input.sk-hidden--visually {border: 0;clip: rect(1px 1px 1px 1px);clip: rect(1px, 1px, 1px, 1px);height: 1px;margin: -1px;overflow: hidden;padding: 0;position: absolute;width: 1px;}#sk-container-id-4 div.sk-estimator {font-family: monospace;background-color: #f0f8ff;border: 1px dotted black;border-radius: 0.25em;box-sizing: border-box;margin-bottom: 0.5em;}#sk-container-id-4 div.sk-estimator:hover {background-color: #d4ebff;}#sk-container-id-4 div.sk-parallel-item::after {content: \"\";width: 100%;border-bottom: 1px solid gray;flex-grow: 1;}#sk-container-id-4 div.sk-label:hover label.sk-toggleable__label {background-color: #d4ebff;}#sk-container-id-4 div.sk-serial::before {content: \"\";position: absolute;border-left: 1px solid gray;box-sizing: border-box;top: 0;bottom: 0;left: 50%;z-index: 0;}#sk-container-id-4 div.sk-serial {display: flex;flex-direction: column;align-items: center;background-color: white;padding-right: 0.2em;padding-left: 0.2em;position: relative;}#sk-container-id-4 div.sk-item {position: relative;z-index: 1;}#sk-container-id-4 div.sk-parallel {display: flex;align-items: stretch;justify-content: center;background-color: white;position: relative;}#sk-container-id-4 div.sk-item::before, #sk-container-id-4 div.sk-parallel-item::before {content: \"\";position: absolute;border-left: 1px solid gray;box-sizing: border-box;top: 0;bottom: 0;left: 50%;z-index: -1;}#sk-container-id-4 div.sk-parallel-item {display: flex;flex-direction: column;z-index: 1;position: relative;background-color: white;}#sk-container-id-4 div.sk-parallel-item:first-child::after {align-self: flex-end;width: 50%;}#sk-container-id-4 div.sk-parallel-item:last-child::after {align-self: flex-start;width: 50%;}#sk-container-id-4 div.sk-parallel-item:only-child::after {width: 0;}#sk-container-id-4 div.sk-dashed-wrapped {border: 1px dashed gray;margin: 0 0.4em 0.5em 0.4em;box-sizing: border-box;padding-bottom: 0.4em;background-color: white;}#sk-container-id-4 div.sk-label label {font-family: monospace;font-weight: bold;display: inline-block;line-height: 1.2em;}#sk-container-id-4 div.sk-label-container {text-align: center;}#sk-container-id-4 div.sk-container {/* jupyter's `normalize.less` sets `[hidden] { display: none; }` but bootstrap.min.css set `[hidden] { display: none !important; }` so we also need the `!important` here to be able to override the default hidden behavior on the sphinx rendered scikit-learn.org. See: https://github.com/scikit-learn/scikit-learn/issues/21755 */display: inline-block !important;position: relative;}#sk-container-id-4 div.sk-text-repr-fallback {display: none;}</style><div id=\"sk-container-id-4\" class=\"sk-top-container\"><div class=\"sk-text-repr-fallback\"><pre>CountVectorizer()</pre><b>In a Jupyter environment, please rerun this cell to show the HTML representation or trust the notebook. <br />On GitHub, the HTML representation is unable to render, please try loading this page with nbviewer.org.</b></div><div class=\"sk-container\" hidden><div class=\"sk-item\"><div class=\"sk-estimator sk-toggleable\"><input class=\"sk-toggleable__control sk-hidden--visually\" id=\"sk-estimator-id-4\" type=\"checkbox\" checked><label for=\"sk-estimator-id-4\" class=\"sk-toggleable__label sk-toggleable__label-arrow\">CountVectorizer</label><div class=\"sk-toggleable__content\"><pre>CountVectorizer()</pre></div></div></div></div></div>"
            ]
          },
          "metadata": {},
          "execution_count": 46
        }
      ]
    },
    {
      "cell_type": "code",
      "source": [
        "print(vetorizador.vocabulary_)"
      ],
      "metadata": {
        "colab": {
          "base_uri": "https://localhost:8080/"
        },
        "id": "g200UV-3nMpe",
        "outputId": "3c4105d8-05ee-46da-ebf8-e84b27c9e379"
      },
      "execution_count": null,
      "outputs": [
        {
          "output_type": "stream",
          "name": "stdout",
          "text": [
            "{'este': 1, 'produto': 3, 'muito': 2, 'bom': 0, 'ruim': 4}\n"
          ]
        }
      ]
    },
    {
      "cell_type": "code",
      "source": [
        "vetor_bom = vetorizador.transform([\"bom\"])\n",
        "print(vetor_bom.toarray())"
      ],
      "metadata": {
        "colab": {
          "base_uri": "https://localhost:8080/"
        },
        "id": "sKB08rxBnTVw",
        "outputId": "5f841e6f-0969-446a-bfd3-66797ac98842"
      },
      "execution_count": null,
      "outputs": [
        {
          "output_type": "stream",
          "name": "stdout",
          "text": [
            "[[1 0 0 0 0]]\n"
          ]
        }
      ]
    },
    {
      "cell_type": "code",
      "source": [
        "with open(\"cbow_s300.txt\") as f:\n",
        "  for linha in range(50):\n",
        "    print(next(f))"
      ],
      "metadata": {
        "colab": {
          "base_uri": "https://localhost:8080/"
        },
        "id": "s63svKiiysOH",
        "outputId": "a4013453-146f-454a-853f-bfdb2484f0cb"
      },
      "execution_count": null,
      "outputs": [
        {
          "output_type": "stream",
          "name": "stdout",
          "text": [
            "929606 300\n",
            "\n",
            "</s> -0.001667 -0.000158 -0.000026 0.001300 -0.000796 0.001527 0.000046 0.000584 0.000449 -0.000100 0.000353 0.001251 0.001069 0.000506 0.000574 0.000838 -0.000930 -0.001220 0.000317 0.001315 -0.001120 0.001373 -0.000040 -0.001580 0.000421 -0.000667 -0.001556 -0.000746 0.001604 0.001157 -0.000027 0.000354 0.000358 -0.000527 -0.000573 -0.001512 -0.001557 -0.001637 0.001617 -0.001511 -0.001022 -0.001426 0.001086 -0.001033 0.000593 0.000724 0.000627 -0.000450 -0.001140 0.000333 0.000524 0.001541 0.000284 0.000617 -0.000807 -0.000088 -0.000364 0.001126 -0.001230 -0.001138 -0.001280 0.001330 0.001257 0.000576 0.000764 0.000684 0.001008 -0.000215 -0.000629 -0.001228 -0.001557 -0.000311 -0.000246 0.000045 0.001136 -0.000645 -0.000549 0.001099 0.000858 -0.000886 0.000553 0.000303 0.001433 0.000732 0.001321 -0.000894 -0.000700 -0.000661 -0.001484 -0.000950 -0.001556 -0.000809 0.000348 -0.000068 0.000724 -0.000569 -0.000161 -0.001628 -0.001437 -0.000259 -0.000296 -0.001571 0.000149 0.000847 0.000613 0.000802 0.001507 0.001015 0.000377 0.000255 -0.000458 -0.000777 -0.001561 0.001601 -0.001520 -0.001210 0.000106 0.000714 0.000392 0.001311 -0.001192 -0.000090 -0.001097 0.000424 -0.000954 -0.001272 -0.001178 0.000036 -0.000181 0.000331 -0.001453 -0.001488 -0.001033 -0.000377 0.000257 -0.001418 0.001109 0.000722 0.000936 -0.000113 0.001215 -0.000263 0.000652 0.001190 -0.000258 0.001391 0.001213 0.000783 -0.001202 0.000470 -0.000879 0.000688 -0.001163 -0.001105 0.001497 0.001304 -0.001322 -0.001501 0.001377 0.001439 0.000884 0.000484 0.001239 -0.001578 0.000981 -0.000318 -0.001180 -0.001375 -0.001491 0.001057 -0.001028 0.000893 0.001028 0.000772 0.001636 -0.000331 -0.000247 -0.001006 -0.000329 0.000837 0.000605 -0.000959 0.001410 0.000488 0.001167 -0.000293 -0.001188 -0.000001 0.001135 0.001141 0.001504 0.000198 -0.001060 0.001551 -0.000003 -0.001474 -0.000391 -0.000880 0.000433 -0.000976 -0.001417 0.000563 -0.001188 0.000593 0.001584 -0.001602 -0.000439 -0.001148 -0.001256 0.001185 -0.000738 0.001543 -0.000846 -0.001029 -0.000641 -0.001587 0.001439 -0.001251 0.000942 -0.001414 -0.001106 0.001087 -0.000027 0.000757 -0.000159 -0.001014 -0.000891 0.000024 -0.000238 0.000157 -0.001067 0.000902 -0.001050 -0.000428 -0.001606 -0.000988 0.001391 0.001165 -0.000113 -0.001000 -0.000055 -0.001369 0.000684 0.000715 0.001407 0.000613 0.001389 0.001315 -0.000130 -0.001044 0.000175 -0.000035 0.000959 -0.000345 0.001209 -0.001251 -0.001219 0.001231 -0.000996 -0.001388 0.001038 0.001336 -0.001066 -0.000881 -0.001066 -0.001466 -0.000274 0.000201 0.000401 0.000132 0.000588 0.000589 -0.000128 0.001073 0.001197 0.000109 0.000770 0.001221 0.000996 -0.001174 0.000135 -0.001134 -0.001385 -0.000311 -0.001631 -0.000564 0.001162 -0.000322 -0.000469 0.001312 -0.001402 0.000239 0.000184 0.001300 0.000021 -0.001065 0.000047 -0.000301 0.001336 0.000332\n",
            "\n",
            ", -0.061483 -0.094368 -0.008557 -0.034702 0.021108 -0.011873 -0.041133 -0.095925 0.034668 -0.085286 0.076174 0.003314 0.019222 -0.038695 -0.008963 0.053399 0.162935 0.050372 -0.020163 -0.027230 0.061531 0.060840 0.074610 -0.056173 0.007621 -0.055220 0.018008 0.026096 0.033154 -0.082612 -0.081761 0.164978 -0.034423 0.003094 -0.018217 -0.087445 -0.074446 -0.000142 0.004218 0.036585 0.016095 -0.129141 -0.119698 -0.053717 0.005053 -0.114520 -0.017219 0.023693 -0.024115 0.053125 0.024658 -0.037689 0.012078 0.112701 0.028037 0.047618 -0.024196 0.050112 -0.073095 -0.090859 -0.030613 -0.109599 0.037756 0.063827 0.022537 -0.029640 -0.016311 0.021875 0.064882 0.039002 -0.082970 -0.043166 0.013695 -0.043153 -0.082203 -0.020087 -0.100360 0.007033 -0.074208 -0.067789 -0.024897 -0.020358 0.041731 0.101332 0.020217 -0.032473 0.087827 -0.033611 -0.150526 -0.016615 0.021147 -0.025058 0.097833 0.065067 0.051287 -0.079191 0.089563 -0.008436 -0.038352 0.019787 -0.058452 -0.009696 -0.051077 -0.112245 0.024886 -0.015172 -0.129670 0.068672 0.068483 0.009049 0.007055 -0.032763 0.001527 0.054264 0.029924 -0.023482 0.047470 0.008044 0.014534 0.071155 0.016700 -0.027491 -0.155782 0.039370 0.116605 -0.001262 -0.026638 -0.067078 0.078015 -0.066153 -0.039303 0.009535 -0.055698 -0.022250 0.046948 0.053810 0.038096 0.032157 -0.075257 0.008125 -0.034598 -0.020667 -0.003153 0.032491 -0.031064 0.030744 -0.049023 -0.046149 0.000792 0.010385 -0.057119 -0.122554 0.003210 -0.054363 -0.100899 0.069873 -0.009758 0.055455 0.049243 0.008346 -0.016087 0.093572 0.024125 0.058736 0.037243 -0.007478 0.032175 -0.054205 0.008798 0.032326 0.028384 -0.032259 -0.041842 -0.058281 -0.025145 0.011097 0.023598 -0.033376 0.026204 0.032505 -0.009283 0.041076 0.055565 -0.081757 -0.010077 0.058251 -0.014379 -0.040951 0.006938 -0.004179 0.052006 -0.063725 0.035674 -0.066554 0.030910 -0.004032 0.077445 0.029495 -0.064931 0.040263 -0.055423 -0.021571 0.086767 -0.003583 0.073308 -0.043991 0.022503 -0.028692 -0.063626 -0.048238 0.013439 -0.043673 -0.101352 -0.004321 0.125507 0.088486 0.042756 -0.014497 -0.053445 0.021800 0.038406 -0.034023 -0.074428 -0.132825 0.082152 -0.068497 0.004738 0.047527 -0.073890 0.051089 -0.055886 -0.047786 0.040247 -0.053966 -0.015752 0.099451 0.008218 -0.010716 -0.031540 0.036168 0.054244 0.051809 0.035158 0.043006 -0.027902 0.000130 0.103397 -0.114831 -0.036648 -0.036143 0.024432 0.084740 0.001801 0.044475 -0.035746 -0.024109 0.051210 -0.025769 0.016073 -0.000351 -0.029183 -0.075292 0.042163 0.025010 -0.041439 -0.059192 0.026617 -0.040852 0.034697 0.014691 -0.057382 0.046141 0.070360 0.045274 0.065880 0.011023 -0.031292 -0.015784 -0.023421 -0.042788 0.019669 0.035010 0.036188 -0.058060 -0.093562 0.030321 -0.054753 0.097162 0.001134 0.018939 -0.150218 -0.009928 0.051118 0.105212 -0.055051 -0.047959 -0.136800 -0.003198 0.068969 -0.022456\n",
            "\n",
            "de -0.232068 0.066729 0.103946 -0.072608 0.126237 -0.004782 -0.025139 -0.141489 -0.069438 -0.071078 0.175772 -0.017257 0.094824 0.011020 0.029226 -0.010670 0.144973 0.105333 -0.088273 -0.070952 0.054747 -0.048955 -0.047809 -0.030763 -0.052293 -0.003596 0.078465 0.144430 0.129697 -0.078427 -0.025080 0.212887 0.119806 0.101703 -0.142488 -0.031272 -0.026594 -0.109429 -0.154688 -0.121492 -0.103781 -0.177948 -0.125544 -0.120136 0.031658 0.054160 0.060493 -0.115676 0.132511 -0.001668 -0.125569 -0.124120 0.029025 0.006200 -0.007915 0.058489 0.122710 0.004660 -0.082200 0.123740 0.052747 -0.065657 0.154747 0.155071 0.003547 -0.154675 -0.035110 0.119117 0.080579 0.044262 0.048753 0.054975 -0.064624 -0.046866 0.028242 0.144197 0.029916 -0.024569 0.195781 -0.028608 -0.008233 -0.032542 0.012042 0.011934 -0.068173 0.037028 0.018363 -0.038244 -0.091176 -0.019795 0.051640 -0.008025 -0.025825 -0.001686 -0.069845 -0.039987 0.066244 0.088229 -0.171358 -0.030783 0.082344 0.059267 0.000550 -0.216285 -0.201356 -0.131063 -0.033069 -0.057126 -0.127576 -0.099251 -0.044669 0.035363 -0.119503 -0.090019 -0.006226 -0.000546 0.020731 0.016140 -0.007438 0.032885 -0.161048 0.105681 -0.115705 -0.078013 0.102293 -0.107958 -0.025926 -0.067986 0.017502 -0.054865 -0.007930 -0.006999 -0.000949 -0.026097 0.106295 0.115368 -0.033742 -0.046025 0.009641 -0.065890 0.198822 0.078333 0.062547 0.044947 -0.098424 0.140951 0.109045 -0.004204 -0.174950 0.034234 0.040793 -0.210289 0.104861 0.083616 -0.042511 -0.031439 -0.113108 0.000401 -0.171665 0.097890 0.008065 0.080684 -0.009576 -0.042125 0.177337 -0.005585 -0.004165 0.069755 -0.100323 -0.023289 0.039458 -0.089292 0.069543 -0.009576 0.011562 -0.076654 0.009681 -0.018808 -0.047881 0.026709 -0.021200 -0.032544 0.100362 0.037157 0.005169 -0.001280 -0.064330 -0.049024 -0.002354 0.004443 0.049129 0.026813 0.034249 0.068827 -0.038583 -0.116914 -0.107378 0.046983 0.038218 -0.082186 -0.124208 0.066872 -0.081745 -0.016516 0.016110 0.046844 0.176223 0.083604 -0.086893 -0.114739 -0.159588 0.007700 0.004887 0.006024 -0.020026 0.045816 0.033604 0.054474 0.089348 -0.024353 0.104835 0.084334 0.052662 -0.041422 -0.027877 0.002816 0.150068 -0.052310 0.017154 -0.152326 0.067753 -0.082644 0.119430 -0.012345 0.082965 -0.005791 -0.082770 -0.030068 -0.037331 -0.075347 0.035060 -0.092023 -0.001051 0.012675 0.128757 -0.048579 -0.078527 -0.134126 -0.060009 0.096834 -0.045947 0.132404 -0.030576 -0.006618 -0.088179 -0.124597 -0.095311 -0.086943 0.007010 0.059925 -0.077005 -0.035458 -0.017957 0.081104 0.060141 0.152996 0.083737 -0.025909 0.005420 -0.006300 -0.075839 -0.012399 -0.001624 0.039090 -0.040755 -0.013051 -0.072733 -0.048062 -0.082573 -0.013851 -0.120222 0.011452 -0.083538 0.015996 -0.110800 0.012405 0.045823 0.026705 -0.040789 0.064309 0.007381 -0.037854 0.076050 0.104702 0.010307 -0.103478 0.085227 0.064233 -0.015908 -0.047998\n",
            "\n",
            ". 0.027867 0.077901 -0.054738 -0.095938 -0.010536 0.015269 -0.005752 -0.048440 -0.104021 0.054583 0.050108 0.054979 0.071112 -0.056665 -0.140868 0.203626 0.211330 0.137270 -0.038069 -0.108607 0.060027 0.052436 0.126758 -0.078212 0.008864 -0.028087 0.029884 0.114899 -0.058657 -0.166441 -0.188866 0.294844 -0.147703 -0.095883 -0.104021 -0.097608 -0.172317 0.035795 -0.019025 0.057503 -0.030564 -0.125182 -0.257359 -0.106566 -0.002708 -0.035769 -0.072053 -0.005640 0.016920 0.155101 -0.226088 -0.070904 -0.110280 -0.075773 -0.190123 0.197397 -0.108603 0.155954 0.096544 -0.183301 0.008154 -0.195997 0.035284 -0.025561 0.159142 -0.141005 0.140643 -0.160588 0.140709 0.059974 -0.012396 -0.074953 -0.038325 -0.165941 -0.226005 -0.043738 0.052905 0.085072 -0.165731 0.016894 -0.136569 0.088165 -0.032044 0.022789 0.051207 0.015907 0.093662 0.037576 -0.286139 -0.107587 0.165001 0.095293 0.181427 0.038072 0.078180 -0.116599 0.138464 0.138386 0.020201 -0.028087 0.038829 -0.040074 -0.044944 -0.179895 0.035044 0.090347 -0.036088 0.154828 0.090421 0.172175 -0.127294 0.060227 0.164694 0.141367 0.049326 -0.136940 0.060633 -0.089581 -0.069639 0.043680 0.141455 -0.060588 -0.118859 0.181506 -0.051302 0.165763 0.151366 -0.191232 -0.103888 -0.077344 -0.016534 0.073607 -0.008464 0.216368 0.038251 0.002552 -0.112613 -0.049596 0.018040 -0.032907 -0.131335 -0.049530 0.057485 0.129446 -0.017884 0.075667 -0.061577 -0.015305 0.007649 0.116636 -0.132568 -0.244250 -0.048748 0.003139 -0.123311 0.018462 0.126955 0.079116 -0.067653 0.019126 0.044182 0.037610 0.199809 -0.118487 0.011276 -0.061652 -0.034426 -0.120148 -0.171490 0.009182 0.182921 -0.165212 0.149898 0.062080 -0.129040 0.051808 -0.075070 -0.068688 0.018707 -0.008050 0.108429 -0.111089 0.021230 -0.125982 0.077740 0.140251 -0.051900 0.036107 0.019580 -0.084050 0.065747 0.015718 -0.016900 -0.026964 0.126565 -0.087491 0.069504 0.108362 -0.006355 0.118521 -0.002510 0.060457 0.082848 0.000294 -0.037938 -0.026097 0.084446 0.015568 -0.050540 -0.117080 0.100227 -0.046050 -0.059615 0.086632 0.097266 0.084578 -0.036891 -0.033246 0.021302 -0.149581 -0.006353 -0.035713 -0.177163 -0.016629 -0.028634 -0.147015 -0.017861 0.009931 -0.181849 0.065564 -0.007616 0.094861 0.089787 0.005743 -0.127185 0.093027 -0.107247 -0.019161 -0.201082 -0.008504 0.126500 0.034318 0.011876 0.012696 -0.090981 0.012814 0.038388 -0.274763 -0.123303 -0.073078 0.027702 0.035841 -0.080954 0.091305 0.029009 -0.006000 0.121087 0.016678 -0.070181 -0.080839 -0.016332 -0.081390 -0.059594 0.131390 0.039603 -0.222503 -0.039382 -0.071041 0.267399 -0.010011 -0.077326 -0.044107 0.052901 0.023623 -0.087243 0.011539 -0.006381 -0.074194 -0.041591 -0.061872 -0.098552 -0.094357 -0.062879 -0.150341 -0.087596 0.330078 0.028435 0.087784 0.034434 -0.008122 -0.258485 -0.109828 0.013279 0.043340 0.136803 -0.081573 -0.136733 -0.081884 0.306241 0.093106\n",
            "\n",
            "a -0.019764 -0.096043 -0.010960 0.102012 -0.101848 -0.010257 0.004692 -0.165735 -0.179723 0.067659 0.037108 0.100931 -0.211779 0.163603 -0.042376 -0.021683 -0.014900 0.101581 -0.053583 0.065435 0.126251 0.062320 -0.057445 -0.107130 -0.037044 -0.072958 -0.066655 -0.067962 -0.070879 -0.187941 0.065208 0.102302 -0.024876 0.151433 0.012228 -0.065570 -0.063793 0.015519 0.046230 0.174824 -0.100376 -0.081244 -0.039337 0.017851 0.125168 -0.096404 -0.133070 -0.023451 0.117965 0.005949 0.038928 0.060488 -0.014678 0.024891 -0.001455 0.048539 0.133535 0.084564 0.018362 -0.054294 -0.235691 -0.151528 0.043101 -0.097685 -0.034775 -0.127507 0.010346 -0.010458 0.047631 0.002045 -0.013826 -0.139644 0.128220 -0.020997 -0.057176 0.007458 -0.033133 -0.083235 -0.075585 -0.079414 -0.023531 0.076794 0.051968 0.026857 0.007574 -0.039602 0.027458 -0.146083 0.008662 0.113647 0.007963 0.023413 0.088046 -0.079530 0.027995 -0.017113 -0.056750 0.069447 0.094213 0.123728 0.010051 -0.054795 0.041003 -0.044294 -0.066911 -0.025221 0.059618 0.023494 -0.095354 0.029266 0.047979 0.079102 -0.061757 0.116363 0.011112 0.136784 -0.027020 -0.002793 -0.092629 -0.047217 0.111263 0.102819 0.090932 -0.085343 -0.026490 -0.033315 -0.028970 -0.118673 -0.067360 -0.207183 -0.076011 0.017469 -0.078908 0.031023 0.090820 -0.054443 0.062466 0.065952 -0.028265 0.051329 0.090671 0.106923 0.028011 0.014720 -0.036025 0.099207 -0.013510 -0.147551 -0.077657 -0.099269 0.001171 0.059405 -0.006946 0.123997 0.023131 0.102308 -0.040784 0.027455 -0.181898 0.095958 0.155467 -0.077250 -0.124941 0.058529 0.035851 -0.004447 0.035127 -0.024015 -0.029101 -0.107558 0.055650 -0.017027 0.008997 -0.016504 0.018768 -0.080671 0.029003 0.013937 0.002876 -0.064262 0.001246 0.073494 -0.013986 -0.100303 0.027376 0.030375 -0.177618 0.016413 -0.008711 -0.257308 -0.031904 0.068326 0.038748 0.006762 -0.045245 0.038158 0.093055 -0.069432 -0.140442 -0.030486 -0.097529 0.251017 -0.059000 -0.037363 -0.020030 0.116937 0.018191 -0.005464 0.016485 0.009930 0.007318 -0.131821 -0.005316 -0.063905 0.066936 -0.007235 0.066709 0.153262 -0.087015 -0.196866 0.042973 0.124447 0.034619 -0.021113 0.029881 -0.072679 0.068707 -0.033823 -0.140311 -0.158137 0.215081 -0.020170 -0.062018 -0.038955 0.158768 -0.155656 0.016471 -0.071324 0.069629 -0.070692 0.114725 0.114054 0.154133 -0.143244 -0.082015 -0.070578 0.094558 -0.073491 -0.084676 0.089027 -0.053428 0.034783 0.007488 0.008849 0.137206 -0.061942 -0.155206 -0.022297 -0.054165 0.206418 0.058566 0.033847 0.039555 0.042072 -0.003160 0.350700 -0.067416 -0.089351 0.147734 0.026404 -0.128322 -0.143885 -0.189820 0.162824 -0.038651 -0.045660 0.083507 0.118510 -0.054740 -0.053446 -0.106545 -0.087144 -0.159905 0.006153 0.057539 0.079486 -0.015659 -0.014220 -0.013549 -0.122177 -0.154875 0.319072 -0.251233 0.070468 -0.084041 -0.067580 -0.163386 -0.026553 -0.033245 -0.035199\n",
            "\n",
            "o 0.050016 0.094213 -0.234393 0.057870 -0.255710 -0.099076 0.162541 -0.073166 -0.072231 0.087253 0.154162 -0.021438 0.095246 0.086680 0.027481 0.055959 0.176635 -0.158901 -0.076106 -0.036695 0.115689 -0.039255 -0.116532 -0.143528 0.059030 0.049429 -0.009721 0.204578 -0.020946 -0.254149 -0.167956 0.024087 -0.094412 -0.066287 -0.085987 -0.081115 -0.035314 -0.000736 0.069831 -0.034319 -0.041741 0.007945 0.106777 0.119971 -0.051358 0.152951 -0.109669 0.102599 0.102598 0.044424 -0.088313 0.142374 0.042868 -0.042467 0.199348 -0.234265 -0.044845 -0.109492 0.005783 -0.045873 -0.049017 -0.037446 0.105329 -0.163747 -0.139140 0.153179 -0.117726 -0.113436 0.010813 0.097110 0.074618 0.041083 0.082912 -0.052041 0.009895 0.160828 0.058190 -0.215907 -0.024543 0.042466 -0.011712 0.064930 0.097498 -0.080108 0.019837 -0.059179 0.077248 -0.135312 0.132748 0.069083 0.075949 -0.232743 0.078279 -0.078944 0.116486 0.004099 0.057786 -0.125938 0.068976 0.176170 0.044454 0.085901 0.033849 0.057793 -0.083662 0.061258 -0.037814 0.050392 -0.067302 -0.102103 -0.011153 0.029286 0.032976 0.003400 0.061664 0.076337 -0.097293 0.026432 -0.059397 -0.160978 0.069399 0.307550 0.069981 -0.122410 0.003086 0.027841 0.134213 -0.018279 -0.025608 -0.156602 0.062460 -0.051757 0.030337 -0.042270 0.007516 0.055478 0.075345 0.112685 -0.047181 0.001009 0.031433 -0.134699 -0.034702 -0.082685 -0.182748 -0.097813 0.053774 -0.067876 -0.090774 -0.035145 0.080364 -0.242563 0.024905 -0.012293 0.110051 0.103592 0.138403 -0.035121 0.037955 -0.028042 0.005687 0.042462 0.045434 0.127590 -0.049950 0.079609 -0.152268 -0.102837 -0.083840 -0.132681 -0.073176 0.031672 0.104991 0.082840 0.142188 -0.047643 0.054661 -0.112325 0.006551 0.079335 0.011705 -0.042121 0.086597 0.088994 0.079949 -0.002677 0.106816 -0.055035 0.068153 -0.167192 0.009149 -0.028594 -0.039560 0.001607 -0.122615 0.106024 0.107250 0.050540 -0.043291 0.061397 0.001380 0.054964 0.040893 -0.045046 0.002312 0.032035 -0.026698 -0.042064 0.144622 0.076241 0.024255 -0.086833 0.098275 -0.083894 0.086363 -0.004560 -0.029056 0.126784 0.071785 -0.025692 0.000966 0.100620 0.030299 -0.163968 0.042070 -0.198341 0.099603 -0.113758 0.124685 -0.069966 -0.165131 -0.134782 -0.020419 -0.112747 0.123515 -0.045274 0.167949 -0.109681 -0.146224 0.075453 0.054352 0.023153 -0.062161 -0.059457 -0.124327 0.041855 0.205124 -0.083616 -0.062827 0.017066 0.025000 0.079311 0.018874 -0.055492 -0.129246 0.099183 -0.022749 -0.079510 -0.130005 0.012160 0.060842 0.018816 -0.180103 0.057191 0.018971 0.216519 -0.003726 0.155861 0.112271 0.091379 -0.073707 -0.059254 0.011068 -0.005690 -0.098677 -0.082454 0.105838 0.042144 0.100894 0.096960 -0.228625 0.064737 0.022971 -0.001549 -0.105277 0.149519 -0.055187 0.201671 0.098550 0.056229 -0.107189 -0.005223 -0.077126 0.020865 -0.098107 0.064205 -0.174567 0.196321 0.233813 0.038634\n",
            "\n",
            "e -0.168088 -0.001531 0.017038 -0.137315 -0.026399 -0.018215 0.026076 0.019779 -0.095212 -0.090352 -0.106060 0.061975 -0.000318 -0.002945 0.119734 0.149804 0.108117 0.064784 0.065574 -0.038343 0.159915 -0.006124 -0.038307 -0.094810 -0.019356 -0.045115 -0.121859 0.028930 0.045017 -0.138268 0.099283 0.128659 0.077656 0.032982 -0.086139 0.051552 -0.077685 -0.066857 -0.045233 -0.185625 0.013728 -0.067088 -0.061796 0.091931 0.007931 -0.033784 -0.026604 0.026487 0.002281 0.000939 -0.043053 -0.082718 -0.101476 0.014253 0.106507 0.059285 -0.034097 0.032848 -0.067852 0.103892 0.020742 -0.049702 0.085734 0.069140 -0.036293 -0.001048 -0.043403 -0.033758 -0.041652 -0.049051 -0.070893 -0.002921 0.096254 -0.046406 -0.016074 0.074894 0.098854 -0.015867 -0.024065 0.048818 -0.058226 -0.031364 0.055631 -0.001012 0.002966 0.017624 0.082472 -0.025849 -0.099736 -0.065253 0.002511 0.026550 -0.046750 0.005665 0.058496 -0.068569 0.110588 -0.003354 -0.133236 -0.140404 0.090284 -0.089065 0.010600 -0.143848 0.023044 0.035726 0.044885 -0.081761 0.020406 0.045142 -0.099682 0.013478 -0.102208 -0.048206 0.040736 0.012733 0.064284 0.052800 0.046179 -0.083605 -0.002064 0.003024 0.078588 -0.075731 -0.038192 -0.010662 -0.062210 -0.060302 0.005740 -0.119290 0.049789 -0.009878 0.033791 0.145393 -0.064118 0.005292 -0.046015 -0.012572 -0.002266 0.018877 -0.114718 0.043831 0.036031 -0.077071 0.079499 0.047130 0.136516 -0.029402 -0.095073 -0.198367 0.077792 -0.092858 -0.115212 0.064883 -0.083748 -0.115535 -0.017903 0.080732 0.088457 0.037072 0.044588 0.042071 0.064027 0.035189 0.071027 -0.028330 0.026847 -0.005846 -0.003655 -0.019447 0.057641 -0.057623 0.032575 -0.009248 0.103035 -0.087592 0.049022 -0.030181 0.055313 0.001550 0.136222 -0.081518 -0.003322 -0.196934 -0.125240 -0.039119 0.082201 -0.036932 -0.030666 0.101376 -0.008224 0.045433 0.055995 -0.108370 0.120019 0.024427 -0.055956 0.076503 -0.063588 -0.091926 -0.047620 0.071838 -0.050062 0.122101 0.011679 0.015549 0.060463 -0.174818 0.006131 -0.035602 -0.039755 0.044683 -0.002324 -0.096353 0.153145 -0.181759 0.059133 0.008242 0.009471 0.004472 -0.005789 0.035746 0.107733 0.019606 0.035323 0.013101 0.078772 0.031495 0.011914 0.035316 0.029965 0.010626 0.024444 -0.036373 0.041982 -0.059195 -0.062521 -0.032445 -0.050086 -0.002740 -0.033702 -0.052157 -0.100889 0.010753 -0.017195 0.076872 -0.114096 -0.134334 0.019812 -0.147168 -0.048026 0.055315 -0.021564 0.092953 -0.070098 -0.009133 -0.021408 -0.043442 -0.059603 -0.026196 -0.046402 -0.024446 0.036482 -0.021195 -0.014285 -0.003113 -0.053620 -0.057722 -0.005912 -0.228597 -0.022520 0.008453 -0.131441 0.074053 0.010990 -0.029988 -0.106588 -0.005512 0.036736 -0.002115 -0.078824 -0.067073 0.034071 -0.037642 0.019106 0.080103 0.068267 -0.052487 -0.070635 0.073949 -0.056421 0.017687 0.011800 -0.014045 0.006226 -0.014210 0.088889 -0.007613 -0.042151 0.091935\n",
            "\n",
            "que 0.105677 -0.012054 -0.134709 -0.013888 -0.080373 -0.084105 0.028820 -0.039461 -0.011410 0.033408 -0.031719 0.198935 0.047353 -0.090613 -0.098891 -0.010202 0.144315 0.151674 0.016502 -0.133896 0.031100 -0.007432 -0.059600 0.059022 -0.038658 0.167877 0.082268 0.217249 -0.072088 0.076910 0.079216 -0.037108 0.014821 -0.078732 -0.035230 0.024507 -0.126809 -0.017172 0.040998 -0.043692 -0.149663 -0.049520 0.024513 -0.063125 0.058306 -0.012108 -0.119330 0.034781 -0.102405 0.088640 -0.272843 -0.059915 -0.108119 -0.004685 0.184494 0.029357 -0.012836 0.087409 -0.093633 0.141491 -0.051050 -0.072004 -0.164353 -0.078488 -0.075351 -0.029836 -0.011346 -0.081588 0.032113 -0.120232 -0.028536 0.010188 0.169394 -0.077409 -0.026955 0.083380 0.010644 0.026978 0.131446 -0.055521 -0.142428 -0.164762 0.016372 -0.254786 -0.015511 -0.044090 -0.091434 0.042059 -0.182369 -0.057621 -0.113482 -0.031757 0.036860 0.035760 -0.084302 -0.244284 0.014317 -0.110019 0.076959 -0.003242 0.058425 -0.068168 -0.150191 -0.054872 0.067636 -0.130009 0.033544 -0.028672 -0.029417 -0.003639 0.008028 0.067533 0.015459 0.057868 -0.095344 0.023596 0.005216 -0.068982 0.110498 -0.045724 0.067068 -0.103614 -0.010749 0.079515 -0.160577 -0.037640 -0.090058 0.194754 -0.137685 0.048330 0.023402 -0.080694 -0.076719 0.081176 0.145217 -0.312484 -0.158713 0.003970 0.017241 0.020559 0.019566 -0.020686 0.027909 -0.088033 0.055311 0.114986 0.046477 -0.026289 -0.085503 0.072325 0.033167 -0.027302 0.043202 -0.125175 -0.046430 -0.089749 -0.052517 -0.026923 -0.157140 0.142859 -0.035472 0.053636 -0.015367 -0.041692 0.004743 -0.053162 -0.073490 -0.031711 0.009967 -0.034655 0.209237 -0.052801 0.121190 -0.048079 0.203458 0.037113 -0.095015 0.143972 0.046959 -0.014909 0.169301 -0.034984 0.006088 -0.180444 -0.098740 -0.082224 0.042493 -0.048264 0.034078 -0.155237 0.049812 0.108571 -0.103458 0.015055 -0.005921 -0.020380 -0.059664 0.063496 0.120677 0.028720 0.010933 -0.034094 -0.033195 0.065065 -0.150067 -0.127015 -0.115948 -0.168308 -0.079605 0.112220 -0.024935 0.008233 -0.050985 -0.047235 -0.041944 0.099358 -0.094031 0.008722 -0.044243 0.091927 0.029639 0.053425 -0.020329 -0.007264 0.029055 -0.027748 0.021123 0.023926 -0.068259 -0.034626 0.010976 -0.027882 0.074465 0.017960 -0.142224 0.010472 -0.005171 0.001003 0.031482 0.048073 0.122005 -0.012546 -0.127375 0.137744 -0.043389 -0.067031 -0.028339 -0.102349 -0.001278 -0.075125 -0.209901 0.022713 0.123317 -0.005108 0.206613 -0.119748 0.148568 0.189863 -0.005551 0.042991 0.024824 0.095960 0.049202 -0.115647 -0.075263 -0.101255 0.047671 0.006936 -0.147872 -0.048649 0.152138 0.090100 -0.054797 0.180955 -0.016752 -0.090723 -0.126502 0.137744 0.065590 -0.095213 -0.141592 -0.081258 0.061414 0.138765 -0.047507 0.155577 -0.004058 -0.054305 -0.064755 -0.155780 0.019290 0.092772 -0.113740 0.062508 -0.108115 -0.104516 0.233178 0.085033 -0.063993 0.107476\n",
            "\n",
            "do -0.180377 0.215497 -0.243985 -0.111583 -0.213779 -0.101028 -0.000539 -0.101256 -0.070914 0.038753 0.046168 -0.014838 0.180611 0.000883 0.060867 0.085324 0.226791 -0.021134 -0.137997 -0.202197 0.148571 -0.050565 -0.078147 -0.128638 -0.060884 0.050100 0.018876 0.214215 0.115665 -0.095654 -0.142162 0.120025 -0.097131 0.072397 -0.038019 0.105100 0.071983 -0.160280 -0.051489 -0.098811 -0.117858 -0.034939 -0.009614 0.107021 -0.047199 -0.005264 -0.000139 0.071706 0.161239 -0.161907 -0.337947 0.006058 0.022506 -0.037415 0.171261 -0.062566 -0.062829 -0.086872 0.049601 0.208633 -0.010851 0.096788 0.242130 -0.103836 -0.078473 -0.008937 -0.192728 0.135349 -0.090459 0.275743 0.134895 0.051969 -0.132400 0.040473 -0.095963 0.027610 0.029590 -0.188700 0.164033 0.032661 -0.109406 0.180492 0.147311 0.025806 -0.079043 -0.050046 0.065651 -0.066955 0.037583 -0.031008 0.012122 -0.225802 0.106807 0.067123 0.035571 -0.204494 -0.004813 -0.022719 -0.267100 0.241056 0.115854 0.094971 -0.032575 0.045279 0.030343 -0.103868 0.013372 0.008258 0.027818 -0.051606 0.060680 0.094947 -0.025672 -0.044170 -0.007713 -0.008499 -0.111320 0.112186 -0.091970 -0.085167 0.001894 0.156088 -0.067075 -0.027825 0.093561 0.070251 0.049796 -0.161722 -0.051384 -0.124694 -0.016951 -0.141747 0.002894 -0.133038 -0.015664 0.080839 -0.090980 0.084050 0.089413 0.021215 0.043560 -0.075679 -0.068300 -0.025250 -0.157061 0.022866 0.055717 -0.019705 0.036159 0.183264 0.073571 -0.227341 -0.020978 0.064482 0.075304 0.010691 -0.068159 0.110613 0.047416 -0.029155 -0.043249 -0.074944 0.011065 -0.047526 0.018594 0.114240 -0.265600 0.007173 -0.118795 -0.109128 0.000016 -0.025266 -0.101829 0.167882 0.163892 -0.112688 -0.195755 -0.162868 0.114179 0.149630 0.075342 0.024940 0.099575 0.154626 0.069327 0.046685 0.046306 -0.138379 0.070196 -0.071198 0.028745 0.052231 -0.034552 -0.065006 0.070413 -0.061854 0.102099 0.063467 -0.002194 0.041076 -0.095035 0.138216 0.123084 -0.022177 0.178009 0.171209 0.193143 -0.170747 0.013212 0.020312 -0.129422 0.079598 -0.068529 -0.147807 0.047131 -0.137531 0.091482 0.030125 0.145402 -0.080191 0.025542 0.178609 0.118927 -0.206678 0.094064 -0.042739 -0.084631 -0.076197 0.253984 -0.273463 -0.026424 0.022400 0.012012 0.061563 0.131845 0.000155 -0.068048 -0.138741 -0.137770 0.143289 -0.017924 -0.111125 -0.055598 -0.012842 0.040329 0.034049 0.148260 -0.121714 -0.091318 0.030290 0.127014 0.037068 -0.070445 -0.136299 -0.232076 -0.028718 0.111683 -0.116630 -0.077730 0.033543 -0.032343 0.091454 0.094135 0.163275 0.123356 0.155053 0.137251 0.054886 0.086155 0.132626 -0.112011 0.103465 -0.085405 -0.075092 0.038307 0.075783 0.028715 0.020250 0.078956 0.012173 -0.058316 0.084967 -0.099896 -0.090466 -0.126150 0.144591 0.025099 0.059846 0.102206 0.092871 -0.004201 -0.062104 0.143311 -0.046741 0.010705 -0.065122 -0.074470 0.072302 0.144289 0.067299\n",
            "\n",
            "da 0.106314 0.055476 -0.039570 -0.190485 0.003395 -0.004524 -0.089409 0.016164 -0.008729 -0.139324 -0.017216 0.231229 -0.092240 0.129829 0.174319 -0.292952 0.257298 0.067095 0.005922 -0.317410 0.080952 -0.091250 0.036598 -0.058222 -0.208412 0.077750 -0.049027 0.144323 0.042405 -0.119956 0.088109 0.225643 -0.096323 -0.021663 0.033732 0.014230 -0.052044 -0.169449 0.065751 -0.021418 -0.130182 0.042918 -0.009942 -0.074852 0.072399 -0.098562 -0.102132 -0.020131 0.017983 0.006935 0.001694 0.043227 -0.036539 -0.068935 -0.089400 0.028083 0.152634 0.027035 -0.048128 -0.034864 -0.094549 -0.044907 0.191836 0.038660 0.014197 -0.208164 0.033374 0.065646 -0.189526 0.191910 -0.076256 -0.003347 0.023276 0.154141 -0.075886 0.004531 0.108666 -0.026991 0.090088 -0.115087 -0.138618 -0.009955 0.101058 0.191306 -0.044130 0.016943 -0.034857 -0.104393 0.021614 0.181105 0.067083 0.174173 0.006842 0.112589 0.114770 -0.134795 -0.065031 0.188657 -0.122215 0.053691 -0.004950 -0.038257 0.041387 -0.086368 -0.113024 -0.110612 0.084619 0.035200 -0.023913 -0.059832 0.065118 0.156998 -0.123250 0.207544 -0.198096 -0.005751 0.000222 -0.014365 -0.128595 0.129685 -0.086875 0.146395 0.046631 -0.115346 -0.047447 -0.063081 0.006375 -0.213595 -0.165497 -0.114108 -0.035484 0.235835 -0.091976 -0.023507 0.030216 0.033498 0.019916 0.053905 0.152925 -0.014072 0.152212 0.042493 -0.035730 0.115687 -0.077152 0.143213 0.094185 -0.033882 -0.064696 -0.025253 -0.015001 -0.044841 -0.020901 0.173660 0.173787 0.162669 -0.178675 0.041861 -0.059131 -0.033014 0.118558 -0.110143 -0.087319 0.022072 -0.043854 -0.039075 0.009303 0.084985 0.102964 -0.135610 0.203660 -0.028503 -0.130212 0.029068 0.031780 -0.085400 -0.015715 -0.185410 0.028998 0.138793 -0.047273 0.128810 0.087755 -0.137443 -0.060965 0.152441 -0.272197 -0.080738 0.000295 -0.222019 0.030357 -0.021634 0.062530 0.153908 0.035890 0.026624 -0.074724 -0.047487 -0.019941 0.089237 -0.032005 0.251118 -0.000611 -0.042033 0.156101 0.139689 0.181284 -0.025594 -0.071444 -0.002417 -0.093168 0.012593 -0.103247 -0.074005 -0.022953 -0.126648 0.119025 0.072943 -0.029713 -0.037082 0.148353 0.008430 0.246276 -0.143915 -0.014645 -0.154727 -0.089263 0.011475 0.032176 -0.473987 0.210215 0.128778 0.010368 0.012503 0.125346 -0.211581 -0.138146 -0.162190 0.009462 -0.094329 0.266805 0.062499 0.064307 -0.082677 0.126492 -0.116503 0.049959 -0.305869 0.008807 0.014975 -0.083606 0.047322 -0.090874 0.106357 -0.106093 -0.041452 -0.120654 0.104756 0.060973 0.118349 -0.154645 0.152861 0.138214 0.034072 0.034298 0.225228 0.135347 -0.067495 0.103015 -0.047575 -0.209150 0.014246 -0.151529 0.125970 -0.051634 -0.001824 -0.100590 0.081847 -0.187154 -0.173157 -0.067540 -0.142936 -0.155529 0.002685 0.112103 0.167218 -0.034882 -0.085159 -0.080254 0.056543 -0.160371 0.110155 0.014148 0.159709 0.054241 -0.146095 -0.062389 0.010896 -0.057997 0.060049\n",
            "\n",
            "em -0.048809 0.026339 0.361322 -0.167256 0.143064 0.197844 -0.187032 -0.182331 -0.010642 -0.103917 0.022938 0.077613 0.073943 -0.027532 -0.217988 -0.011257 -0.005115 0.190852 -0.108031 -0.028212 0.050786 -0.010282 0.031511 -0.106711 0.158664 0.014079 0.140808 -0.068052 0.053026 0.100569 -0.038277 -0.082736 0.007803 -0.011430 0.084370 0.044209 0.084049 -0.043786 -0.059613 0.009847 -0.154666 -0.141540 0.101768 -0.016618 0.078253 0.110052 0.007225 -0.033662 0.074086 -0.005452 -0.108884 -0.133943 0.003002 0.103297 -0.098517 0.104478 0.049758 0.020842 -0.000388 0.093083 0.041094 -0.215410 0.074073 -0.019323 -0.000510 -0.006227 0.106502 0.060666 -0.101032 -0.036832 0.102974 0.103002 -0.021368 -0.089294 0.001588 0.214447 -0.060336 -0.092255 -0.065787 0.063129 -0.070413 -0.133749 -0.204550 -0.066987 -0.213618 -0.020198 -0.041087 -0.200660 -0.066611 -0.175731 0.159382 0.128171 -0.120179 -0.129257 -0.016042 -0.009128 0.072141 0.054033 -0.262140 -0.130812 -0.065114 -0.064606 0.114829 -0.157604 -0.001136 -0.164993 0.047463 -0.107896 -0.059812 -0.118526 -0.024781 0.022498 -0.162798 0.176787 -0.021495 -0.088872 -0.206844 0.000916 -0.048052 0.024394 -0.058392 -0.023172 0.017803 -0.239592 0.130677 -0.011808 0.020622 0.096174 0.005785 -0.117366 -0.062129 -0.065926 -0.004933 -0.097027 -0.075491 0.047146 0.066918 -0.029020 0.175369 -0.055468 -0.046661 -0.014779 -0.032249 -0.076563 0.044416 0.156531 0.131656 -0.060893 -0.054014 -0.070364 0.072259 -0.258011 0.034831 0.103967 -0.035751 0.055039 0.016254 0.046492 0.070964 0.085829 0.009035 0.125622 -0.158728 0.237710 0.190551 0.208521 -0.051237 -0.057483 -0.098835 -0.074473 -0.031962 -0.014144 -0.061864 -0.048252 0.031169 -0.075019 0.045225 -0.025695 -0.014291 -0.067856 -0.040815 -0.057664 -0.046474 0.018419 -0.018318 0.068269 -0.113711 -0.035561 0.061508 -0.182012 0.167126 0.076751 0.045630 0.073085 0.007837 -0.201244 0.016282 -0.030056 0.117217 0.044144 -0.182838 0.021837 -0.170212 -0.170011 0.066742 -0.123699 0.185281 0.048064 0.069720 -0.126779 0.049724 0.050464 0.008732 0.008058 0.087169 -0.043973 -0.019798 0.217149 -0.037872 -0.126329 0.129050 0.188463 0.074624 -0.060814 0.030187 -0.057333 0.331203 0.046744 0.031431 0.013136 0.050581 -0.117126 0.164099 0.017379 -0.026904 0.018806 -0.027621 0.018807 -0.207629 -0.095019 -0.170258 -0.024703 0.069200 -0.021843 0.016358 -0.005848 0.063784 -0.138980 -0.036951 -0.047201 -0.045694 0.015153 -0.077278 -0.004393 -0.278991 -0.064771 -0.098077 -0.127195 -0.071886 0.174140 -0.089256 -0.030765 -0.152969 0.079337 -0.045562 0.257139 -0.028880 -0.138503 0.112151 0.001888 -0.036115 -0.212299 -0.039546 0.043172 0.005070 -0.021551 -0.045936 -0.030936 0.007461 0.219712 -0.115020 -0.047996 -0.044939 -0.214725 0.024249 0.156305 -0.058257 0.111221 0.041345 0.008946 -0.041742 0.016607 -0.010028 -0.094062 0.020531 -0.002767 0.080006 -0.070812 -0.081316 0.174046\n",
            "\n",
            "para -0.083519 0.033790 0.225140 0.048074 0.166967 0.014766 -0.153980 -0.016937 -0.110257 -0.277477 -0.057165 0.016693 -0.083321 -0.055312 0.038280 0.182182 -0.045191 0.188626 -0.064699 -0.217858 0.004858 -0.087110 -0.021095 -0.076213 0.019905 -0.165223 -0.179016 -0.059849 -0.090067 0.014297 -0.107072 -0.024053 -0.084478 0.172736 0.041346 -0.137120 0.183251 -0.231805 -0.041892 -0.065269 0.016225 0.000860 -0.230378 0.015101 0.124769 -0.205523 -0.024953 0.133648 0.069638 0.030193 -0.108025 -0.244729 -0.088868 -0.082986 -0.094960 0.025783 0.058637 -0.065029 0.025695 0.165461 0.047706 0.021792 0.329971 0.130094 0.034407 -0.040417 -0.036652 0.052811 -0.070675 -0.007386 0.020999 0.113674 -0.086028 -0.075589 -0.097936 0.127337 -0.136785 -0.148487 0.059539 -0.050675 -0.046327 -0.059524 -0.132285 -0.105456 -0.134947 0.076779 0.004520 -0.047245 -0.106766 0.031734 -0.100362 0.113737 -0.059932 0.031952 0.045990 -0.122073 0.111108 0.050519 -0.066022 -0.028723 -0.217880 -0.147646 0.066655 -0.154008 -0.104886 -0.093266 -0.133327 -0.004581 -0.102444 0.014966 0.077005 0.198856 -0.244485 0.109643 0.140872 0.238438 0.139984 0.034930 -0.055351 -0.107677 0.124033 -0.101502 -0.118630 0.046681 -0.027279 -0.114625 0.071118 0.005351 0.034782 0.030734 -0.043295 0.045005 -0.011914 0.134326 0.040984 0.015081 -0.037549 0.062519 -0.046900 -0.154950 -0.008886 0.058392 0.021435 0.024111 -0.026855 0.043333 0.037107 0.225113 0.097150 0.111199 0.000153 -0.018017 -0.077837 -0.113944 0.166596 -0.105998 -0.039943 0.137714 0.030505 0.025156 0.026349 -0.069801 -0.049052 0.015644 -0.022804 0.121403 0.045555 -0.041810 0.032958 -0.094780 -0.027002 -0.105186 0.171472 0.226702 0.119099 0.057281 0.037898 -0.004117 0.031583 0.099373 0.027671 0.082964 -0.005232 0.049045 0.011175 -0.110696 0.035333 0.107506 -0.018295 0.168032 0.063372 -0.093340 0.122920 -0.166939 0.031872 -0.055772 -0.118965 0.057634 0.158641 -0.093193 -0.044395 -0.172942 -0.024996 -0.112659 -0.013938 -0.140617 0.088507 -0.018785 -0.043112 -0.091615 -0.071866 0.063275 0.120831 -0.059787 0.082610 -0.040686 -0.097880 -0.122188 0.179187 0.008784 0.308895 0.104608 0.013092 -0.100206 0.107290 0.039970 0.062072 -0.081686 0.105559 -0.031835 0.143401 0.049189 -0.134613 0.012137 -0.112541 0.138434 -0.112906 -0.032299 -0.177528 -0.087769 -0.004997 -0.148656 0.016538 0.069252 0.059711 -0.078782 -0.116842 0.039313 -0.009917 0.153664 -0.031890 -0.065207 -0.004552 0.012981 0.039215 0.091491 -0.134902 -0.180293 0.025255 0.068201 0.014387 0.026141 0.055177 -0.088565 -0.139174 0.155836 0.075900 0.013484 -0.150207 0.038352 0.117217 0.133368 -0.217605 0.060741 -0.134498 0.203843 -0.212499 -0.155651 0.045231 -0.060775 -0.041636 -0.256108 -0.116240 0.070310 -0.016682 0.191293 0.068809 0.064712 0.005900 -0.112528 -0.145745 0.139745 0.256468 0.066345 0.045398 -0.197686 -0.084913 0.056240 0.007215 0.029252\n",
            "\n",
            "um 0.138460 0.024720 -0.131620 0.084987 -0.532523 0.061502 0.199005 -0.187701 -0.065496 0.012499 0.271613 -0.124218 0.061074 0.052364 -0.007191 0.128713 0.045892 -0.182744 -0.061329 0.000682 0.060244 0.020777 -0.175025 -0.138698 0.127512 0.045660 0.143480 0.192619 -0.042845 -0.282899 -0.053838 0.006155 0.027634 -0.113640 -0.009953 -0.082567 -0.083183 -0.002423 -0.201153 -0.254004 0.017230 0.113186 -0.097095 0.068411 -0.121032 0.096568 0.086353 0.050741 0.095266 0.053580 -0.090107 0.082588 0.139828 -0.077361 0.196798 0.050107 -0.021617 -0.181625 0.037143 0.038956 -0.000146 0.022970 -0.042342 -0.104840 -0.101842 0.078381 -0.010082 -0.155326 0.001711 0.228163 0.045840 -0.108950 0.206474 0.093750 -0.234767 0.093490 0.075774 -0.295286 -0.118648 -0.022592 -0.124392 0.019489 0.072292 -0.076291 0.075365 -0.069736 0.021523 -0.100573 -0.023439 0.087279 0.018070 -0.176494 0.001739 -0.040252 0.064103 0.045932 -0.027311 -0.144219 0.030953 0.063826 -0.104737 0.085703 0.010370 -0.120070 0.022303 0.042816 -0.082664 0.122410 -0.035518 0.034243 0.002531 0.010895 0.036530 0.207783 0.046462 0.105524 -0.111067 -0.059333 0.112302 -0.225156 0.224502 0.149838 0.082024 -0.176156 0.160227 0.125790 0.099176 0.004585 0.017032 -0.018776 0.091769 -0.127766 0.210999 0.054287 -0.105095 -0.093292 -0.102419 -0.089029 0.051558 0.078844 -0.053753 -0.144283 -0.011134 -0.021898 -0.031687 -0.148306 0.011522 0.027377 0.154491 0.050590 0.031873 -0.233549 -0.044082 -0.060381 0.139973 -0.013377 -0.046425 0.121933 0.126226 -0.305008 0.056758 -0.031020 0.068321 0.130841 -0.112114 0.182669 -0.087790 0.134595 -0.046256 -0.105626 0.102975 -0.050926 -0.156262 0.091825 0.024666 -0.143369 -0.021583 -0.040368 0.005061 0.001996 -0.000789 0.082085 0.241438 -0.041710 0.068856 0.010098 0.055808 -0.098985 0.225560 -0.089480 0.130762 0.053875 -0.247558 0.095333 -0.133206 -0.043071 -0.087682 0.212210 -0.186101 0.046528 0.052468 0.122357 0.186406 0.017211 0.288573 0.101324 -0.012213 -0.064681 0.176154 0.183357 -0.140984 -0.077366 0.124432 -0.134892 -0.039552 0.014084 0.036598 0.036154 0.009398 -0.050140 -0.034806 -0.076012 0.043866 -0.104845 0.091416 -0.137372 -0.086702 -0.108133 0.053975 -0.018602 -0.093487 0.090403 -0.163568 -0.164143 0.076779 -0.163479 0.051453 0.104953 -0.041396 -0.012121 0.135363 0.022617 -0.193183 0.034421 -0.098228 0.134074 0.192760 -0.056236 0.088822 0.113930 -0.068796 -0.087254 0.218828 0.004182 -0.073548 0.215054 -0.100419 0.022543 -0.299240 -0.045436 -0.016547 0.005520 -0.083741 0.111048 -0.048839 0.197227 0.068066 0.082954 -0.015788 0.046366 0.049150 0.149783 0.014497 -0.069326 -0.018273 -0.084921 0.112397 0.013829 0.128171 -0.138007 -0.094393 -0.068763 -0.037697 -0.030884 -0.099518 0.093704 -0.028604 0.279370 0.121262 0.070570 -0.030001 -0.078029 -0.044134 -0.102960 0.060378 0.051935 0.029019 0.059088 0.266962 -0.060892\n",
            "\n",
            "no -0.051967 0.142897 0.342011 -0.218397 -0.289267 0.091110 0.079860 -0.098853 -0.295522 0.063067 0.062294 -0.049181 -0.019702 0.080841 0.042877 0.091593 0.130959 0.227431 -0.090858 -0.122646 0.111254 0.115739 -0.241974 0.014364 0.127302 0.173249 0.034019 0.069916 -0.003840 -0.112380 -0.083378 0.018260 -0.053040 0.124223 -0.084665 0.120917 -0.102506 -0.100888 -0.119815 -0.123944 -0.136060 -0.159306 0.112807 -0.025322 -0.067055 -0.080329 -0.164639 -0.102428 0.123940 0.078179 -0.108410 -0.137382 0.064103 0.036452 0.159204 0.049408 -0.087126 -0.129990 0.041257 0.074254 -0.034833 0.032004 0.140116 -0.107494 -0.019119 0.173932 -0.241977 0.057101 -0.181781 0.194159 0.169585 0.149595 -0.014910 -0.148560 -0.043339 0.063104 -0.021712 -0.139713 0.081619 -0.002157 -0.064968 0.276693 -0.052482 -0.112020 -0.117369 -0.124017 -0.034213 -0.207026 -0.160468 0.015042 0.156532 0.002490 0.017317 0.076953 0.087212 -0.106333 0.102428 0.007564 -0.124349 0.262276 0.097389 0.015299 -0.100166 -0.041112 -0.138330 -0.250570 0.081805 0.062260 0.048349 -0.017201 -0.111644 0.078686 0.070685 0.027898 -0.056859 0.040276 -0.118282 0.085908 -0.090364 -0.268133 -0.017890 0.212285 0.120623 -0.078601 0.051749 -0.059121 0.218017 0.028997 0.067195 -0.100691 -0.010738 -0.131277 0.066579 -0.160050 -0.165409 0.069852 -0.068205 0.097879 0.141697 -0.023444 -0.064487 -0.123541 -0.170491 -0.145565 -0.062372 -0.133066 -0.037071 -0.033786 0.000313 -0.041162 0.069816 -0.149994 -0.103123 0.120978 0.219826 -0.026197 0.211250 0.027781 0.168341 -0.052108 0.014738 -0.087123 0.026865 0.195282 -0.068784 0.131383 -0.169770 -0.129216 -0.157476 -0.058428 -0.168380 -0.042194 -0.124376 0.145621 0.239939 -0.079227 -0.079420 -0.030994 0.019969 -0.029573 0.180631 0.053866 0.034864 0.097607 0.094299 0.166735 0.113436 0.092484 0.081093 -0.165201 0.014931 0.075708 0.090501 -0.013988 0.040223 -0.158371 0.155601 0.003863 0.066362 0.086021 0.039168 -0.007656 0.026197 0.089182 -0.045373 0.123957 0.209176 0.008700 0.065450 -0.101989 -0.022706 -0.208264 0.077249 0.077100 -0.033822 -0.195235 0.118584 0.088461 0.266752 -0.259152 0.054267 0.170179 -0.025326 -0.060561 0.047272 -0.071469 0.103803 -0.141464 0.023001 -0.091764 -0.255994 0.056779 -0.179060 0.172899 -0.057134 0.012297 0.194764 -0.164433 -0.358173 0.335826 -0.113201 0.026820 0.035675 0.134685 -0.051073 -0.079691 0.320027 -0.093722 0.038910 0.016793 0.052338 -0.258332 0.023264 -0.040862 -0.318672 0.036535 -0.063124 -0.110112 0.113566 0.190655 -0.030446 0.017056 0.041057 0.111537 -0.142248 -0.018802 0.272819 0.109349 0.036921 0.152146 -0.051759 0.196222 -0.057709 0.004302 -0.052759 -0.080738 0.194192 -0.088173 0.093385 0.182090 -0.127160 0.198581 -0.132699 -0.213008 -0.240359 0.256432 -0.067856 0.067207 0.112546 -0.086443 -0.119796 0.050077 0.051301 -0.165024 -0.059045 0.134728 -0.010817 0.208327 0.074479 0.019874\n",
            "\n",
            "com -0.170501 -0.021565 0.086346 -0.258766 0.175719 -0.161932 0.019375 -0.078005 0.054225 -0.189123 -0.093430 -0.055943 0.021175 -0.031932 0.116397 0.069734 -0.003087 0.242785 -0.195174 -0.163397 0.055099 0.156889 -0.005088 -0.086628 -0.110556 -0.031448 0.066240 -0.019305 -0.035958 0.185363 -0.020377 0.017656 -0.181531 0.010766 0.224451 0.213943 0.266168 -0.054868 -0.198962 -0.105385 0.135780 0.138345 -0.086427 0.054478 -0.060356 0.079979 -0.076684 -0.074094 -0.124279 0.048872 -0.005276 -0.017212 0.014134 -0.018372 -0.025544 0.156651 0.042772 -0.016445 0.020287 -0.053431 -0.029049 0.125859 -0.010822 0.117636 -0.108387 -0.164009 0.077038 0.001213 -0.007283 0.003801 0.008197 -0.010141 0.181257 -0.035994 -0.004567 0.116989 -0.069806 0.067159 0.130589 0.170396 0.123055 -0.102682 -0.269657 0.097242 0.106141 0.258217 0.000532 0.010180 -0.134699 -0.101873 0.012738 0.181768 0.049937 0.041106 -0.007927 0.164616 -0.030768 0.065160 0.057878 -0.125232 0.086665 0.031220 0.034039 -0.004352 0.137882 -0.184721 -0.073090 -0.058687 0.088635 0.007371 -0.073309 0.044558 0.084135 -0.121706 -0.069868 -0.125099 0.111476 -0.044460 -0.062911 0.044990 -0.122544 0.128062 -0.049352 -0.005619 0.091376 0.042179 -0.075406 0.047966 -0.131295 -0.016397 0.088869 0.088764 0.102771 0.059975 0.189542 -0.016361 -0.030560 0.036577 -0.005451 -0.028088 -0.043961 0.135086 -0.006909 -0.062014 -0.036675 -0.031272 -0.199272 -0.084458 -0.000934 -0.003371 -0.020735 -0.012674 -0.009131 -0.014108 0.062315 -0.082512 -0.172643 0.078785 0.000533 0.097222 0.090155 -0.007030 -0.022130 -0.097645 0.122262 0.106819 -0.067849 -0.078017 -0.149957 -0.301408 -0.054784 -0.089586 0.000078 0.018487 0.198110 0.094588 -0.144867 0.101515 -0.003373 -0.002781 0.051486 0.040348 -0.117214 -0.009557 -0.012395 0.072474 -0.047396 0.038973 0.059527 -0.009138 0.161210 0.026754 -0.023568 -0.163600 0.257764 0.117509 0.001417 0.082445 0.220077 -0.182636 -0.138396 0.117070 -0.081721 -0.021957 -0.031305 0.006963 0.331396 -0.029490 -0.064468 0.069292 0.017785 -0.048861 -0.010043 -0.250056 0.052685 -0.100721 0.178841 -0.014440 -0.044815 -0.264351 0.113308 0.182065 0.073365 -0.122430 -0.017733 0.095954 0.116603 -0.111256 -0.181687 0.019149 0.026873 0.099077 0.026601 0.080357 -0.192390 0.028390 0.087495 -0.072037 -0.075542 0.088857 0.063067 -0.032686 0.054893 0.192985 -0.034749 0.029690 -0.104750 -0.080250 -0.079045 0.041630 -0.043316 -0.165304 -0.100280 0.042116 -0.343676 -0.077084 -0.017678 -0.182226 -0.059855 -0.113658 -0.052337 0.065258 0.112302 -0.078608 0.081952 0.007497 0.006538 0.039072 0.082836 -0.118921 0.116651 0.061009 -0.024756 0.006625 -0.035296 0.067650 -0.021803 -0.276733 -0.121431 -0.054577 0.004364 -0.190481 0.033612 0.171450 -0.171039 0.060559 -0.182805 -0.058395 0.014444 0.100355 -0.161868 0.083584 0.147943 0.092084 0.127959 -0.138115 0.201824 0.165616 -0.103024 0.145642\n",
            "\n",
            "é 0.159541 -0.027504 0.054650 0.012544 0.159281 0.089753 0.050909 0.000883 -0.006902 -0.053360 0.033499 0.185596 0.250772 -0.083782 0.008760 0.266034 -0.024471 -0.065716 -0.127577 -0.191962 -0.071480 0.126247 -0.210806 -0.179860 0.011628 -0.049442 -0.011375 -0.045122 0.174756 -0.003353 -0.037308 0.054375 0.024790 0.102851 -0.096596 0.198614 0.022422 -0.131395 -0.240258 -0.021844 -0.203893 0.078293 0.008582 0.124150 -0.075425 0.029132 0.144143 0.087339 0.122628 -0.038387 0.150143 -0.097634 0.024749 0.122552 -0.169523 0.139192 0.089895 0.276337 0.068169 -0.129793 -0.131935 -0.010786 0.246854 0.249150 -0.066170 -0.037801 0.145004 -0.090853 -0.007084 0.142421 -0.081410 -0.011745 -0.055481 0.014412 0.075531 -0.217638 -0.184034 -0.182428 -0.069318 -0.028852 0.132801 0.086508 -0.148924 0.065270 -0.001396 0.092171 0.054065 0.019875 -0.013155 -0.166561 0.093413 -0.007254 -0.003416 0.081081 0.130914 0.087011 0.086778 -0.040754 0.042529 0.132418 0.091689 0.007059 0.109725 -0.076334 0.094843 -0.020360 -0.272394 0.034949 -0.000636 0.265374 -0.246775 0.188458 -0.147022 0.123989 -0.034136 -0.052963 0.179143 0.032779 -0.143246 0.066370 -0.047032 0.046291 -0.146623 0.144528 0.098589 0.082212 0.113679 -0.142093 0.301930 0.013489 0.117697 0.091235 0.241259 -0.021271 -0.043389 0.107580 0.158542 0.109517 0.040494 -0.104186 0.106699 -0.009647 -0.001741 -0.206365 0.127045 -0.004938 0.007416 0.138661 -0.084081 0.016604 0.029055 0.088939 -0.102675 -0.013874 -0.068287 -0.021350 -0.086660 0.173771 -0.005899 0.148863 -0.043526 -0.038160 -0.033095 -0.003223 0.102422 0.007386 0.108502 -0.157317 -0.128708 0.016918 0.030607 -0.127424 -0.021658 -0.020058 -0.053564 -0.006096 0.111091 -0.191006 0.003120 -0.039267 0.119419 0.064065 -0.124852 0.195966 -0.027961 0.067725 0.110727 0.086284 0.015211 0.004431 0.044862 -0.103266 0.089945 0.065086 0.148525 0.012506 0.189119 0.030362 -0.002570 0.073738 -0.159556 -0.090359 -0.152708 0.219419 0.110093 0.009619 0.302355 0.039386 -0.223388 -0.160656 0.282697 0.141692 -0.110122 0.026265 0.001241 -0.026199 0.096645 -0.210597 -0.053669 0.026831 -0.008517 0.092402 0.111925 0.067827 0.071614 0.061856 -0.002292 -0.006011 -0.038158 0.059131 0.178276 0.105089 0.183512 0.216356 -0.216212 0.213618 -0.253034 -0.035440 0.029184 0.069539 0.005182 0.127340 0.102650 -0.227460 0.006800 -0.195139 -0.091680 -0.048818 0.050445 -0.158742 0.106419 0.065144 -0.114335 0.144544 -0.181381 -0.100074 0.024355 0.301855 0.079909 -0.067692 -0.072400 -0.281966 0.134146 0.226174 -0.013068 -0.063022 -0.084145 -0.028230 0.057001 -0.147420 -0.106647 0.170793 -0.014784 0.088818 0.056708 0.275718 -0.105084 -0.420098 -0.046484 0.358465 -0.039604 0.158269 -0.120632 0.156817 0.103805 0.223058 0.014944 -0.078426 -0.083433 0.003662 -0.029216 -0.162493 0.189388 0.010319 0.141263 0.132338 -0.095831 0.110037 0.013632 -0.234155\n",
            "\n",
            "uma 0.156660 -0.069813 -0.247724 0.051828 -0.219086 -0.117117 -0.034660 -0.256378 -0.068683 -0.113984 0.107934 0.020191 -0.284736 0.104498 -0.191876 -0.052969 0.157035 -0.012733 0.009684 -0.022431 0.064070 0.000654 -0.077834 0.004252 -0.039265 -0.059430 -0.078512 -0.098877 0.035195 0.052196 0.447069 0.127969 0.113059 0.226580 0.114269 0.030239 0.061011 -0.053632 0.000129 0.143348 0.075908 -0.120655 -0.032921 0.078106 0.083601 -0.176775 -0.178696 -0.069807 0.046247 0.093359 0.067778 0.040442 0.022231 -0.301977 -0.011246 0.282583 0.158874 0.101109 -0.018026 -0.103730 -0.075213 -0.265177 -0.129078 -0.261214 0.049006 -0.053699 -0.025828 -0.139962 0.058014 -0.138653 -0.009949 -0.164292 0.157632 0.194527 -0.115773 0.128066 0.097313 -0.219069 -0.045989 -0.136261 -0.247676 -0.008339 0.195997 0.018679 0.085297 0.111683 -0.084909 -0.036002 0.279837 0.257360 0.055516 0.039333 0.004701 0.076771 0.175811 0.090880 -0.037107 0.057744 0.109763 -0.128167 0.154288 0.217982 0.005573 0.005238 0.083255 0.029037 -0.003398 0.219702 -0.003036 0.164265 -0.061676 0.053976 -0.126739 0.241239 0.024496 0.025639 -0.115997 -0.120348 0.062648 0.139567 0.030593 0.116327 0.050441 -0.129707 0.107779 -0.062333 0.176028 -0.033759 0.057245 -0.154416 0.109295 0.031049 -0.165840 0.130158 -0.090548 -0.046892 0.074467 -0.037781 -0.092597 0.007688 0.025509 0.155311 -0.025138 0.063430 0.076960 0.123103 0.102286 -0.072655 0.123770 0.032080 -0.108683 0.037917 0.036931 0.069699 0.042894 0.075732 0.131323 0.019393 0.111047 0.057614 0.080556 -0.083272 -0.154045 -0.224235 -0.206999 -0.086460 0.017580 -0.016427 0.163547 -0.033818 0.167378 -0.000893 -0.076981 0.188608 -0.084310 0.034942 0.072964 -0.029552 0.053067 -0.143676 -0.039882 0.064663 0.116977 -0.134784 0.056598 -0.040968 -0.099714 -0.070975 0.120182 -0.240411 0.034510 0.173847 0.126954 0.064613 -0.202738 -0.186996 -0.001537 -0.020618 -0.080744 -0.015474 -0.059316 0.368887 0.197275 -0.112926 0.374273 0.035969 0.077513 -0.060311 0.085098 0.095346 -0.027611 -0.228730 -0.064840 0.007018 0.094711 -0.045890 -0.007848 0.071834 0.029862 -0.047809 -0.114385 -0.013992 -0.003533 -0.130273 0.053248 0.047306 -0.129544 -0.032493 -0.000490 -0.290778 0.216969 0.076888 0.001024 0.021423 0.236942 -0.101678 0.142249 0.005288 -0.088304 0.146487 0.048994 0.136975 0.008197 0.064215 -0.214609 -0.076856 0.094583 -0.135590 0.126681 0.066087 -0.042266 0.015096 0.059911 -0.069177 0.091128 -0.035728 -0.071492 0.056304 -0.080002 0.203683 0.139812 0.072920 0.043079 -0.052033 -0.015310 0.060198 -0.006816 -0.137826 -0.031877 -0.024264 -0.302047 -0.012267 -0.038616 0.097833 -0.051800 -0.123982 -0.003782 0.214043 -0.036747 -0.134780 0.002786 -0.207787 -0.201059 -0.054587 0.009787 0.179482 0.062273 -0.023138 -0.129809 -0.045671 -0.041007 0.096624 -0.124926 0.123341 -0.083412 0.075347 -0.020430 0.130335 0.139406 0.138908\n",
            "\n",
            "os 0.051775 0.299887 -0.230681 0.032265 0.034447 -0.161954 -0.156432 0.103733 -0.151915 0.131094 -0.024390 0.005337 0.101194 -0.116783 -0.070751 0.179864 -0.002867 -0.027925 0.169592 0.295300 0.139081 0.160879 -0.058085 -0.162337 0.041489 -0.060357 -0.035802 0.013372 0.089400 -0.126840 0.017209 0.131642 0.077239 -0.065167 0.102880 0.141634 0.216444 0.076714 -0.037380 -0.090541 0.134183 -0.012493 0.085726 -0.003097 -0.051974 -0.108644 -0.032277 -0.043904 0.180311 -0.255690 0.030813 0.137774 -0.078258 -0.015193 -0.121218 0.081276 -0.063922 0.318846 0.061619 -0.311228 -0.110261 -0.060350 0.005792 -0.090103 -0.097615 0.028187 -0.109125 0.065777 -0.130198 -0.013356 -0.146964 0.092109 0.035085 0.029328 0.089440 0.137997 0.157992 -0.026392 -0.071379 -0.031601 0.003719 -0.105297 0.162302 0.128590 -0.002729 -0.005865 -0.080101 -0.212017 -0.071101 0.013232 0.065726 -0.138576 0.216472 0.018810 -0.071315 0.079496 0.208312 -0.222340 -0.078415 -0.151523 -0.088639 0.241569 -0.044257 0.001330 0.009909 -0.112875 -0.048728 -0.064103 -0.051441 -0.221904 -0.061139 0.201312 0.182484 -0.064527 0.154922 0.054403 0.060279 0.103965 0.108789 -0.192415 -0.108148 0.072477 0.192407 -0.087353 -0.019286 -0.263214 -0.151533 -0.008224 -0.186522 0.045949 0.155351 -0.029280 0.155499 0.024430 0.090803 -0.024738 -0.092992 -0.068027 -0.096338 0.107414 -0.044985 0.000539 -0.122385 -0.219588 -0.310493 0.330793 0.116911 -0.056963 -0.149653 -0.129503 -0.173502 -0.352825 -0.038637 0.020058 -0.044827 -0.100781 0.008473 0.002433 -0.031669 -0.278903 -0.174947 0.003597 -0.083312 -0.067787 0.002397 0.175607 0.159450 0.157317 0.157164 -0.197476 -0.001714 -0.010950 0.226127 -0.036383 -0.105281 -0.058544 0.199252 0.055364 -0.033895 0.060740 0.115504 -0.092422 -0.134458 -0.122924 -0.172949 -0.030166 0.208765 0.016737 0.041742 0.032083 -0.074059 -0.127751 -0.269132 0.050681 -0.082824 -0.085826 0.296607 -0.224542 -0.030932 -0.042163 -0.004100 -0.111894 -0.060760 -0.041300 -0.130135 0.030632 -0.169125 0.039105 0.362975 -0.128213 0.043559 -0.128767 0.067832 0.092662 0.103531 -0.074152 -0.034542 0.092045 -0.012832 -0.079554 -0.096005 0.142576 -0.138874 -0.005501 -0.042037 -0.140952 0.263941 -0.002168 -0.102510 -0.310068 0.144520 -0.089032 0.093246 0.049367 0.031350 -0.019039 -0.012502 0.004451 -0.060977 -0.059600 0.038940 0.178856 0.078158 -0.098321 0.088079 -0.054553 -0.010979 -0.038929 0.060541 0.157608 -0.100154 -0.071824 -0.019409 -0.004765 0.261179 0.070455 -0.095231 -0.031308 0.025703 -0.010949 0.154389 -0.091390 -0.144571 -0.075307 -0.116364 -0.023118 -0.131300 -0.463680 0.044986 0.099788 0.067755 0.129605 0.065173 0.027016 -0.022182 0.014420 0.020583 -0.066832 -0.191730 -0.130566 -0.192940 -0.062928 -0.024617 -0.140506 0.017972 0.127841 -0.219747 0.201056 0.018589 -0.026391 0.059399 0.071037 -0.018105 -0.119738 -0.293462 -0.110157 -0.106349 0.125059 0.182849 0.010812\n",
            "\n",
            "não -0.063283 -0.330118 -0.002796 -0.159928 -0.109142 -0.056797 -0.145303 0.282590 -0.187184 0.028417 0.181905 -0.072700 -0.088752 0.025223 -0.084918 -0.148305 0.103739 0.024864 -0.136016 -0.102274 -0.035530 0.173101 0.050825 -0.085519 0.130229 0.077655 0.004484 0.147027 -0.138131 0.137685 -0.101254 -0.194021 0.021688 0.085181 0.159498 -0.045061 0.038506 0.142378 -0.030691 -0.103256 0.022606 -0.210581 -0.029998 0.082738 0.054484 0.006111 0.131412 0.042556 0.134043 -0.107558 -0.063418 0.045006 0.138334 0.074784 -0.115084 0.010547 0.077392 0.013173 0.172861 0.044053 -0.154019 0.002583 -0.181808 -0.228797 -0.091523 -0.062526 -0.183816 0.105838 -0.028793 -0.005903 0.102776 0.001495 0.104943 0.029936 0.106287 0.015843 0.017328 -0.157850 0.068355 -0.037511 -0.090966 -0.072129 0.066613 -0.054288 -0.187640 0.026634 -0.016818 -0.022452 0.051914 0.190117 0.108096 -0.015877 -0.014878 0.107433 -0.085912 0.008943 -0.022956 -0.042570 0.158279 -0.007514 0.054222 0.052823 0.044135 0.049282 0.145261 -0.009508 -0.015371 0.031197 0.039977 0.106024 -0.156051 0.079494 0.054068 -0.042973 -0.085563 0.005935 -0.066731 -0.139239 0.004522 0.032218 -0.027588 -0.042805 -0.143801 -0.113828 -0.086560 -0.122195 -0.127932 0.134573 -0.055323 -0.014983 -0.044729 -0.070809 0.100465 -0.040764 -0.115259 0.010123 -0.069123 -0.078706 0.122240 0.067589 0.031424 -0.233168 -0.135321 0.017825 0.000168 0.221377 -0.089455 0.032695 0.170454 -0.149503 -0.089486 0.115427 -0.009438 0.042566 0.121481 0.075248 -0.150131 0.078579 -0.200993 0.078434 -0.058197 0.031264 -0.034808 0.127834 -0.028304 -0.075128 -0.095383 -0.203520 -0.050028 -0.048837 0.044901 -0.130783 -0.107900 -0.000706 0.004224 -0.189435 0.050123 0.100760 0.138332 -0.169310 -0.131806 0.069624 0.051444 -0.041020 -0.143396 -0.029163 0.093218 -0.001880 0.020168 -0.026012 0.139280 0.014116 0.002964 -0.025446 -0.142964 0.180521 -0.025888 -0.108404 0.071177 -0.065172 -0.027438 -0.035392 0.117264 0.102319 0.008988 -0.015493 -0.055308 0.010348 -0.111021 0.142695 -0.131226 -0.030974 0.000990 -0.066050 0.081689 0.070245 -0.010310 -0.046458 0.143781 -0.049638 0.239145 0.152584 -0.133625 0.098774 0.143818 -0.146788 0.177028 0.076004 -0.113397 0.004343 0.018127 -0.018717 0.003324 -0.083392 0.053351 -0.041943 0.028955 -0.025854 -0.152642 0.222412 0.158409 0.006805 -0.053673 0.035107 0.169481 -0.200260 -0.093053 0.068839 0.001488 0.091761 -0.000296 0.036395 0.115506 -0.070521 -0.092126 -0.038392 0.085033 -0.016862 0.067458 0.000171 0.019441 0.164020 -0.192816 0.008249 -0.013273 0.049113 0.033510 -0.025828 -0.258482 0.161684 -0.077035 -0.098132 -0.060138 0.009499 -0.166662 0.081141 0.040161 0.225159 0.033504 -0.124602 -0.047099 -0.106310 0.164157 -0.090371 -0.096363 -0.133957 -0.116301 0.046187 -0.163563 0.056583 -0.065398 0.032710 0.103859 -0.007564 -0.027732 -0.078024 0.066118 0.105525 0.087968 0.008873\n",
            "\n",
            "na 0.271253 -0.014567 0.298975 -0.178857 -0.006977 0.193557 -0.082724 0.088423 -0.145638 -0.281519 -0.110797 0.142988 -0.191396 0.168225 0.112405 -0.282457 0.150856 0.185038 0.077619 -0.090516 0.164041 -0.133191 -0.120205 -0.025353 -0.145416 0.177023 -0.035736 -0.004740 -0.032317 0.012763 0.251356 0.144616 -0.210479 -0.058322 0.051985 -0.032568 -0.063809 -0.037723 -0.058339 0.130088 -0.107912 -0.070149 0.146643 -0.032792 0.040507 0.148820 0.063495 -0.162183 0.105984 -0.040720 -0.014854 0.091274 0.108194 0.014724 -0.118416 0.167824 0.278209 0.000567 0.029175 -0.149793 -0.129424 0.002967 -0.032953 -0.042786 0.038474 -0.188171 -0.011997 -0.137889 -0.043928 0.105539 -0.147819 -0.011357 0.028379 0.077521 -0.101425 0.071190 0.049375 -0.094741 -0.022527 -0.080866 -0.114878 0.153155 0.077274 0.176707 -0.088752 0.033909 0.094959 -0.039471 0.046214 0.202537 0.190035 0.127600 -0.016402 0.078164 0.150007 -0.059904 0.032857 0.161528 -0.041015 0.108385 -0.140383 -0.285012 -0.002137 -0.127711 -0.086065 -0.104510 0.065208 0.068961 -0.021280 0.151908 -0.057376 0.111182 -0.063157 0.246613 -0.160110 -0.083900 0.030752 -0.107795 -0.112401 0.232684 -0.042852 0.141246 0.078428 -0.093787 -0.127599 -0.216595 -0.014325 0.043573 -0.061907 -0.112528 -0.054596 0.083896 -0.048886 -0.101298 0.020869 -0.136430 -0.053612 0.017189 -0.034166 0.002922 0.051785 0.026943 -0.127946 0.009747 -0.128980 0.109038 -0.019254 -0.078115 -0.127587 0.047323 -0.046037 -0.071391 -0.014970 0.285597 0.234646 0.007667 0.037289 -0.030404 -0.140612 -0.066947 0.225965 -0.156609 -0.154976 0.100436 -0.069919 -0.095502 0.050056 -0.029899 -0.011221 -0.072897 0.000905 -0.133102 -0.004423 0.080823 0.028731 -0.076284 -0.083469 -0.030546 -0.095012 -0.012860 0.007727 0.089257 0.058603 -0.132918 0.126282 0.107174 -0.046763 0.016877 -0.023028 -0.045803 0.076822 0.013548 0.067476 0.171601 0.083834 -0.131755 0.052920 -0.081377 -0.056588 -0.082428 -0.219130 0.217118 0.132298 0.064342 0.121681 -0.019962 0.222125 0.180454 0.026103 -0.088554 -0.017460 -0.061573 -0.037325 -0.038042 0.091016 -0.247135 0.157010 0.164589 0.119266 -0.167282 0.135634 0.074875 0.145818 0.008122 0.126113 -0.128135 -0.084428 -0.032383 -0.066932 -0.117184 0.205137 -0.025514 0.001876 -0.067518 -0.071344 -0.025645 0.110909 -0.130862 -0.208955 0.035622 0.000878 0.195216 0.161990 0.072927 -0.070788 -0.096607 0.098944 -0.399448 -0.001356 0.043740 -0.112062 -0.136645 -0.119189 0.208996 0.024959 0.083288 -0.112629 -0.035934 0.356288 0.226705 -0.135896 -0.016730 0.050501 0.120451 -0.118121 0.388250 0.252253 -0.007591 0.068425 0.054877 -0.116546 -0.017678 -0.093471 0.203000 -0.182684 0.033069 -0.047849 0.060090 -0.109541 0.251211 -0.209851 -0.267296 0.107439 -0.084381 0.143677 0.232890 -0.130508 0.050906 -0.024353 -0.103715 -0.199974 0.301515 -0.129518 -0.059072 0.019217 -0.046570 0.045513 0.062567 -0.294342 0.170992\n",
            "\n",
            "00 -0.012843 0.016161 -0.166730 -0.047171 0.174257 0.020148 0.099842 0.125182 -0.135507 0.081236 0.383707 -0.107242 -0.048183 -0.034876 -0.001472 -0.034884 0.034263 -0.274647 -0.015020 -0.041248 0.043613 0.147992 -0.093981 0.011506 -0.015521 0.083131 0.021040 0.085621 -0.168638 -0.236289 -0.108524 0.181238 0.030723 -0.199830 -0.020413 -0.002885 -0.035286 0.092204 -0.073800 0.161437 0.101994 -0.188199 0.050681 -0.032873 0.154796 0.098377 0.061790 0.302556 0.140850 0.014055 -0.006184 0.174051 -0.109838 0.046470 0.155768 0.114582 -0.157257 -0.039446 -0.121076 0.042874 0.128593 0.084385 -0.061939 -0.183884 0.059197 0.109491 0.132068 -0.130293 0.004388 -0.125027 0.084863 -0.077650 -0.088571 -0.011326 0.244913 -0.055666 -0.011671 0.157763 -0.148770 -0.112816 0.164873 -0.015308 0.248637 -0.149390 0.136472 -0.324182 -0.358903 -0.100636 0.258875 -0.058600 0.167852 -0.009136 -0.093949 0.117760 -0.032953 0.245335 0.014078 -0.106990 -0.074462 -0.088760 -0.153703 -0.047441 -0.158572 0.041197 0.141279 0.141465 0.107874 0.136001 -0.183233 -0.009041 0.018628 0.020094 0.011976 0.101847 0.057594 -0.050195 0.001908 0.180394 0.093385 0.143537 0.019204 -0.317472 0.131418 -0.026046 -0.031485 0.060718 0.061310 0.249458 -0.145114 -0.064089 -0.002562 0.195264 -0.084905 -0.155142 -0.070557 -0.023484 -0.067007 -0.169393 0.057565 -0.147086 0.066364 0.143019 -0.216704 -0.073325 -0.092117 0.133677 0.123915 0.135554 0.244862 -0.021918 -0.002858 -0.090361 0.016136 -0.113222 0.049293 -0.104351 0.132339 0.011318 0.182988 -0.030911 0.067653 -0.129291 0.034474 -0.004112 -0.239810 -0.210209 -0.016503 -0.015618 -0.072870 -0.109516 -0.105898 -0.034865 0.023952 -0.050791 0.155161 -0.006289 0.005494 0.155637 -0.069914 -0.226276 0.070342 0.055430 0.026092 -0.072009 -0.057703 -0.200551 -0.122834 0.246641 0.066406 -0.041539 0.037423 0.026975 -0.050296 0.132198 -0.031615 0.076551 -0.109989 -0.014999 -0.059692 0.097486 0.160036 0.158777 -0.148868 0.068269 -0.144495 -0.017892 -0.071237 0.300522 0.209235 0.287446 0.222080 -0.154462 -0.041359 -0.161113 -0.190556 -0.147760 0.024460 -0.177599 0.221251 -0.098349 0.036066 -0.170378 -0.067840 -0.252074 0.084986 0.081076 -0.097427 -0.095671 -0.016625 0.008576 0.058383 -0.095006 -0.053231 -0.052610 0.083693 -0.089191 -0.030432 -0.020827 -0.144971 0.073243 -0.073736 0.129760 0.120058 0.009325 0.023522 -0.025647 0.054460 0.041124 -0.030233 -0.002371 0.060891 -0.216739 0.220513 0.048669 0.005002 0.072354 0.199881 0.137336 0.008892 -0.060155 0.076626 0.126480 -0.079118 -0.149140 0.009318 -0.032713 0.243345 -0.144667 0.064246 -0.192868 0.241159 0.055945 0.123579 0.088650 0.120893 0.045594 0.135262 -0.285690 0.074955 0.150548 -0.025016 -0.111252 0.246073 0.146922 -0.123339 -0.175192 0.147896 -0.488271 0.048539 -0.207331 0.067649 0.083156 0.225336 -0.108466 0.285856 -0.071331 -0.111405 0.183529 0.101930 0.197847\n",
            "\n",
            "0000 -0.036406 0.288060 -0.249042 -0.047316 0.177596 -0.043243 0.153491 0.228584 0.094234 -0.121642 0.011398 0.029848 -0.047592 0.138594 0.051945 0.115839 -0.123343 0.106256 -0.068938 0.190246 -0.102606 -0.072689 -0.181055 0.080556 -0.204540 0.121285 0.133178 -0.005246 -0.143944 -0.073723 -0.025079 0.005712 0.260080 0.048555 -0.038255 0.028982 -0.145041 0.014532 0.097112 0.209721 0.189646 -0.053759 -0.069473 0.097428 0.032149 -0.145644 0.032521 0.151171 0.139657 -0.040644 0.223683 0.210673 -0.098498 0.005304 0.076042 -0.231801 0.093713 -0.112832 -0.217340 -0.300997 -0.010518 0.262258 -0.032047 -0.019831 -0.078011 0.125151 -0.103785 0.164874 0.087985 -0.041047 0.062691 -0.108798 -0.019934 0.006443 0.141538 -0.057048 0.002251 0.204540 -0.118098 -0.064137 0.091989 -0.063815 0.227093 -0.042535 0.092418 -0.016293 -0.262345 0.196694 0.391315 0.012225 -0.125179 -0.182892 -0.006362 0.057835 0.119176 0.035188 -0.115361 -0.124709 -0.042621 0.210536 -0.015720 0.266282 -0.094191 0.106100 -0.108643 0.151329 0.034984 0.339609 -0.127415 0.044547 0.039190 -0.060355 0.141850 -0.155236 -0.124579 -0.067503 -0.127405 -0.263259 0.209814 0.012988 0.063338 -0.130310 -0.002301 0.072223 0.091341 0.340147 0.035598 0.176606 -0.097882 0.089887 0.022341 0.056511 -0.244876 0.019418 -0.012687 -0.135567 -0.218590 -0.085930 0.106189 -0.104668 0.053172 0.129700 -0.028207 -0.173741 0.013555 0.094556 0.142585 0.022766 0.151745 0.022379 0.248737 0.161609 -0.122157 -0.132916 -0.017797 0.019407 0.229443 0.046337 0.210853 -0.001619 -0.107223 -0.105727 -0.136390 -0.034888 -0.066731 -0.086927 0.028205 0.183502 -0.029541 0.020425 0.050916 0.167393 0.001042 0.007971 -0.072509 -0.121322 -0.088487 0.138979 -0.074887 -0.149694 -0.064303 -0.042434 0.096306 0.170887 0.035161 0.016787 0.118386 -0.031819 0.265716 0.045075 -0.119216 -0.040856 -0.142114 -0.083138 -0.075862 0.264795 -0.064786 0.074641 -0.116292 0.169383 0.083525 0.161481 0.159794 0.001533 -0.189718 -0.154695 -0.068857 0.217752 0.209087 0.267730 0.005302 0.048495 0.162025 -0.146642 -0.102793 0.090307 0.150124 -0.283794 0.011724 -0.064502 -0.067059 0.000662 -0.178705 -0.023132 -0.032049 -0.020303 0.039643 -0.124663 -0.232726 -0.069852 -0.117281 0.156439 -0.450189 0.072210 -0.031321 -0.045999 -0.043989 0.076601 0.068195 0.165943 0.062346 -0.022363 0.037958 0.060564 -0.147102 -0.063273 0.096355 0.216208 0.230657 -0.036004 0.259886 0.066630 0.226847 0.232193 0.183133 0.159264 0.066261 0.184024 0.167433 -0.190687 -0.149533 -0.006637 -0.099194 -0.013245 -0.128410 -0.054754 0.083832 0.063813 0.065014 -0.194477 0.069797 0.061445 0.146278 0.143829 0.102308 -0.042895 -0.029781 0.008956 0.296384 -0.063874 0.015585 -0.011045 0.222022 0.143660 -0.049431 -0.320195 0.032438 -0.046683 -0.024991 -0.174410 -0.161622 0.142126 0.013115 -0.105407 0.102546 0.087552 0.158659 0.122470 -0.130128 0.015717\n",
            "\n",
            "por 0.015525 -0.054219 -0.023820 -0.140897 0.263977 0.291622 -0.360759 0.006123 -0.191588 -0.028306 -0.043476 -0.153341 -0.209114 0.036614 -0.113203 0.141352 -0.107621 0.146673 -0.188751 -0.050316 0.170274 0.133287 -0.124559 -0.078469 -0.021711 -0.038118 0.114614 0.171847 0.167784 0.148400 0.090479 0.114296 0.136793 -0.005453 -0.162533 0.052313 -0.004100 -0.112930 0.051062 -0.002788 0.141429 0.032190 0.152755 -0.185828 -0.084975 0.045275 -0.117042 -0.067014 -0.172270 -0.097661 0.183047 0.041948 -0.211236 -0.018798 -0.189302 0.034875 -0.130778 0.100975 0.173437 0.190106 -0.169604 -0.071746 -0.115755 0.022469 -0.078467 -0.092588 0.080174 0.111152 0.059449 0.070856 -0.105448 0.000355 0.004835 -0.119267 0.158054 0.292018 0.136632 -0.078198 0.094157 0.051475 0.110063 -0.126750 -0.197002 -0.063509 -0.139087 0.314148 0.301398 -0.122312 -0.080107 -0.166561 0.055645 0.116771 0.085767 -0.181103 -0.019717 0.054573 -0.050012 -0.107745 0.112132 0.101008 -0.103750 -0.085093 0.072046 -0.028640 0.071934 -0.042472 -0.048147 0.058078 -0.141230 0.152295 -0.008036 0.038610 -0.078593 0.115392 0.046318 0.037784 0.121526 0.132772 -0.007724 0.028503 0.068184 0.005712 -0.068310 -0.080955 -0.050436 0.029601 0.043058 -0.080019 0.064313 -0.051856 0.010402 -0.035477 -0.029883 -0.173433 -0.231962 -0.053610 -0.201828 0.057412 0.003640 -0.033151 -0.019374 0.079228 -0.078802 -0.321844 -0.039773 -0.095091 0.170101 0.118704 0.034373 0.063252 -0.140685 -0.128268 -0.046157 -0.009782 0.138431 -0.015278 0.008760 -0.097684 0.130500 -0.060050 0.010330 0.043967 -0.025034 0.062032 0.132559 0.020386 -0.089462 0.181367 -0.069015 -0.081210 -0.089424 -0.184144 0.098391 -0.044664 0.107590 -0.128253 -0.076923 0.031126 0.182014 0.132056 0.117442 0.087131 0.008270 0.118055 -0.102813 -0.178361 -0.099526 0.109120 -0.104913 -0.106912 0.149340 0.218164 0.069995 -0.243421 -0.015348 -0.142431 -0.314372 0.011473 0.158684 0.045695 -0.227657 0.037553 0.022986 0.003656 0.000776 0.202046 0.105950 0.051591 -0.002816 -0.040448 -0.003459 -0.045245 0.185899 0.132970 0.009323 0.020279 0.160305 0.150771 0.157325 -0.153301 0.193879 0.219040 0.114178 -0.051752 -0.136799 -0.240458 0.236531 -0.047764 -0.115119 0.078208 -0.094080 -0.056944 -0.045826 0.038915 -0.197908 0.027750 -0.338784 -0.217883 0.054257 -0.039113 -0.125625 -0.078284 -0.053531 -0.005760 0.014179 -0.054085 -0.108370 -0.019255 -0.047417 0.288408 0.041332 0.028945 -0.196808 -0.034769 0.032631 -0.068327 -0.062833 -0.177208 0.245403 0.300510 -0.175353 -0.210900 0.094300 0.156775 0.114107 0.211926 -0.031355 0.008533 -0.042504 -0.079034 -0.159425 0.269156 -0.155000 0.181026 -0.028852 -0.045515 -0.044942 -0.193854 -0.002161 -0.225125 -0.085545 0.116633 -0.020813 0.078363 -0.106406 0.044698 -0.121588 -0.061370 0.035861 0.051241 0.032462 0.027267 -0.042754 0.196265 -0.012243 -0.109426 -0.240724 -0.020093 0.068198 -0.076573\n",
            "\n",
            ") -0.113518 0.025134 -0.128071 0.168609 0.070769 -0.000992 -0.045171 0.012524 0.198163 -0.072456 0.013750 0.110435 0.166378 -0.105892 -0.033860 -0.267271 -0.092174 -0.179513 -0.160914 -0.031339 0.011832 0.046459 0.097350 0.154085 0.043879 0.039400 -0.052596 0.062024 -0.053139 -0.108466 -0.057094 -0.237026 -0.010648 -0.060919 0.147330 -0.111111 -0.031912 0.110627 0.008464 0.095947 -0.062937 -0.057090 0.020042 0.116267 0.074903 -0.064471 0.097500 -0.149887 0.135992 -0.019464 0.112062 -0.014664 0.101796 0.031227 -0.068726 -0.228283 -0.021169 -0.004420 -0.089193 0.102717 -0.286152 -0.006429 0.144860 -0.223950 -0.012533 -0.021154 0.012325 0.222593 -0.038850 -0.104895 0.069117 -0.032148 0.114269 -0.059350 -0.099978 -0.091713 0.060058 0.041097 0.381131 0.051408 -0.371916 -0.005561 -0.084413 0.132930 0.018547 -0.172057 0.040357 -0.383616 0.190315 -0.105125 0.037693 -0.258211 -0.028712 -0.052700 -0.002709 -0.134953 0.023126 -0.018592 0.025703 -0.216465 -0.217582 -0.160607 -0.010374 -0.133848 0.048123 -0.038824 0.110943 -0.082899 -0.256551 -0.341894 0.200475 0.131404 0.194825 0.139727 -0.039392 0.043549 -0.030965 -0.102652 0.023979 0.183290 0.011191 0.075912 0.013570 -0.059076 0.044842 -0.178418 0.063854 0.039393 0.111521 -0.021403 -0.082459 -0.191162 -0.053278 -0.267860 0.007366 0.074471 0.119496 0.120272 0.138807 0.025942 0.057692 0.193422 0.101257 0.271605 -0.045232 -0.080002 0.066185 -0.023588 0.032190 -0.003378 0.007684 -0.206834 -0.107967 0.099083 0.320570 0.022557 0.046519 -0.202887 -0.006406 0.065032 0.106856 0.046633 0.270023 -0.179162 0.077028 -0.141303 -0.170619 0.083600 -0.074488 -0.000496 0.014966 0.188246 0.002135 0.043928 0.228061 0.144503 -0.109616 0.061934 0.103561 -0.155759 -0.050477 0.216102 -0.174600 -0.121488 -0.009474 -0.128034 0.016644 -0.141605 -0.039242 -0.105109 0.004067 0.154218 -0.143969 0.007906 0.178350 0.039314 -0.065847 -0.019891 0.210954 0.051247 -0.280188 -0.012061 -0.136954 0.209449 0.097011 0.116705 0.027074 0.079219 0.037273 0.060946 0.064833 -0.064320 0.090308 -0.020559 -0.006666 -0.106864 0.032675 0.188731 0.052536 -0.018011 0.091844 0.117075 -0.173748 0.001653 -0.040649 0.067879 0.193664 0.003464 0.183311 0.190630 -0.156345 -0.066517 0.195533 0.045790 -0.120763 -0.204551 0.120324 0.249700 0.033562 0.071282 -0.051233 0.235539 0.127547 -0.023719 0.015482 0.183958 0.012066 -0.114594 -0.066310 0.225777 -0.085017 0.166541 -0.150625 -0.013173 -0.089592 -0.051513 -0.288850 -0.152892 0.050026 0.151608 -0.129204 0.132855 0.048914 -0.098818 -0.063714 0.104258 -0.062159 -0.032606 -0.008383 0.060078 0.185336 -0.107644 0.001062 -0.088343 -0.183403 -0.105779 -0.010350 -0.179425 -0.058987 -0.178751 -0.040730 -0.112602 -0.142155 -0.223288 0.206214 0.093588 0.037291 0.115914 0.092550 -0.032202 0.262580 0.084175 -0.100125 -0.074441 -0.143881 -0.027974 -0.257900 0.306653 -0.048433 -0.153775\n",
            "\n",
            "( -0.008114 0.048504 0.126172 -0.202511 -0.092809 0.088437 0.051101 -0.170356 -0.093095 0.028020 -0.078985 0.132567 0.023498 -0.153565 -0.078586 0.277684 0.216519 0.045166 -0.077552 -0.240933 -0.027161 -0.087733 0.001210 -0.321160 -0.040175 0.100923 -0.070569 0.007347 0.324801 -0.065924 0.003850 0.377556 -0.178086 0.190533 -0.272918 -0.106593 -0.169142 -0.084530 0.000366 0.005225 -0.240737 0.041918 -0.044097 -0.079660 0.204362 0.019411 -0.142466 0.068673 -0.016424 0.123933 -0.043469 0.104433 0.022750 -0.128589 -0.038529 0.192058 -0.217277 0.146148 0.274149 -0.135221 0.069256 -0.068852 0.097254 0.403964 -0.072723 -0.089177 0.002395 -0.113034 0.069008 -0.091863 -0.105308 -0.036306 -0.075678 0.111041 -0.079443 0.018661 -0.116258 -0.093552 -0.174583 0.045166 0.255715 0.131183 0.150419 -0.042415 -0.010032 0.158113 -0.036980 0.147118 -0.249565 -0.017533 -0.037816 0.227410 0.165455 0.234138 0.135676 0.060687 0.030346 0.054744 -0.157396 0.045824 0.146493 -0.015975 -0.053495 -0.040603 -0.033286 0.026483 -0.145809 0.111871 0.052623 0.204715 -0.073902 -0.042901 0.025110 0.008254 0.098029 -0.191480 -0.002335 -0.175769 -0.106303 0.045342 0.044264 0.001777 -0.190310 -0.037511 0.042816 0.186164 0.020454 -0.065980 0.045434 0.033368 0.117826 -0.108534 0.198578 0.219664 0.067365 0.192597 0.092846 -0.021602 -0.116043 -0.065794 -0.126681 -0.187217 -0.170953 -0.152010 0.062544 0.035553 0.071365 -0.053641 -0.037310 -0.077456 -0.066521 -0.141000 0.098249 -0.009665 -0.070685 0.033363 0.038110 0.149807 0.042424 -0.105648 -0.071467 -0.075018 -0.081202 0.184741 0.261399 0.015447 0.123900 0.041617 -0.011224 0.038919 0.167947 -0.198309 -0.022204 0.138028 -0.326889 -0.068896 0.164336 -0.284502 -0.242972 0.048505 0.033077 -0.155556 0.236420 0.078096 -0.012685 0.240981 0.160714 -0.032414 -0.098026 0.016515 0.066023 -0.107858 -0.068780 -0.064682 -0.025804 -0.040080 -0.013768 0.156075 -0.023959 -0.091917 0.060887 0.185956 0.082736 -0.053622 0.007148 0.123790 0.070222 0.050727 -0.166579 -0.029505 -0.048360 0.023175 -0.107259 0.086614 0.255651 -0.026456 0.035605 -0.185751 -0.092937 0.120870 0.067928 0.011594 -0.008906 -0.015015 0.076174 -0.020612 -0.059510 0.066058 -0.193126 -0.029069 0.205363 0.042051 0.069117 0.197745 -0.009293 0.055095 -0.105482 -0.216008 -0.098141 0.010073 0.140404 -0.186257 -0.052396 -0.073595 -0.058586 -0.179054 -0.065138 -0.024563 -0.062855 -0.149240 -0.017307 0.012101 0.058904 0.090426 -0.122124 -0.060716 0.028383 0.001306 -0.018124 -0.058259 -0.056338 0.106529 -0.042567 0.175346 0.076223 0.036246 0.037836 -0.213445 0.224026 0.077353 -0.059432 0.138958 -0.114621 0.153265 0.121128 0.035196 -0.015761 0.016388 0.062740 0.024869 -0.158303 0.114180 0.244214 -0.108213 -0.189821 0.298550 -0.012696 0.033635 -0.286636 0.191626 -0.422440 -0.200007 0.045164 0.093375 -0.032305 0.050593 -0.053760 -0.189186 0.066534 0.059251\n",
            "\n",
            "as 0.129163 0.008080 0.277011 -0.268728 0.090306 0.056391 0.028889 0.161245 0.028027 0.146184 -0.004515 -0.014034 -0.006326 -0.159297 -0.060405 0.210210 -0.016301 0.056935 0.310513 -0.078523 0.188796 0.032299 -0.110776 -0.115155 0.081447 -0.043007 0.012485 -0.001603 -0.241793 0.012537 0.154841 -0.107237 -0.002420 0.133419 0.031056 -0.150056 0.173881 0.141154 -0.136019 0.109284 -0.061855 -0.122123 -0.185972 0.236119 -0.023102 -0.131677 -0.040230 0.001760 -0.002355 0.016602 -0.136855 0.230674 0.045109 -0.170359 0.136610 0.297429 0.155533 -0.110327 -0.149357 -0.079522 -0.086291 0.225429 0.166134 -0.192974 -0.006186 -0.061111 -0.034902 0.021914 0.074701 -0.054419 0.130615 0.086499 -0.073145 0.192385 0.287781 0.208400 -0.007617 -0.115543 -0.056433 0.086447 -0.111797 0.139580 0.051028 0.066897 0.075759 -0.064338 0.046245 -0.013505 -0.087963 -0.005144 -0.013898 -0.209223 0.194144 0.072357 0.067948 0.143984 0.092538 0.027714 -0.046158 -0.290438 0.251471 -0.059232 -0.065834 -0.217442 0.026697 0.064754 -0.106739 -0.073419 -0.337836 -0.091408 -0.060288 -0.003881 0.238253 -0.005743 0.227785 0.172989 -0.021038 0.087526 0.181414 -0.163896 0.160615 0.035699 0.054134 -0.029900 -0.160181 0.062477 -0.013853 -0.123769 -0.044935 -0.197899 0.015186 -0.159978 -0.154157 -0.137977 -0.138598 -0.014077 0.207839 0.242580 -0.125607 0.005916 -0.008881 0.169781 0.136778 -0.145961 0.056406 -0.046471 0.037554 -0.415180 0.077532 -0.209061 0.094728 -0.205612 0.145366 0.151321 -0.014519 0.050449 0.245586 -0.171351 0.010625 -0.033619 -0.010916 -0.110916 0.127425 0.335549 -0.043510 -0.137994 0.158546 -0.003883 0.205948 0.190297 -0.043025 0.033773 -0.013800 -0.066177 -0.178484 0.221680 0.127193 0.104212 -0.041854 -0.096357 0.115571 0.010171 -0.365581 -0.057922 -0.124228 -0.108644 0.237220 -0.014559 0.098487 -0.115111 0.072252 -0.014072 -0.168039 0.166982 -0.111590 0.232051 0.274923 -0.100106 0.106610 -0.059509 0.056233 -0.037450 -0.094409 0.014578 -0.142343 0.057190 -0.088168 -0.135502 0.095537 0.049535 0.025550 -0.069151 -0.038601 0.027572 -0.020072 -0.058191 -0.154613 0.196249 0.015532 0.032464 0.219185 0.137523 -0.192465 -0.097179 -0.058895 -0.012496 0.214434 0.069003 0.156053 -0.034836 0.190290 -0.089388 0.091511 -0.077732 0.050424 -0.035542 -0.104940 -0.051686 -0.065406 -0.145816 0.058794 -0.025370 -0.081293 -0.105682 0.157706 -0.013216 -0.023569 -0.248204 -0.045668 0.019980 -0.236903 0.035752 0.106672 -0.165767 0.018453 -0.238983 0.098071 0.050115 -0.008530 -0.173140 0.026114 -0.231305 -0.050057 0.005761 0.092544 0.259699 0.070336 0.182151 0.193707 -0.065077 -0.311759 0.032345 0.088811 0.390817 -0.247695 -0.273446 0.068861 -0.066505 -0.045744 -0.182232 0.094977 0.222963 0.214522 0.049330 -0.011764 -0.035363 -0.020311 0.019747 0.156599 -0.156436 -0.103683 0.145924 -0.084067 0.238587 0.208081 -0.130372 -0.045247 0.048785 0.313886 -0.217531\n",
            "\n",
            "se 0.182226 0.073137 -0.373650 0.407304 -0.093938 -0.352135 -0.057493 -0.015037 0.005828 -0.208941 0.111642 0.079143 0.165165 0.215191 -0.131027 0.049996 0.178664 -0.046787 -0.171660 -0.079024 0.166971 0.057553 0.022540 0.350784 -0.055926 -0.157418 0.088989 -0.184192 -0.147773 0.161227 0.233146 -0.121458 -0.115608 -0.316598 -0.124843 -0.010363 -0.011344 -0.028957 -0.078837 0.104751 -0.076667 0.310672 0.150929 0.226157 -0.065879 -0.138843 -0.019216 -0.115935 0.050124 -0.044025 0.116763 -0.085155 -0.164345 0.135347 -0.108524 0.109645 -0.023789 -0.063456 -0.074772 -0.001710 -0.125580 0.197350 -0.000700 0.137401 0.178188 0.207564 -0.191079 -0.100294 0.007403 0.151328 -0.010630 0.036666 -0.023279 0.035303 -0.014103 0.051091 0.011304 0.151694 0.014563 -0.384610 0.134351 0.058884 0.000857 -0.095369 -0.209989 0.085118 0.197263 -0.071239 -0.041849 -0.161181 0.074999 -0.246976 0.023778 0.170486 -0.056483 -0.030913 -0.071242 -0.032911 -0.038368 -0.116711 -0.103958 -0.259669 -0.120422 -0.013924 -0.129650 -0.004555 0.055448 -0.035323 0.079234 -0.017949 0.023478 -0.093580 0.108550 -0.166973 0.140088 -0.180023 -0.193672 0.027797 0.346577 -0.178366 0.112710 -0.018844 -0.361929 -0.048775 -0.163620 -0.375456 0.313165 0.078482 0.043485 -0.015886 0.080901 -0.053489 0.117192 0.027057 0.164742 0.052148 0.016791 0.002100 -0.184405 -0.044054 -0.112952 -0.069422 0.037114 -0.051848 -0.154922 -0.076512 0.042938 -0.192248 0.100727 -0.100408 -0.122170 0.231544 -0.095430 -0.166974 -0.115184 -0.048768 0.196421 -0.012670 -0.011486 -0.005435 -0.011079 0.038897 -0.286827 -0.062109 0.006920 -0.363099 0.106681 -0.125596 -0.128093 -0.122292 -0.201127 0.177575 -0.246981 0.075811 -0.126264 -0.096834 -0.190474 -0.041245 -0.099969 -0.022786 0.200321 -0.344458 0.053083 -0.000533 -0.179340 0.061915 -0.144034 0.085893 -0.059794 -0.072260 -0.053826 -0.048126 0.017024 0.043382 -0.134866 0.016817 -0.029539 -0.098201 -0.128864 0.182379 0.086337 0.162850 -0.172368 0.133201 -0.106109 -0.018207 -0.283861 -0.185312 0.186711 -0.070162 -0.058090 -0.084188 0.112608 -0.314289 0.086071 0.353802 0.000463 0.034599 0.122858 0.038726 0.109201 0.231830 -0.028950 0.061907 0.068716 0.035006 0.047821 0.150476 -0.173381 -0.197021 -0.019471 -0.099441 0.082023 -0.164401 0.049699 -0.016602 -0.094166 0.195540 -0.214151 -0.006167 -0.053981 -0.109210 0.044435 -0.046644 0.003977 0.138877 -0.115202 -0.128395 0.321598 -0.151239 -0.240604 0.206584 0.266951 -0.144530 -0.056522 -0.106170 -0.011952 0.007173 -0.105929 -0.094720 0.038318 0.030882 0.048547 0.179770 0.104577 0.255384 -0.032879 -0.333698 0.046787 -0.116923 0.009141 0.231325 -0.018931 -0.066236 -0.241389 -0.057980 0.157542 0.003961 -0.079075 0.169501 -0.296101 -0.085766 -0.097591 0.041694 -0.124059 -0.020106 0.038306 0.138361 0.061369 0.095439 -0.190205 0.132014 0.000087 0.129995 -0.020171 -0.115593 -0.183156 -0.026469 0.258729 -0.347191\n",
            "\n",
            "dos -0.134046 0.128889 -0.152247 0.073842 0.019260 -0.304297 -0.544213 -0.090790 -0.155289 -0.098195 -0.193689 -0.130620 0.073433 0.004360 0.060868 -0.016811 0.059681 -0.050206 0.084978 -0.076932 -0.056322 0.110763 0.104329 -0.040088 -0.220750 -0.193436 0.049638 -0.039254 0.086898 -0.077560 -0.074371 0.195724 0.084334 0.109922 -0.014992 0.201361 0.101009 -0.182334 -0.114081 -0.061776 0.148248 -0.025422 -0.080789 -0.094922 -0.141051 -0.102307 0.037010 -0.230607 -0.024556 -0.337766 0.009393 -0.188481 -0.175618 0.085578 -0.051867 0.051145 -0.213824 0.268424 0.045897 -0.040248 -0.086623 -0.056200 0.111408 0.082344 0.043679 -0.015045 0.033957 0.179432 -0.354893 -0.037292 -0.188668 0.204055 0.078157 0.073005 -0.024134 0.185745 0.229889 0.122006 0.100092 0.074778 -0.005449 -0.239066 0.107271 0.237912 -0.182725 -0.032207 -0.173885 -0.414031 0.003926 -0.113101 -0.103801 0.088043 0.217489 0.171053 -0.021447 -0.124140 0.161647 -0.013295 -0.197098 -0.051997 -0.056302 0.323381 -0.055994 0.062465 -0.034300 -0.117222 0.160848 -0.043226 -0.129064 -0.182580 -0.011551 0.016133 0.117191 0.130494 0.160591 0.018229 0.107657 0.025551 0.013459 -0.143979 -0.174836 0.038647 0.027123 0.057093 -0.087427 -0.166078 -0.084168 0.019863 -0.277989 0.237848 0.153121 0.123901 0.091861 0.165062 0.209061 0.097830 0.079104 0.020872 -0.072444 -0.168697 0.262145 0.223680 0.057536 0.029015 -0.296071 0.330487 0.068960 -0.090785 -0.069073 0.053148 -0.198397 -0.215736 -0.076141 -0.062727 -0.097132 -0.123752 -0.183963 -0.030535 -0.098090 -0.116672 -0.049556 -0.030042 -0.033203 -0.118030 0.149629 0.036480 0.010430 0.186262 0.074724 -0.097916 0.082168 -0.198380 0.034962 -0.142842 -0.048941 -0.118202 0.080789 0.178564 0.047369 0.080335 0.010436 0.064159 -0.026782 0.132163 0.023373 0.128045 0.065706 -0.037811 -0.018831 0.189918 -0.094255 0.078435 -0.024092 -0.134593 -0.227887 0.032787 -0.115812 -0.198523 0.023714 -0.044421 0.029439 -0.003325 -0.150215 0.127738 0.048593 0.035900 0.227948 0.065342 0.233032 0.011823 0.043063 -0.095043 -0.127132 0.210651 0.063195 -0.277196 0.302442 0.006152 -0.027995 -0.201082 0.126264 0.147077 0.005634 -0.005924 0.028194 -0.040391 0.234242 0.054362 0.000860 -0.232978 0.211817 0.039245 0.160051 0.104723 -0.024386 0.179291 -0.197075 -0.069676 -0.166423 -0.041553 0.106297 -0.027322 -0.102139 0.046477 0.282565 -0.177594 -0.004228 -0.154274 -0.138799 0.102860 -0.174282 -0.157670 -0.189176 -0.017995 0.112785 0.002073 0.111574 -0.095684 -0.027293 -0.136766 -0.007974 -0.159517 -0.115906 0.053151 0.138506 -0.021849 0.060628 -0.246855 0.006204 0.111387 -0.053506 0.096304 -0.053952 -0.016314 0.091949 -0.000225 -0.173137 0.007746 -0.083986 0.010393 -0.198323 0.043499 -0.038092 -0.201836 0.100101 0.057024 -0.086754 0.100510 -0.006322 0.014148 0.105929 -0.200342 0.130855 -0.192742 -0.201226 -0.047125 0.089314 0.028430 0.011141 0.182203\n",
            "\n",
            "foi 0.285370 0.131614 -0.136680 0.042307 0.304736 0.292355 0.020437 0.000391 0.156605 0.052192 -0.272100 0.184659 0.238325 -0.134958 -0.244754 0.145933 0.110320 -0.116623 -0.144104 -0.206663 -0.121063 0.096521 -0.114506 -0.181380 0.059817 -0.028847 0.079483 0.059970 -0.044485 -0.044642 -0.000999 -0.019653 0.077764 0.222821 -0.167403 0.513239 0.039661 0.073997 0.023939 -0.285287 -0.053348 0.055193 0.143182 -0.063443 0.001134 -0.139746 0.094069 0.123368 0.258271 -0.159097 0.265482 -0.063078 -0.029854 0.139670 -0.175267 0.210330 0.415700 0.024065 -0.030880 -0.236743 -0.239408 0.050862 0.161404 0.254984 -0.033155 -0.027124 -0.057443 0.128751 -0.121905 -0.110006 -0.035119 0.060774 -0.172244 0.115710 0.018532 -0.227548 0.018078 -0.088767 -0.115537 -0.097364 0.115521 0.163596 -0.320864 -0.106528 0.044102 0.152164 0.156451 0.136893 -0.152367 -0.225349 0.187702 0.071586 0.136984 -0.060201 0.049455 0.065953 0.053491 -0.061765 -0.207579 0.153198 -0.107969 0.045775 0.174759 -0.243658 0.052443 0.173372 -0.118880 0.096840 0.028328 0.095294 0.013098 -0.029794 -0.009091 -0.087529 -0.090594 -0.033879 0.112591 0.076283 0.028531 0.027841 -0.017697 -0.095615 -0.027112 0.193640 0.058515 -0.052520 -0.085115 -0.148873 0.054448 -0.080866 0.118715 0.167994 -0.083326 0.157808 -0.030540 0.295347 0.088918 0.147350 0.025940 -0.105222 0.128686 0.009063 0.067243 -0.140600 0.008449 0.112483 -0.005461 0.150157 0.098989 0.093202 -0.131232 -0.220761 -0.298925 0.010261 -0.062977 -0.065890 0.053204 -0.004819 0.151604 0.056448 0.012106 0.137911 0.046911 0.011070 0.172231 0.158555 0.348079 -0.218137 -0.016921 -0.028505 -0.074616 0.127324 0.102016 0.040478 0.012340 -0.103724 0.123422 -0.217736 -0.000954 -0.324588 0.028276 0.057596 0.182277 0.068275 -0.056150 0.101538 0.052339 0.071651 -0.090387 -0.110588 0.156886 -0.291701 0.246966 -0.107514 0.137441 -0.163622 0.008203 0.045423 0.063941 -0.009372 0.108400 -0.145381 -0.110640 0.018016 0.295843 0.086855 0.271020 -0.037615 -0.238188 -0.019794 0.181426 0.106554 -0.144831 0.009589 0.068296 -0.011174 0.202628 -0.383109 -0.070211 -0.030074 -0.141704 0.192353 -0.033540 -0.033347 0.270760 -0.023565 -0.108004 0.017874 0.089271 -0.144437 -0.124195 0.110656 0.296358 -0.057570 -0.092513 -0.007976 -0.270530 -0.122342 -0.020280 0.023532 -0.056603 0.011235 0.138757 0.093138 -0.200223 -0.228856 -0.138425 -0.224161 -0.004444 -0.144623 0.380433 0.023831 0.195907 0.147944 -0.223164 0.129777 -0.129553 0.117214 -0.061965 -0.062019 -0.208745 -0.164717 0.092767 0.198709 0.021920 -0.154594 -0.047141 0.069498 0.143131 -0.008554 -0.168515 0.119826 0.102307 0.029754 -0.099287 0.030547 0.076927 -0.338782 -0.051777 0.179292 -0.113533 0.059380 -0.007066 0.166376 0.185647 0.047595 -0.185502 -0.135676 0.134897 -0.206703 -0.068882 -0.215249 -0.128467 0.088277 0.155099 0.272324 0.047858 0.009261 -0.050512 -0.145406\n",
            "\n",
            "como -0.128536 -0.143045 -0.006420 0.066848 0.003365 0.050848 -0.039271 -0.043806 0.055064 0.084198 0.009390 0.151477 0.020763 0.030477 -0.060524 -0.115147 0.143444 -0.038407 -0.037488 -0.139986 -0.005059 -0.130376 -0.216478 -0.061970 -0.086453 0.060601 0.024686 0.137357 -0.025054 -0.062727 0.103566 0.156830 0.033057 0.070450 0.064105 0.251708 -0.247869 -0.147452 -0.026559 -0.081284 -0.213653 -0.131317 0.049300 -0.181376 -0.131067 -0.080115 0.127149 -0.019906 0.148103 0.041658 0.153949 -0.256653 -0.131634 -0.017043 -0.031698 -0.165833 -0.005020 0.234709 -0.094303 0.064633 -0.236073 -0.039330 -0.189344 0.063274 -0.062477 -0.184678 0.246943 -0.172249 -0.077066 0.089670 0.008246 0.264099 -0.070130 0.021963 -0.097591 0.013249 0.070348 -0.033102 0.194962 0.035468 -0.176189 -0.108514 0.087921 -0.220308 -0.145613 0.134390 0.068129 -0.172517 0.019490 -0.124970 0.051430 -0.186271 -0.027544 0.151050 0.197056 -0.030716 -0.086981 -0.006710 -0.006078 -0.124084 -0.057415 -0.035218 -0.002656 -0.128462 0.155944 -0.193022 -0.064261 0.031009 0.052678 0.033269 -0.006303 0.033480 0.064557 -0.004791 -0.035863 -0.132091 -0.010562 0.075787 -0.070268 -0.239765 -0.025189 -0.073015 -0.048977 -0.036115 0.036721 -0.062916 -0.014929 0.020456 -0.033747 0.050248 0.168803 0.181280 -0.033996 0.089164 -0.209601 -0.288976 -0.143728 -0.104394 -0.042818 -0.140468 -0.122759 0.159866 -0.025954 -0.180314 -0.059603 -0.134658 0.052387 0.094126 0.018447 -0.014329 -0.084996 0.086213 0.052375 -0.165404 0.034329 0.025212 -0.010968 0.256304 0.068833 0.081983 0.021492 -0.026762 0.058603 0.119499 0.092609 0.077430 -0.122983 0.081114 -0.055422 0.052602 -0.002663 -0.077014 0.308787 0.088827 0.062738 0.107629 -0.070901 -0.032129 0.158092 0.205669 -0.029794 0.209211 0.045879 -0.149233 0.012996 0.031742 0.028333 0.156115 0.262790 -0.057748 -0.101439 -0.114777 0.038728 0.253228 0.047787 -0.150287 0.149831 0.030085 0.058526 -0.223012 0.037523 0.066216 -0.240620 0.057553 -0.023350 -0.075847 0.180970 -0.164260 -0.045604 0.048559 0.002046 0.171647 -0.002395 -0.179975 0.096753 -0.127443 0.026317 0.061752 0.243436 -0.021410 0.152312 0.199532 0.172962 -0.224663 -0.065641 -0.126797 -0.020823 0.066722 0.040459 0.081472 0.028702 0.088805 0.155493 0.141234 -0.038739 0.107303 -0.243785 -0.226280 -0.134151 0.086883 0.089743 -0.142325 0.092784 0.055123 0.172965 -0.189783 -0.110042 0.064426 0.157402 -0.032264 0.126313 -0.217219 -0.024678 -0.028430 0.094119 -0.118846 -0.176884 -0.219324 0.010265 -0.039211 -0.123822 0.062001 0.011180 -0.014675 0.283959 0.021479 -0.207764 0.304066 0.044217 -0.011531 0.254358 -0.151196 0.004123 0.165260 -0.111049 0.063414 -0.170605 -0.132803 0.119310 -0.000845 -0.022278 0.005479 0.045823 0.001676 0.164796 -0.151534 -0.179333 0.052388 -0.192145 -0.050556 -0.053756 0.011179 -0.006790 0.026486 0.001327 -0.060915 0.035285 0.245822 -0.120885 0.088046\n",
            "\n",
            "ao -0.100273 0.276602 -0.165756 -0.003910 -0.137011 -0.050522 -0.010268 -0.079140 -0.138534 0.103987 0.191986 -0.085739 0.047543 0.307235 -0.007317 0.165442 -0.023626 0.054037 -0.109871 0.165856 0.182754 0.007675 -0.148880 -0.303634 -0.278986 0.037779 0.114530 0.277398 0.031933 -0.062219 -0.129591 0.196705 -0.317941 0.277759 0.098352 -0.261067 0.380243 -0.003012 -0.114075 -0.171152 -0.124193 -0.209227 -0.110830 -0.036423 0.058589 -0.009215 -0.095667 -0.111700 0.087730 0.055775 -0.114041 -0.104492 -0.206329 0.311456 0.123781 -0.283538 0.036371 0.109475 0.066199 0.013312 0.067283 0.047299 0.196207 0.156165 -0.217963 -0.043324 -0.116082 0.058184 -0.075110 0.074307 0.158031 0.164245 -0.047090 -0.055538 -0.270536 -0.063843 0.011995 -0.280204 0.047897 -0.008188 0.206283 0.122842 -0.038492 -0.134984 -0.330028 0.077729 0.175150 -0.227597 -0.198801 0.086229 0.133426 -0.066353 0.131456 -0.034638 0.174410 -0.021427 -0.046404 -0.130999 0.131636 0.220822 0.171299 -0.038622 -0.052106 -0.110379 -0.275509 -0.062040 -0.209181 -0.143006 -0.068711 0.081634 -0.051108 0.223295 -0.072568 -0.011932 -0.031298 0.056554 0.015346 0.334520 -0.074878 -0.330349 0.198358 0.161064 -0.022348 -0.134528 -0.250194 0.203690 -0.022140 0.115868 -0.073271 -0.052908 -0.126296 -0.014465 0.160093 -0.073499 0.012189 0.075973 0.153416 0.071641 -0.021821 0.015226 -0.060506 -0.036456 0.023145 -0.008622 0.012370 0.149886 -0.099566 0.118958 0.073039 0.100534 0.204150 0.087214 -0.307541 0.019634 0.250454 -0.019197 0.133486 0.128007 0.295663 0.035824 0.018894 -0.174129 -0.161939 -0.050295 -0.146812 0.023336 -0.291316 -0.232769 -0.181320 -0.007410 -0.097057 -0.175693 -0.097046 0.199693 0.145920 0.042552 -0.042093 -0.152635 0.102691 0.022608 -0.038050 0.010114 0.058339 -0.067826 0.232366 0.093080 -0.196585 -0.065574 0.021535 -0.149933 -0.022539 0.055965 -0.014576 -0.113908 -0.095438 -0.086493 0.063788 0.206122 0.114842 -0.022941 -0.116500 0.209875 0.030928 0.009900 0.299381 0.060373 0.183319 -0.053764 0.010806 -0.048232 0.136200 0.064594 0.149077 -0.022463 -0.040965 0.061435 -0.017682 -0.045133 0.130037 -0.184852 -0.053110 0.129433 -0.082695 -0.236769 0.025727 -0.134670 -0.083622 0.022522 0.143808 -0.055518 0.164219 -0.075006 -0.052080 0.168760 -0.105277 -0.107620 0.085552 -0.172340 -0.035656 0.136928 -0.271140 0.017388 -0.172157 0.011568 0.090951 0.010779 -0.051259 -0.070786 -0.029485 0.043086 -0.041981 -0.042433 0.086532 -0.169808 -0.250483 -0.002164 -0.000518 -0.056577 -0.200510 -0.003269 0.252837 -0.151975 -0.247956 -0.163663 -0.131997 0.313096 0.053908 0.042254 0.004915 -0.056663 -0.016125 -0.023798 -0.193481 0.120079 -0.222254 -0.098911 0.333402 -0.080901 0.003520 -0.177153 -0.051697 0.222962 0.216086 -0.186362 -0.426292 0.120420 0.054493 0.068402 0.177110 -0.110598 0.019787 0.240209 -0.223734 -0.239857 -0.247629 0.230382 -0.105419 0.188057 -0.057157 0.231151\n",
            "\n",
            "mais 0.016417 -0.145266 -0.241214 0.055900 -0.057940 0.064751 0.192987 0.308707 0.088765 0.174749 0.018837 -0.169442 -0.190475 0.161760 0.042015 0.019883 -0.044074 -0.033701 -0.073697 -0.018923 0.060517 0.024716 -0.048329 0.017827 0.183253 -0.115179 0.091082 0.178208 0.044608 -0.009018 -0.045631 -0.159531 -0.027815 0.310272 0.136106 0.027069 -0.002479 0.040742 -0.091425 0.120178 0.086627 -0.001470 0.279828 0.019638 0.246786 0.056006 0.118674 -0.127800 -0.162567 -0.071492 -0.029253 -0.172345 -0.144134 -0.328064 -0.053044 0.017060 0.029442 0.147433 -0.041613 0.142603 0.148164 0.108816 0.205799 0.143103 -0.048101 0.021884 0.106076 -0.347874 -0.010995 -0.042415 -0.058929 0.017838 -0.075397 -0.042536 0.043808 -0.073589 -0.250892 -0.389367 0.051744 0.019868 -0.015930 -0.037164 -0.141428 0.169229 -0.150321 -0.111489 0.055417 -0.275432 -0.108155 -0.222313 -0.248994 0.004687 -0.098379 -0.076066 0.043865 0.107578 -0.181138 0.141383 0.016505 -0.093757 -0.110514 -0.031524 0.415889 -0.017679 0.121866 -0.149527 0.111343 -0.080014 0.033116 0.085801 -0.007253 -0.039356 -0.002016 -0.071387 0.031787 0.052393 -0.022471 0.141870 -0.039521 -0.022512 -0.287754 -0.032523 -0.069302 -0.178718 0.136111 0.029239 -0.064245 -0.043201 0.202401 0.152756 -0.065875 0.188249 0.134341 0.095316 -0.053640 -0.072565 -0.094248 0.090582 -0.059976 0.112572 0.052221 -0.012864 0.063281 -0.141765 -0.094234 -0.134418 0.185605 -0.201374 0.132203 0.144348 0.037082 0.124752 0.025664 -0.076226 0.031370 -0.241620 -0.014987 0.219608 -0.145608 -0.108109 0.195939 0.182472 -0.141149 -0.167740 -0.179853 -0.124816 0.193933 0.007234 0.048382 0.338282 0.090974 0.131457 0.134601 -0.211174 0.087015 0.026006 -0.022977 -0.128482 -0.232035 -0.424555 0.018877 0.029766 -0.066704 -0.120227 0.076470 0.091579 -0.212258 -0.108606 0.039700 0.095593 0.028426 0.034952 0.065871 0.157624 -0.000154 -0.179438 -0.307175 0.027638 0.040486 0.006125 0.161946 0.129894 0.190255 0.029006 -0.195873 0.025483 0.060029 -0.164058 0.100002 -0.213893 0.113679 -0.037344 0.087216 0.090647 0.073944 -0.038760 0.098574 0.282665 0.111812 -0.023221 -0.124899 0.246830 -0.133822 -0.066449 0.003962 0.008365 0.039977 0.127406 -0.047541 0.224740 0.089728 0.183620 0.011389 0.005894 -0.022495 -0.076192 0.155225 -0.030308 0.036147 0.025876 0.107249 0.096814 0.027511 0.047697 0.138309 -0.023052 0.122068 -0.246223 0.031747 -0.039611 0.017205 -0.008709 0.011522 0.089127 0.110510 0.080612 0.145477 0.094542 0.033796 -0.120665 0.052917 0.169369 -0.061895 -0.178617 -0.090915 -0.171498 0.009648 0.029452 0.030306 0.006648 -0.023502 -0.006096 0.116687 -0.149851 0.062057 0.220385 -0.063926 -0.010528 0.041494 -0.082949 0.166663 -0.123934 0.235248 -0.143160 -0.196727 0.030234 0.036771 0.199707 -0.053295 0.071333 -0.110027 0.135788 -0.020699 0.039292 0.147939 -0.187885 -0.226643 -0.143719 0.106233 0.089877\n",
            "\n",
            "? 0.005753 0.023535 -0.036364 -0.035378 -0.179992 0.025421 -0.123493 0.150646 -0.030907 0.029852 0.070921 0.079685 -0.008855 -0.070896 -0.033598 0.013213 -0.014325 0.058398 0.040908 0.061941 0.081039 -0.013745 0.229102 0.103751 -0.064880 -0.049170 0.161841 0.178378 0.138594 -0.216277 -0.169072 0.041837 -0.278467 -0.055817 -0.186020 -0.021762 -0.035237 -0.146846 0.051788 0.003442 -0.017245 -0.037499 -0.191659 -0.188707 -0.028343 0.059746 -0.137188 -0.002007 0.070505 0.179708 -0.079620 -0.015580 -0.014376 0.217913 -0.021150 0.079495 -0.116748 0.106737 0.039794 -0.044942 0.003954 -0.059002 -0.045050 -0.047605 0.303618 -0.085730 0.011117 -0.163061 0.181440 0.084872 0.045115 0.126344 0.022743 -0.143218 -0.184390 0.010495 -0.070116 0.024155 -0.036052 -0.184251 -0.396410 0.091491 0.056777 -0.057714 0.019991 -0.041188 0.212029 0.028219 -0.153560 -0.093981 0.094702 0.076981 0.251717 0.193114 0.038012 0.001515 0.088413 -0.015289 0.029725 -0.264458 -0.037879 0.077777 0.078943 -0.175829 0.235984 0.230775 0.062479 0.044489 0.073473 0.137839 -0.169285 0.157116 0.209277 0.049048 0.212298 0.104737 0.096594 -0.151566 -0.156267 0.015816 0.078214 -0.146335 -0.244626 0.239697 -0.016275 0.113275 0.052666 -0.342177 0.019819 -0.127802 -0.052738 0.210030 -0.021587 0.011114 -0.075550 -0.086913 -0.169127 -0.014437 -0.035131 -0.109307 -0.120992 0.135023 0.126912 0.174993 -0.077278 0.243561 -0.034088 0.054070 -0.019313 -0.025203 -0.122061 -0.044373 -0.071990 0.000490 0.126052 -0.128201 0.133405 -0.074104 -0.054884 0.110593 0.257446 0.010916 0.087846 -0.037627 0.073698 0.022475 -0.147550 -0.074491 -0.071536 0.083681 0.117904 0.116237 -0.007005 0.055228 -0.016420 -0.109264 -0.040757 0.112889 0.212343 -0.025935 0.056410 -0.038861 0.010743 -0.249084 0.129928 0.332350 -0.087274 0.170518 -0.030502 0.059423 0.249867 -0.095362 0.037043 -0.120030 -0.020523 0.037692 -0.087328 -0.047254 0.146462 0.078268 -0.085380 -0.063132 0.199019 0.017045 -0.181272 0.021236 0.059646 0.001372 -0.065545 -0.080608 -0.049416 0.030628 -0.038626 -0.121193 -0.007443 0.213702 0.021341 0.136935 -0.034267 -0.121501 -0.039046 -0.247254 -0.124000 -0.062234 0.093834 -0.207320 -0.097408 0.128940 -0.091586 0.079593 0.109931 0.036598 -0.034017 -0.029527 -0.116824 -0.088693 0.036338 0.057083 -0.237171 0.212540 0.116135 0.020373 0.129869 0.010894 -0.158143 0.068837 0.076450 -0.200766 -0.304157 0.166406 -0.114686 0.089719 -0.073685 -0.036906 -0.002415 0.059717 0.121695 0.016520 -0.011823 -0.011433 0.031854 -0.054586 -0.072646 0.102277 0.122899 -0.101297 -0.187344 -0.061612 0.147095 -0.015560 0.075701 -0.010360 -0.187839 -0.018209 -0.110495 0.065429 0.068844 -0.103580 -0.087120 -0.029273 0.066188 -0.109459 -0.255705 -0.010218 -0.106219 0.371175 0.109269 0.037305 0.005585 0.010161 -0.303331 -0.044623 0.018665 0.067512 0.048202 0.067630 -0.222998 0.129771 0.379694 0.091475\n",
            "\n",
            "0 -0.031204 0.086041 -0.172490 -0.134647 -0.014765 0.071865 0.234778 -0.052072 0.008852 -0.136529 0.380129 0.038605 0.018289 -0.080087 -0.156559 0.179279 -0.000450 -0.238948 0.117343 -0.048009 -0.039483 -0.067847 -0.061348 -0.037174 -0.009027 -0.127150 -0.094434 0.055661 -0.069304 -0.130795 -0.075424 0.230856 0.116997 -0.194156 0.152686 -0.081219 -0.078541 0.020197 -0.023623 0.046609 0.160004 -0.230890 -0.121866 0.033580 0.143929 0.120762 0.090370 0.140047 0.222472 0.155269 -0.109021 0.107587 -0.022134 0.019644 -0.002800 0.255221 -0.073038 -0.152929 -0.043903 -0.000647 0.082144 0.025751 0.030814 0.015423 0.120361 -0.007874 0.141496 -0.141583 0.092362 -0.032755 0.073687 -0.111334 -0.122602 -0.021122 0.266202 -0.098121 0.084725 -0.053050 -0.032937 0.007516 0.063609 -0.088026 0.206884 -0.138934 0.085768 -0.191939 -0.276677 -0.057663 0.254284 -0.241710 0.033862 0.084146 -0.026902 0.219608 -0.189953 0.161394 0.120115 -0.119201 -0.089474 -0.057348 -0.138117 0.019592 -0.084037 0.083838 0.115200 0.149795 0.246416 0.039498 -0.075449 -0.020280 0.027098 0.021900 0.020597 0.081664 0.234853 -0.085162 0.097499 0.210294 0.286252 0.084914 -0.018034 -0.250022 0.164313 -0.155602 0.080711 0.000508 0.000239 0.269281 -0.262131 0.019282 0.146780 0.137963 -0.127123 -0.132655 0.029542 0.074684 -0.160418 -0.165152 0.047750 -0.216931 0.104665 -0.137715 -0.223963 -0.000862 -0.146274 -0.095902 -0.001134 0.179259 0.211841 -0.036595 0.000056 0.076861 0.045124 -0.074763 0.078221 0.117096 0.069695 0.177446 0.069993 -0.019553 0.069420 -0.136440 -0.073541 0.034488 0.010130 -0.049320 -0.126192 -0.014011 -0.150376 0.018110 -0.050861 0.051616 -0.031485 0.072905 0.019492 0.019141 -0.139351 0.074154 -0.130092 -0.175027 0.099399 -0.048371 -0.041421 -0.026789 -0.033582 -0.146243 -0.214179 0.153026 -0.058790 0.159399 0.058029 0.009563 0.062070 0.061519 -0.037018 0.185319 -0.068922 0.121670 -0.002093 0.177331 0.113587 0.011138 -0.288130 0.043084 0.066059 -0.001053 -0.117099 0.242560 0.110858 0.331359 0.290756 -0.107145 0.016573 -0.232748 -0.118867 -0.154674 0.206223 -0.105319 0.117429 0.104767 -0.123695 -0.202988 -0.240253 -0.010777 0.165275 0.128544 -0.103950 -0.175938 -0.124170 -0.037833 0.070564 -0.246365 -0.044675 0.138953 0.163799 -0.171695 0.024407 0.074543 -0.115400 0.081831 0.001785 0.101413 0.167961 -0.023508 0.109734 0.030006 -0.023259 0.128719 0.163401 -0.047052 -0.013786 -0.129399 0.071015 0.034618 -0.050660 0.103819 0.174682 0.081865 0.127173 0.118232 -0.008557 -0.107247 0.029655 -0.012701 0.053837 -0.246193 0.351185 0.071789 0.031138 0.024268 0.135415 0.035877 0.135695 -0.049733 0.214935 0.134093 0.049511 -0.197310 0.099021 -0.074364 -0.181505 0.047353 0.327707 0.175225 -0.042231 -0.116992 -0.019415 -0.207714 0.068609 -0.088898 -0.010684 0.117105 -0.027952 -0.238890 0.323940 -0.146895 -0.301366 0.164310 0.084084 0.143653\n",
            "\n",
            "das 0.054631 -0.025860 0.243318 -0.217202 0.218626 0.138181 -0.168792 0.254765 -0.045222 -0.007825 -0.043145 -0.077479 -0.080319 -0.313604 0.026728 0.090668 0.229070 0.029825 0.086202 -0.100723 0.027936 -0.168212 -0.007671 0.040705 0.027346 -0.021130 0.019143 0.070266 -0.196696 0.112502 -0.042692 0.186598 0.000975 0.155806 0.083019 -0.056248 0.212246 -0.110787 -0.314047 -0.015260 -0.011125 -0.018849 -0.403009 0.299275 -0.118881 -0.021763 0.075752 -0.042754 0.075412 0.108258 -0.022834 0.055003 0.054358 0.067959 0.167795 0.128509 -0.246889 -0.149540 -0.240117 -0.005965 0.105372 0.214406 0.151040 0.222152 0.022736 -0.072182 -0.105229 0.086565 -0.035275 0.004601 0.090770 0.079086 -0.158532 0.242686 0.023092 0.067434 -0.145512 0.106457 0.029321 0.117662 -0.264431 0.143198 0.030965 -0.058636 -0.044266 -0.033040 0.002699 0.026108 -0.057068 -0.075796 0.012187 -0.054342 0.062184 0.019941 -0.075631 -0.035808 0.085584 0.168595 -0.211898 -0.042812 0.127370 -0.038461 0.061251 -0.143371 -0.155619 -0.184254 0.117373 -0.160389 -0.142190 -0.203576 -0.103110 -0.024185 0.382396 -0.013065 0.162782 0.152599 0.159286 0.005057 0.068973 -0.054134 0.173098 -0.073387 0.098725 0.126314 0.033033 0.150234 0.119820 0.025416 -0.155848 0.010464 0.144019 -0.128250 -0.032997 -0.050441 -0.010459 0.084685 0.161057 0.083827 -0.094433 -0.044114 0.098623 0.213561 0.132385 0.011351 0.049015 0.169215 0.104423 -0.375627 0.067211 -0.039220 0.160941 -0.156485 0.053539 0.223300 -0.011173 0.118340 -0.101187 -0.140247 -0.193055 0.018937 0.021229 0.099417 -0.015384 0.315139 0.191354 -0.122225 -0.004957 -0.056975 0.079103 0.098273 0.175780 -0.141670 -0.062475 -0.237971 0.066594 0.104936 -0.034957 0.146806 0.149567 0.205497 0.041515 0.171585 -0.239632 0.104822 0.046555 -0.083141 -0.053526 -0.067564 0.106855 0.088408 -0.006800 0.155346 -0.117039 0.022503 -0.098467 0.215849 -0.073572 -0.080729 0.091195 -0.032666 0.115515 -0.068670 -0.021267 -0.007804 0.005360 0.106407 0.219756 -0.129368 -0.033670 -0.125350 0.054015 0.009160 0.108726 -0.026323 0.008909 -0.198916 0.174859 0.237848 0.094068 -0.076008 0.295277 0.155270 -0.027254 -0.211547 0.060620 -0.181696 0.166864 0.178645 0.276696 -0.116669 0.032389 0.137489 0.089818 0.107998 0.041449 0.249042 -0.421158 -0.064016 -0.010061 -0.430161 0.190783 -0.033916 -0.198750 -0.055082 0.392011 0.048502 -0.129749 -0.341456 -0.004762 -0.021587 -0.442626 0.036904 0.254802 -0.154386 -0.200035 -0.321051 0.294775 -0.021304 -0.146624 -0.122674 0.017845 -0.166890 0.134988 0.116199 0.312090 0.266190 0.142448 0.328825 0.138004 0.005138 -0.169040 0.093492 -0.122768 0.134304 -0.048313 -0.143191 0.030472 0.038567 -0.025056 -0.050804 0.279391 0.162137 0.151664 0.073067 0.039656 0.051586 -0.181073 -0.118005 0.017589 0.022130 0.065587 -0.023084 0.164436 0.222259 0.291251 -0.300157 0.101372 -0.061967 0.206539 -0.095103\n",
            "\n",
            "- -0.186270 0.024868 0.059059 -0.052663 -0.168077 0.036478 -0.022387 0.020480 -0.043963 -0.090250 0.045346 0.230284 0.099547 -0.181813 0.079094 -0.241967 0.149477 0.043429 0.038069 -0.096266 0.150919 -0.043659 -0.075612 -0.205781 0.211220 0.085095 0.166118 -0.053045 0.173935 -0.221914 -0.086577 0.197119 -0.162782 0.034187 -0.118632 -0.191951 -0.040192 0.023571 0.038925 -0.010419 -0.262184 -0.005434 0.040173 -0.157731 -0.085663 0.037672 -0.260157 -0.139178 -0.012907 0.329843 -0.060834 0.045793 0.139828 -0.017068 -0.124352 0.151848 0.007174 -0.034513 0.095930 0.046271 -0.085055 0.011743 0.103796 0.061499 0.134766 -0.078954 0.019548 -0.019563 0.097740 -0.135000 0.003736 -0.127146 -0.204111 0.062217 -0.242711 0.144047 -0.114226 0.063845 -0.003113 0.056161 -0.044537 -0.024685 -0.208675 0.050093 0.034325 0.110161 0.064530 -0.136320 -0.210604 -0.014007 0.058412 0.091658 0.241971 0.155011 -0.045349 -0.164053 0.073174 0.072155 -0.162280 -0.050945 -0.056223 0.119713 0.045198 -0.037595 -0.044355 0.093228 -0.040458 0.142032 0.021872 0.119126 0.058037 0.195905 -0.112797 -0.038499 -0.019854 -0.047166 0.027185 -0.087511 0.022340 -0.058751 0.103406 -0.129668 -0.348146 0.071484 -0.043252 0.240378 0.068924 -0.053232 0.116880 0.046575 -0.009516 -0.090363 -0.082204 -0.195822 -0.027351 -0.001741 -0.006680 0.004697 -0.166886 0.005916 -0.025883 -0.093728 0.079490 0.150048 0.063187 0.081228 -0.023023 -0.153497 -0.068177 -0.110450 -0.077432 0.012940 0.075492 -0.012213 0.083639 -0.115025 0.087716 0.081496 -0.028430 0.022116 0.062084 0.110266 -0.007298 -0.043271 0.336743 0.080403 0.173642 -0.161355 -0.043925 -0.018263 -0.057719 0.063636 -0.096162 0.044827 -0.028395 -0.134001 0.205164 -0.148959 0.057564 0.020554 -0.045755 -0.041720 0.023893 0.090116 -0.036848 0.119005 0.112366 0.103087 -0.037595 -0.022346 0.029369 -0.123540 0.136396 -0.003582 0.030588 0.077909 -0.004600 0.081665 0.050879 0.039067 -0.232967 0.059063 -0.177450 0.082593 0.087323 0.032584 0.163952 0.153984 -0.107292 -0.052067 0.115351 -0.103954 -0.079354 -0.083772 -0.016439 0.011057 0.043562 0.149910 -0.132237 -0.037443 -0.037615 -0.030904 -0.059723 -0.009715 -0.027865 0.170534 0.094435 0.025852 -0.041779 0.038213 -0.038836 -0.068242 -0.097790 0.182717 0.103948 -0.157597 -0.167693 0.055084 0.014392 0.040444 -0.048291 0.086977 0.109617 -0.066217 -0.071723 -0.079850 -0.012923 -0.193351 -0.016925 0.114901 -0.060821 0.082163 -0.108086 0.077790 -0.075702 -0.142975 0.030637 -0.044832 -0.023846 0.144415 -0.111224 0.045344 -0.082753 0.221312 0.017242 -0.033507 -0.009751 -0.031244 0.062354 0.039884 0.037240 0.143942 -0.176270 0.026690 -0.079224 -0.102572 -0.172749 0.006020 -0.057829 -0.071092 -0.038355 -0.142057 0.128810 -0.208174 0.019871 0.273598 -0.117067 0.057474 -0.152079 0.130409 0.031162 -0.117134 0.199727 -0.106087 -0.110053 0.012077 -0.099347 0.061124 0.213635 -0.028464\n",
            "\n",
            "mas -0.049685 0.260063 0.031433 -0.077265 -0.032151 0.052184 0.022047 0.136787 -0.175181 -0.131444 -0.049731 -0.016067 -0.084657 -0.086135 -0.088370 0.039567 -0.113670 0.104403 0.003994 -0.154668 0.122679 -0.002225 -0.130395 0.213431 -0.121368 0.020240 0.002477 0.117136 -0.003061 -0.043743 0.182047 -0.164153 0.192472 -0.004282 -0.032182 0.290802 -0.067766 0.066147 -0.006216 -0.182846 -0.099637 -0.087384 0.137052 0.221157 -0.089588 0.102926 -0.019338 0.055747 -0.100479 0.099751 -0.289673 -0.070838 -0.159483 -0.163072 0.116016 -0.018311 -0.037912 -0.108424 -0.058950 0.109030 0.112851 0.026531 0.019297 0.095962 0.039292 0.125595 0.036530 -0.163009 -0.064367 -0.084225 -0.027962 0.090247 0.114603 -0.209052 -0.135845 0.094370 0.146673 -0.031268 -0.054053 0.090758 -0.004137 -0.029183 -0.054009 -0.177250 0.039027 0.015614 0.099289 -0.016690 0.112830 -0.040420 -0.038541 0.090948 -0.135376 -0.059225 0.062573 0.102454 -0.063726 -0.063479 0.156950 -0.033485 0.080952 -0.146649 0.070196 0.017995 0.060379 -0.055053 0.304962 -0.046021 -0.110835 0.062176 -0.138253 0.013555 -0.159257 -0.137567 0.111381 0.109645 0.039063 0.037728 0.139619 -0.179438 0.089812 -0.122188 0.396017 -0.012725 -0.108926 0.087966 -0.022908 0.066171 -0.061093 -0.093316 0.065354 -0.034979 -0.113461 0.133091 -0.115769 -0.236053 -0.018098 -0.004542 0.032896 0.096564 -0.109155 0.114883 -0.014818 0.133997 -0.062450 0.082764 0.066331 -0.046526 -0.155747 -0.092565 0.162328 -0.046121 -0.088263 -0.069598 0.035714 -0.188078 -0.063782 0.000718 -0.024574 0.149008 -0.129276 -0.047659 0.020052 -0.144086 0.074170 -0.161659 -0.143955 -0.031742 0.055827 -0.057768 0.005683 -0.002111 0.101681 0.096797 0.024942 0.103854 0.100655 0.057788 0.085058 -0.046150 -0.051416 -0.063053 -0.024107 -0.127242 -0.193434 0.078135 0.037921 0.073218 0.024455 0.185950 0.004712 0.124755 -0.103621 0.055736 0.086161 -0.102267 -0.074420 0.133050 0.024264 -0.145510 -0.066270 0.045900 -0.067570 0.058857 -0.065923 -0.032775 -0.067514 -0.108144 -0.093899 -0.004381 -0.059930 0.056041 0.230668 0.075000 0.067937 -0.064521 0.036289 0.039996 -0.080812 -0.059839 -0.240875 0.167288 0.075307 0.133193 -0.030326 -0.025008 0.068711 0.158161 -0.106901 -0.081959 0.012741 0.088187 0.071290 -0.113637 0.142794 -0.018620 -0.073973 0.013333 -0.053357 0.055241 -0.052977 0.029948 -0.185078 0.065892 0.042336 0.077465 -0.057230 -0.107435 -0.095105 -0.375148 -0.193016 -0.164904 -0.002059 0.148263 0.047128 -0.109383 -0.139083 -0.053929 -0.025782 0.053683 0.021627 0.020015 0.007903 0.200257 0.009367 0.041348 -0.199096 0.027562 -0.020288 -0.090337 0.126918 0.104348 -0.133805 -0.008780 0.026780 -0.090978 -0.144477 0.131086 0.005088 0.048829 -0.328167 0.050417 0.005406 -0.018765 0.147921 0.007671 0.186180 -0.145249 0.096393 0.038546 0.100575 0.077870 0.051005 0.037356 0.069105 0.139707 0.035627 0.013993 -0.124697 0.054922\n",
            "\n",
            "sua -0.127646 0.134144 -0.083186 -0.052249 -0.044833 -0.215074 0.051050 -0.105617 0.069456 -0.107058 -0.005453 -0.052526 -0.064765 -0.077273 0.098940 -0.068109 -0.074315 -0.133475 -0.215700 0.025493 0.045809 -0.040039 -0.023266 0.261174 -0.095086 -0.026163 0.038082 -0.168340 -0.256986 -0.156988 0.200079 -0.088959 0.212698 0.023121 -0.269874 -0.088451 -0.067889 0.110790 -0.081379 0.293426 0.132201 -0.035773 -0.210260 -0.070160 -0.025878 -0.238468 0.023459 0.034171 0.051181 -0.025473 -0.124391 0.050143 -0.335653 0.064933 -0.216094 0.113501 0.216248 0.012134 -0.029240 0.019597 -0.102875 -0.154841 0.033967 -0.274910 0.047879 -0.272708 -0.228553 -0.057146 0.225395 0.113839 -0.273855 -0.238908 0.206639 -0.060246 -0.003409 -0.022949 -0.147624 0.051484 0.212082 0.188892 -0.215676 0.002021 0.330843 -0.019227 -0.021410 -0.041035 -0.149403 -0.137061 0.134690 0.055071 -0.142105 0.125576 0.032703 0.035423 0.013813 -0.041696 -0.091247 0.000479 0.108995 -0.123007 0.100880 0.183543 -0.016355 0.057983 0.068537 -0.141979 0.023615 0.213066 -0.079030 -0.006342 0.123746 0.225923 0.037220 0.084342 0.005902 0.142153 -0.248072 -0.205367 0.029221 -0.054937 -0.287267 0.038481 0.144667 0.027004 -0.130099 -0.026745 -0.037588 -0.051256 -0.012396 -0.023603 0.168507 0.031344 -0.051578 0.250195 0.223048 -0.222528 0.148980 0.169359 -0.064046 0.366507 0.125484 -0.091724 0.172000 -0.072641 -0.259562 -0.025784 0.063450 0.191347 0.105091 0.072673 -0.085194 0.066176 0.075091 0.072211 -0.318381 0.038071 0.001932 0.241644 0.039553 -0.045945 0.190153 -0.133779 -0.297694 -0.172884 -0.271701 -0.090191 0.027880 -0.243628 -0.082379 -0.066834 0.125563 0.116666 -0.081639 0.010290 0.151569 -0.133436 -0.224391 -0.106953 -0.204641 0.244507 -0.128864 -0.134226 0.128194 -0.047052 0.086261 0.076574 -0.013709 -0.158256 0.086366 -0.204611 0.048428 0.034155 0.232296 -0.116644 0.195787 -0.048594 0.034041 0.118626 -0.082843 -0.310253 -0.049306 0.142264 0.115627 -0.138017 0.254281 0.001332 0.076358 -0.115474 0.323976 0.033135 -0.193970 -0.166451 -0.106902 -0.106347 0.022552 -0.016590 0.249915 0.022609 -0.027587 0.063787 0.288807 0.100502 0.075701 -0.121292 0.238352 0.103066 -0.048584 0.007046 -0.006274 -0.482012 0.212644 0.199879 0.214671 -0.145681 0.277342 -0.074150 -0.132209 0.048611 -0.090107 0.051307 -0.107418 0.186292 -0.022031 -0.023630 -0.126723 0.124951 -0.245092 0.019083 -0.040827 -0.052789 -0.053894 0.054259 -0.046034 -0.179306 0.175605 0.043148 -0.147680 0.006740 0.135833 0.015087 0.012489 -0.015163 0.020644 0.241131 0.109528 0.003547 -0.064312 0.228114 -0.003404 0.162166 -0.230020 -0.000953 -0.147876 0.239179 0.143597 -0.217184 0.258980 0.168699 0.155196 0.109044 0.003210 0.013622 -0.012605 -0.015511 -0.090516 -0.167823 -0.059419 -0.112185 -0.067368 -0.149867 -0.107254 0.108582 0.066810 0.081557 -0.095351 -0.019906 -0.047528 0.026065 -0.214449 -0.043498\n",
            "\n",
            "ou -0.206768 0.110889 -0.048258 0.012033 -0.036413 0.126547 0.077484 -0.003118 -0.139898 0.071783 -0.077245 0.014489 -0.072323 -0.032110 -0.066544 0.104103 -0.051517 0.071058 -0.002482 -0.003835 0.067092 0.042868 -0.011676 -0.117329 -0.115540 0.034474 0.112072 -0.091951 0.087626 0.003294 0.102325 0.094203 0.037850 0.046510 -0.189425 -0.035493 0.018416 -0.190245 0.033920 -0.145132 0.014223 0.062066 0.090277 0.229322 0.033039 0.134106 0.026368 0.153871 0.010126 0.145785 -0.058283 -0.161322 -0.050566 0.138414 0.056771 0.026922 -0.164586 0.097820 -0.134372 0.044687 0.041632 0.015467 0.040040 -0.057461 -0.240140 -0.081690 -0.206825 -0.086299 0.037747 0.061709 -0.006741 -0.007969 0.221291 -0.130258 -0.117086 0.001761 0.025964 -0.125709 0.315181 -0.073567 -0.023485 -0.046573 0.066949 0.007770 -0.093946 -0.145649 0.107068 -0.081256 -0.022564 -0.121115 0.096012 0.238608 -0.120150 -0.037662 0.111841 -0.112610 0.218338 0.053857 0.207624 -0.125623 0.183665 -0.056278 0.002565 -0.073154 0.006195 0.057940 0.085577 0.026383 0.011974 -0.029697 -0.080809 0.134552 0.150738 -0.009822 0.083032 -0.010393 -0.060173 -0.010974 0.049204 -0.051005 0.037998 0.155251 0.178447 -0.158571 0.055529 -0.091232 0.191161 0.071808 -0.092229 -0.076828 0.191018 0.054662 -0.068577 -0.006387 -0.029847 -0.025752 0.045476 0.014181 0.006529 -0.126356 0.138494 0.145973 0.091245 -0.119664 0.128628 0.185066 -0.022187 -0.025145 -0.168718 -0.048015 0.025083 -0.203641 -0.110266 0.099384 -0.070157 -0.196233 -0.004902 0.155829 -0.020116 -0.013018 0.093279 -0.175052 0.084163 0.086682 -0.000062 0.015563 -0.006802 0.202031 0.038537 -0.204271 0.085282 -0.180727 0.050600 0.093447 -0.014064 -0.053849 0.198974 -0.014956 0.003706 0.081580 0.255397 -0.049728 -0.121067 0.049186 -0.078544 -0.001494 0.010693 0.116328 -0.082168 0.028159 0.003385 -0.073690 0.138124 -0.061592 0.103635 0.125984 0.069849 0.012231 -0.057518 -0.001515 -0.021677 0.011865 -0.007058 0.140035 0.109882 -0.002724 -0.109811 -0.079810 0.066769 0.046912 0.066570 0.145870 0.158731 -0.032070 0.145523 -0.145427 0.104444 0.090109 -0.062207 -0.201262 0.001509 -0.044896 0.137080 0.132634 0.071106 0.059646 0.160538 -0.016583 0.031726 -0.071046 0.207473 0.074537 0.104186 -0.100352 0.021400 -0.027189 -0.109512 -0.076849 -0.018395 -0.096004 -0.046883 -0.154886 0.006065 0.021103 0.103091 0.012860 -0.187213 -0.311879 0.017321 -0.109912 0.057178 0.058408 -0.018641 0.117497 -0.033032 -0.093194 -0.047248 0.055837 -0.040387 0.011072 0.003388 -0.023808 -0.103695 -0.024371 -0.026743 -0.173682 -0.056908 0.087184 -0.191746 -0.108105 0.024686 -0.048262 -0.174566 0.064575 0.039437 -0.094221 -0.027538 -0.015923 0.089652 -0.250025 -0.069477 0.148356 0.102407 -0.085316 0.131592 0.259334 0.047207 -0.097856 -0.046355 0.156288 -0.015730 0.059176 0.137428 -0.169661 0.110918 -0.057047 0.202964 0.083102 0.067811 -0.036353\n",
            "\n",
            "ser 0.086486 -0.015633 0.139625 0.081628 -0.120821 -0.072279 -0.150537 0.157765 0.206108 0.460423 -0.095434 0.161665 0.142156 0.121533 -0.096304 -0.146929 0.149802 -0.063530 0.105635 -0.224934 -0.285474 0.048883 -0.080657 -0.011396 0.105025 0.042789 0.254703 0.113278 0.023123 -0.066985 -0.065383 -0.053894 0.087192 0.064858 0.035604 0.255547 0.052460 0.334483 -0.173755 -0.104560 0.254948 -0.086532 0.036272 0.435309 -0.034992 0.082783 0.417977 0.072494 0.002926 -0.045742 0.175116 -0.076984 0.107739 0.020765 0.459829 -0.173221 0.347641 0.239109 -0.354492 -0.053625 -0.191927 0.140257 0.043707 0.004734 0.015792 -0.227169 0.033157 -0.136055 0.014927 0.048000 0.140732 0.174272 -0.138311 0.230240 0.273188 -0.115277 0.364657 -0.007230 -0.087502 0.089502 -0.190541 0.054244 -0.453659 -0.013115 -0.148762 -0.218217 0.109852 0.215620 -0.331032 -0.348842 -0.189875 0.213939 -0.040667 -0.080111 0.109266 -0.051072 0.233764 -0.092945 0.277509 -0.150856 -0.053456 0.138315 -0.072024 -0.145697 -0.014997 0.058922 -0.106749 0.095920 0.270765 0.111379 -0.107290 -0.058844 0.115986 0.050155 -0.052584 -0.004101 -0.284859 -0.134021 0.065917 0.104632 -0.118168 -0.057539 -0.246279 0.253929 -0.015962 0.334780 0.157470 0.042118 0.066843 0.188012 0.122524 0.071247 0.042275 0.028675 -0.180884 0.043262 -0.151558 0.050318 0.068512 -0.020317 0.199937 -0.173276 0.050759 -0.107650 -0.062906 0.072012 0.038868 0.015344 -0.050158 -0.051184 0.095501 0.136700 -0.330553 0.020302 -0.185572 0.019857 0.123350 0.094853 0.171226 -0.110797 -0.015098 0.148610 0.068308 -0.180657 -0.038154 -0.202323 0.055959 -0.041553 0.083362 -0.135663 -0.322815 -0.053244 -0.252084 0.092917 0.128416 -0.209882 -0.073977 -0.165267 0.205913 -0.098108 -0.145726 -0.021093 -0.067652 -0.086078 0.015333 -0.025629 -0.024235 0.032934 -0.105123 -0.063783 0.185063 0.241280 -0.036957 -0.063707 0.049883 0.017913 0.097433 -0.155661 -0.148841 -0.108434 0.146653 -0.018995 -0.258955 -0.163142 0.061189 0.262792 0.245087 -0.118057 0.041116 0.038375 0.249806 0.121130 -0.006829 0.137681 -0.161269 -0.143273 0.195023 -0.343604 0.106601 0.238650 -0.170782 0.400491 -0.220621 0.336759 0.358876 0.033887 -0.143365 0.092993 -0.300039 -0.211913 0.046677 -0.297712 0.264221 0.181777 -0.025934 0.061237 -0.017467 -0.117531 0.022306 0.225581 0.042864 0.165632 0.467885 0.073050 -0.098636 0.098933 -0.037583 -0.022010 0.265787 -0.187528 0.094062 0.212802 0.133803 0.100751 -0.024523 0.315133 -0.036464 0.122611 -0.321808 0.161079 0.067307 0.027613 0.005955 0.065904 -0.056858 0.120990 0.088455 0.086094 0.205765 -0.063440 -0.017420 0.371364 0.131249 0.053368 0.055702 0.399696 -0.186081 0.058997 0.100338 0.220058 -0.126784 0.262250 0.255067 0.100054 0.104971 -0.039130 0.006457 -0.360462 0.239391 0.198958 -0.093402 -0.325779 0.160753 0.393574 0.085029 0.115601 0.053970 0.015961 -0.180026 -0.035891\n",
            "\n",
            "seu 0.095428 -0.008712 -0.086338 -0.045116 -0.308212 -0.011214 0.320021 -0.002006 0.125628 0.051120 0.169451 0.159614 0.072692 -0.032851 0.149184 0.152668 0.180860 -0.235286 -0.112312 -0.249752 0.028805 0.032015 -0.090110 -0.064120 0.017578 -0.067892 -0.088177 0.131674 -0.271076 -0.034800 -0.116394 0.102205 0.013360 -0.168356 -0.295545 0.113896 0.305308 0.001925 -0.124322 -0.039702 0.068935 -0.055189 0.067569 0.127858 -0.151775 0.369046 -0.010917 0.073970 -0.032367 0.183102 0.112551 0.057585 -0.110953 -0.082253 -0.072149 -0.257182 0.001857 -0.057473 0.069724 -0.063823 0.003292 -0.111921 0.058656 0.154990 -0.077927 0.248193 0.079317 0.070032 0.005176 0.221119 0.004589 0.003734 -0.039777 -0.095162 -0.013561 -0.003699 0.234471 -0.071823 0.057192 0.078224 0.052396 0.260706 0.025592 0.106095 0.026578 -0.169428 0.020245 0.058064 -0.116842 0.104707 -0.268401 -0.285962 -0.034675 0.152708 -0.014887 -0.004139 -0.000739 -0.148757 -0.199692 0.327121 -0.047024 0.277876 -0.011861 0.061665 -0.116194 -0.132177 0.009599 0.030612 0.085595 -0.177448 -0.021609 0.013439 0.035782 0.005538 0.216924 0.026475 -0.161977 0.038970 -0.141897 0.100300 0.268212 0.061383 -0.079589 -0.088491 0.183038 -0.173367 0.243075 0.116469 -0.133008 -0.131359 0.187244 -0.077906 0.075820 0.047053 0.221955 0.019812 -0.044851 0.096512 -0.103732 -0.073271 0.024997 -0.232378 0.137179 -0.331929 -0.189326 0.088722 0.102865 0.276545 -0.118032 -0.086910 0.111105 0.054016 0.054869 -0.012019 -0.124158 -0.099681 -0.096611 -0.045711 0.156430 0.178934 0.124885 0.079403 -0.158468 -0.018645 -0.185760 -0.046414 -0.266364 -0.171697 -0.358498 0.105926 0.130872 0.125239 0.038403 -0.113487 -0.163042 0.032750 0.022532 -0.101359 0.024145 -0.010371 -0.215441 -0.123132 0.116561 -0.159473 0.106697 0.153994 0.079961 0.028645 0.097278 0.113171 -0.134811 -0.011002 0.145315 -0.063075 -0.098967 0.160854 -0.077042 0.036379 0.153022 0.000083 0.163341 0.190210 0.222587 -0.264435 -0.090899 -0.023402 -0.113276 -0.137288 0.346845 0.250408 -0.146494 -0.082479 -0.036906 0.063184 -0.096173 -0.006756 0.075522 0.282496 -0.084173 0.038942 0.070816 0.172848 0.060347 -0.163868 0.394218 -0.029878 0.106138 -0.145742 0.405887 -0.112839 -0.033113 0.058870 -0.124249 -0.073606 0.134960 -0.135012 0.145976 -0.241181 -0.172027 0.113773 0.190151 0.004624 0.003050 0.120928 0.000119 0.133624 0.149291 -0.104097 -0.143079 -0.124235 0.045650 -0.055439 -0.004684 0.000452 0.136069 -0.011792 -0.247846 0.037495 -0.141389 -0.076924 -0.074324 -0.201695 0.163804 0.070042 0.028789 -0.062097 0.097091 0.231231 -0.035023 -0.127018 -0.256200 0.133362 -0.135999 0.238737 -0.130503 0.077849 0.154681 -0.026059 -0.031350 -0.344631 -0.198799 -0.199152 -0.239942 0.007142 0.060812 -0.167612 -0.138457 -0.033140 0.171597 0.030493 0.161682 -0.041807 0.195946 0.024095 -0.127310 -0.100295 0.115720 -0.076209 -0.094856 0.091018\n",
            "\n",
            "000 -0.240507 0.171107 0.081316 -0.039522 0.117260 -0.139806 0.398529 0.067243 -0.197842 0.047580 0.610362 0.061483 0.081960 0.052698 0.043902 -0.174306 -0.033936 -0.115011 -0.009161 -0.197006 0.016244 0.290569 -0.015590 0.094855 -0.130127 0.368942 -0.005147 0.189986 -0.186449 -0.215426 0.258585 0.051528 0.023628 0.061580 0.083438 -0.005188 -0.206762 0.311698 -0.021984 0.028871 0.030086 0.042343 0.039046 -0.124817 0.068621 0.085916 -0.018101 -0.068704 -0.100086 0.140082 0.115781 0.364377 -0.104950 0.166281 -0.134936 0.190989 -0.208793 0.046098 0.103959 0.046793 0.065243 0.256585 0.162169 -0.158940 0.142238 0.096710 0.252529 0.044453 0.032132 -0.189597 -0.118690 -0.039214 0.089002 0.142893 -0.067121 -0.017471 -0.128391 -0.004284 -0.031644 -0.286652 0.207225 0.123132 0.130230 -0.207800 0.137768 -0.114078 -0.309773 0.162470 0.298185 0.050232 0.179972 -0.017048 -0.085114 0.052237 0.188106 -0.035419 0.039285 -0.205263 -0.110460 -0.043269 -0.045445 0.080573 0.040440 -0.069918 0.175476 -0.123629 0.229588 -0.059368 -0.195184 -0.014949 0.114515 0.001289 0.306931 0.016800 0.268517 -0.038041 0.046579 0.166841 0.097523 0.241744 0.046862 -0.064492 0.241247 0.131101 0.133981 -0.174310 -0.165395 0.060061 -0.162971 0.069789 0.111669 0.253391 0.096574 0.009037 -0.148101 0.035044 0.094937 -0.278965 0.366827 -0.134480 -0.054049 0.055363 -0.282609 -0.340797 -0.121701 0.294508 0.100766 0.157381 0.299601 0.169189 -0.135482 0.046517 0.015162 -0.118321 0.164187 -0.139855 0.098749 0.051598 0.260684 0.252976 0.043135 -0.191466 0.156299 -0.061550 -0.182386 -0.062780 -0.002044 0.022624 -0.005305 -0.102015 0.063562 -0.092231 0.053454 0.208111 0.195876 -0.090849 -0.032693 0.350341 0.077333 -0.043961 0.209512 0.093207 0.115456 0.148942 -0.030782 -0.293010 -0.076889 0.235438 -0.037271 0.210367 0.098269 0.281382 0.070618 -0.081744 -0.096860 0.014239 -0.055597 -0.173532 -0.114861 -0.086806 0.198954 -0.168905 -0.147758 0.030420 -0.068677 -0.068501 -0.105854 0.303136 0.017323 0.327701 0.099370 -0.207446 0.030178 0.039023 -0.078484 -0.398342 0.045449 -0.034545 -0.015933 0.007268 0.042699 0.040180 -0.085848 -0.328322 0.164337 -0.052882 -0.124193 -0.190254 -0.213865 0.139988 0.114892 -0.127805 -0.052232 -0.226427 -0.062795 0.018222 0.007990 -0.225148 -0.074557 -0.116663 -0.101509 0.120050 -0.051165 -0.362907 0.007662 -0.023897 0.147352 0.097896 0.068330 -0.054938 -0.230929 -0.141701 0.331941 -0.138678 0.018244 -0.095522 0.217082 0.262509 -0.157677 -0.071818 -0.100838 0.048326 -0.118103 -0.120197 -0.166305 -0.002835 0.208263 0.027686 0.244867 0.036419 0.250687 -0.053228 0.205444 0.132869 -0.163361 -0.004158 0.337461 -0.186044 0.175115 0.139726 -0.086534 -0.019940 0.162343 0.280712 0.099513 -0.162282 0.183950 -0.404562 -0.002738 -0.019946 0.003518 0.165482 0.178786 -0.069773 0.057971 -0.114484 -0.209241 -0.013383 0.115398 0.213556\n",
            "\n",
            ": -0.061689 -0.060055 -0.044821 -0.034702 -0.029049 -0.007740 -0.091165 -0.156596 0.031042 -0.164666 -0.006913 0.129241 -0.013594 -0.088449 0.051821 0.110048 0.191969 0.116105 0.022183 0.030839 0.012030 -0.124917 -0.064503 -0.101703 0.153002 0.124012 0.027682 0.295177 -0.128027 -0.131790 0.074538 0.254381 -0.259407 0.091635 -0.118708 -0.090437 -0.064909 -0.049571 0.034934 -0.145556 0.029905 0.053026 0.060965 -0.131078 0.043825 -0.094979 -0.155069 -0.030009 -0.076770 -0.013209 -0.087171 0.015123 0.021203 0.024305 -0.006678 0.046074 -0.145827 0.024746 0.038636 -0.009683 -0.082224 0.063188 -0.001612 0.211486 -0.030278 -0.157191 0.019769 -0.093686 0.133180 -0.009723 -0.161692 -0.032951 -0.041775 -0.005684 -0.133939 0.141599 -0.101592 -0.092772 0.131354 0.014793 -0.124841 -0.013346 -0.061098 -0.013761 -0.132996 -0.003362 0.016902 -0.349749 -0.154218 -0.041728 -0.045456 0.119184 0.248986 0.034646 0.176464 -0.241241 0.156823 -0.003560 -0.046256 -0.003359 -0.080709 0.098402 -0.029485 0.030239 -0.046427 -0.062467 -0.134030 0.048085 0.003483 0.030550 -0.004799 0.166874 0.090281 -0.151760 0.197917 0.053662 -0.046457 -0.310319 -0.022123 0.068513 0.059020 0.023816 0.035916 -0.044676 0.017477 -0.009634 0.030177 -0.099251 -0.024793 0.148049 -0.052130 0.076128 -0.016332 0.048389 0.063459 -0.071743 0.003503 0.174762 -0.058679 0.091756 -0.015160 -0.098670 -0.149763 0.159104 0.051453 0.101454 -0.013726 0.026843 0.070453 -0.068039 0.043378 -0.175654 -0.083468 -0.065772 0.001095 -0.109829 0.104240 0.021658 -0.112610 0.207785 -0.012315 -0.189582 0.112030 0.127052 0.204632 0.040790 0.017234 -0.078481 -0.110446 -0.004094 0.136358 -0.064909 0.066426 0.035152 -0.187705 0.079770 -0.021736 0.006832 0.190377 0.024887 0.003513 0.052773 -0.125700 -0.029234 0.031444 -0.202516 0.100822 0.092644 0.020518 -0.025308 -0.022609 0.042731 -0.042712 -0.069667 0.128236 -0.031858 -0.004229 -0.001776 0.180843 0.163764 -0.028082 -0.112965 -0.067801 0.068819 0.010019 -0.039820 0.114975 -0.033463 -0.085448 -0.021521 0.011830 0.106380 -0.010123 -0.065262 -0.022235 0.022686 0.025955 0.005178 0.152719 0.058246 -0.082352 0.076450 -0.069270 -0.008472 -0.010268 0.128426 0.058949 0.029194 -0.040223 0.047446 0.074219 0.028103 0.157303 -0.109076 0.090664 -0.091395 -0.138408 0.001618 -0.142518 -0.017403 0.088798 0.124017 0.050597 -0.060662 0.012344 -0.047456 -0.117678 -0.241377 0.024937 -0.060588 -0.097186 0.095678 -0.228840 0.053951 -0.292086 0.026221 0.003899 0.028968 -0.017946 0.064472 -0.081876 0.104107 -0.003706 0.166345 0.073555 -0.111503 -0.002226 -0.116222 -0.118007 0.057513 0.053834 0.093585 -0.027539 -0.016728 -0.040803 -0.083085 0.072878 0.042991 -0.051681 -0.068172 -0.033719 0.032067 -0.074741 0.091561 0.104466 0.274241 0.014615 0.007824 -0.171106 -0.069358 0.118650 -0.033703 0.241486 0.086451 0.013242 -0.009529 0.045922 0.033439 0.092164 0.160557\n",
            "\n",
            "são -0.178597 -0.092652 -0.152740 0.262349 -0.142646 -0.175627 -0.065320 -0.063167 0.207949 -0.171475 -0.028657 -0.008812 -0.157886 0.077862 0.043080 -0.124613 0.169466 -0.054874 0.212820 -0.001446 -0.151351 -0.071485 -0.093814 -0.109041 -0.154345 -0.154891 -0.012589 -0.152092 0.044857 -0.137762 0.038385 -0.017353 0.098461 0.252893 -0.248231 0.028822 0.074847 -0.041179 -0.154933 0.054188 0.362793 -0.109814 -0.204075 0.360254 -0.053362 0.194022 0.111702 -0.081207 0.049177 0.062837 0.111770 -0.183060 0.027545 0.050813 0.060935 0.212876 -0.231312 0.008263 -0.005043 -0.196702 0.269679 0.027219 -0.000202 0.377375 -0.107398 0.020828 -0.160787 -0.153827 -0.073255 0.336048 -0.301498 0.130756 -0.220193 0.187372 -0.023326 -0.169820 -0.225647 -0.064003 -0.111697 0.222381 -0.110203 0.007672 0.317250 -0.024798 -0.037937 -0.042381 -0.223313 -0.016368 -0.108150 -0.165218 -0.034653 0.262053 0.087845 -0.210520 0.229816 0.259802 0.196920 0.122507 -0.177986 0.026031 0.019382 0.043728 -0.138876 0.108374 0.052228 0.082977 0.022528 0.018895 0.168298 -0.152343 -0.111606 -0.323690 0.073697 0.086985 -0.191189 -0.145894 0.126093 0.002194 -0.373926 0.018649 -0.034103 0.045114 -0.044840 0.407241 0.022159 0.022395 0.057401 0.380936 -0.050131 0.169811 -0.095510 0.080029 0.032486 -0.162808 0.084691 0.030093 -0.311077 -0.249824 0.147138 -0.303873 -0.041328 0.133307 0.099354 -0.085727 0.082353 -0.007490 -0.137304 -0.017602 0.081127 0.230187 0.122933 -0.111748 -0.167832 0.077182 0.124371 -0.090950 -0.015986 0.064276 0.253635 0.233710 0.268148 -0.123783 -0.008501 -0.315565 -0.074260 -0.105903 -0.095607 0.086358 -0.261263 -0.248037 -0.158474 -0.006890 0.119390 0.246466 -0.241311 0.014219 0.264982 0.088747 0.100116 0.006572 0.014771 0.075258 -0.070142 -0.103152 -0.019377 0.081279 -0.174615 0.223687 -0.138865 0.131916 0.195603 0.082093 -0.108005 0.063870 -0.102632 0.179959 0.357100 0.122399 0.230009 -0.046418 0.165914 0.133077 -0.192301 -0.043245 -0.088569 0.274575 0.281307 -0.130131 -0.384128 -0.201391 0.261632 -0.071672 0.037970 0.294016 -0.186092 0.092269 0.205302 0.004107 0.043524 -0.257758 0.169256 0.331409 -0.088889 0.158731 0.135827 -0.066016 0.026648 -0.130213 -0.150679 -0.031086 -0.183116 0.135276 0.133280 -0.011344 -0.270179 0.128536 -0.227415 -0.101529 0.178366 -0.027441 -0.064295 0.028567 -0.312953 -0.199913 -0.176663 0.113855 -0.147028 0.055598 0.005578 -0.017101 -0.168364 -0.112018 -0.113829 -0.094675 -0.070898 0.190278 -0.127722 0.244506 0.190994 0.169827 -0.081458 -0.277906 0.191862 0.155226 -0.174357 0.203563 -0.210595 0.101253 0.106922 -0.078294 0.385103 0.024210 -0.157117 -0.085371 -0.041289 -0.277171 0.229342 0.020914 0.138430 0.015425 0.245801 -0.161282 0.132942 -0.136088 0.067215 -0.224384 -0.021371 0.185123 -0.195927 0.075982 -0.342800 -0.253534 0.368545 0.088906 -0.052891 0.126772 -0.377078 -0.151434 0.018974 -0.197360\n",
            "\n",
            "« 0.296321 0.039787 0.009252 0.072379 -0.093918 0.049169 -0.015484 0.037631 -0.055537 0.026748 0.267424 0.131701 -0.103996 0.030199 -0.212653 -0.178084 0.070772 0.143539 0.060152 -0.125430 -0.027847 0.097082 -0.082227 0.258172 0.161668 0.154904 0.113199 -0.095653 -0.072196 0.153360 -0.157815 -0.089389 -0.008467 -0.147686 -0.089835 -0.120826 0.048824 -0.193308 -0.043006 -0.061781 -0.128263 -0.122161 -0.205276 -0.192858 -0.128672 0.091957 -0.016182 -0.151637 -0.038194 0.072774 -0.026361 -0.399172 0.079538 -0.141850 0.020409 0.040648 -0.001281 -0.041576 -0.163891 -0.046269 -0.017024 -0.097265 0.062170 0.127015 0.001940 -0.073772 -0.012995 0.125028 0.171628 -0.142637 -0.146428 0.039399 0.014013 -0.347789 -0.067669 -0.136039 0.065732 0.192399 -0.092495 0.086241 -0.051257 0.002266 -0.010240 0.212872 -0.028754 -0.262650 -0.224128 0.160391 -0.007559 -0.126182 0.265672 -0.210694 0.009845 0.159134 0.116034 -0.088838 -0.086434 -0.018495 0.217104 0.109755 0.142361 0.031563 0.074361 0.158701 -0.049333 0.166303 0.097163 -0.277291 0.261663 0.082123 0.000403 -0.028081 -0.020020 -0.032775 0.039710 0.081356 -0.268834 0.038730 0.024081 -0.176397 -0.004648 0.040201 -0.058174 0.177017 0.115737 0.060920 -0.061114 -0.158514 0.198635 -0.005344 -0.160574 -0.120025 -0.083944 0.138964 0.044159 -0.093617 -0.167803 -0.015320 0.097191 0.118591 0.008064 -0.042144 0.011204 0.161980 0.066377 -0.158701 -0.135517 -0.001641 -0.056157 0.061162 0.088200 0.010328 0.040755 -0.023880 0.008245 -0.172575 -0.091209 -0.121505 -0.125638 0.297012 0.343920 0.088550 0.303695 -0.192228 -0.089155 -0.122820 0.118842 -0.025620 0.019270 -0.055160 0.068209 0.067142 -0.077736 0.142766 -0.087421 0.125719 0.258353 0.071536 0.090563 -0.164402 -0.018745 -0.139677 -0.054250 0.017362 0.049325 0.061481 -0.152263 -0.003567 0.122726 0.088040 -0.034530 -0.246405 -0.047355 -0.076134 0.122728 0.100569 0.058897 0.019182 -0.070041 -0.070902 -0.242147 -0.194566 0.061592 -0.084365 -0.172341 0.024101 -0.068165 0.159505 -0.126412 0.147603 0.174034 0.122660 -0.026418 0.217685 0.048688 -0.043117 0.163384 0.098532 -0.108430 -0.153073 -0.037468 -0.062920 -0.049419 -0.126410 0.124196 -0.000495 -0.128094 -0.090663 -0.142258 -0.047649 -0.051533 0.185244 -0.068360 -0.032123 -0.032722 -0.038380 -0.144583 0.092091 -0.147875 -0.153839 -0.070309 0.168272 -0.035917 -0.031934 -0.075937 0.025382 -0.275220 -0.014942 -0.140854 -0.121473 0.057047 0.049310 -0.105633 0.049881 0.015586 -0.105854 0.021409 -0.204112 -0.199647 -0.088098 -0.112049 -0.133072 0.137167 0.232385 0.017658 -0.239841 0.078724 0.297026 0.009510 0.098412 0.156182 0.079847 -0.090544 -0.084458 -0.050044 -0.018572 -0.200110 -0.308310 0.073057 0.086762 0.028925 -0.140659 0.113932 0.119711 0.005933 0.062751 0.221718 -0.152862 0.190631 0.003901 -0.279213 -0.331642 0.149218 0.144875 -0.062650 -0.014988 -0.106171 0.012315 0.271851 0.028017\n",
            "\n",
            "pelo 0.025252 -0.013474 -0.199022 -0.074633 -0.107889 0.071703 -0.242216 0.099790 -0.371533 -0.055607 0.055312 0.016496 0.016673 0.013129 -0.169236 0.072313 0.104877 0.023385 -0.129340 -0.107625 0.102896 -0.105980 -0.073399 -0.172775 -0.100722 -0.055690 0.207665 0.142185 0.130295 -0.018861 -0.092842 0.098024 -0.095903 0.154402 -0.188542 0.200728 0.025432 -0.026732 0.212367 -0.039715 0.141259 0.062550 0.034774 0.092958 -0.111169 0.066202 0.022043 0.188269 0.021008 -0.137465 -0.077610 0.061878 0.055567 0.043478 0.094522 -0.111503 0.021329 0.074799 0.062803 0.227870 -0.000181 0.025350 0.110587 -0.071904 -0.164547 -0.157570 -0.187750 0.089837 0.063403 0.036435 -0.036182 0.006779 0.117148 0.032149 -0.149443 0.143075 0.281386 -0.306438 0.152826 0.017965 0.217369 0.179585 -0.044884 -0.183968 -0.241500 0.186868 0.106148 -0.121644 -0.108393 -0.135303 -0.081375 0.024419 0.276930 -0.006417 0.148115 0.096498 -0.016304 -0.240512 -0.085377 0.102236 -0.016360 0.066206 -0.029154 0.192776 -0.023496 -0.031867 -0.010081 0.105272 -0.088798 -0.138315 -0.133297 0.005292 -0.123615 -0.038495 -0.040416 -0.025874 0.125789 0.447200 0.017869 0.036140 0.181382 0.101371 0.013835 0.050680 -0.093604 0.182274 0.321942 0.027935 0.162590 -0.009387 -0.098859 -0.134407 -0.002014 -0.121331 -0.233840 0.051692 0.140519 0.181216 0.195397 -0.056564 -0.052738 0.015091 -0.018709 -0.095204 -0.162585 0.067169 0.118093 -0.074781 -0.046420 0.052614 -0.197095 -0.420015 -0.204911 0.046923 0.126935 -0.053737 0.164418 0.184063 0.248252 0.114681 0.010048 -0.126700 -0.139366 -0.071654 -0.062350 0.223656 -0.198996 0.034373 -0.163964 -0.087965 -0.169109 0.023047 0.055344 0.440983 0.365760 -0.192695 -0.250541 -0.122953 0.052330 0.212974 0.232820 0.139401 0.210672 0.026455 0.121506 0.023868 -0.003216 -0.082666 -0.031299 -0.109972 0.030633 0.134916 -0.014955 -0.087318 0.213923 -0.065948 -0.276012 0.008901 0.095752 0.065231 -0.105259 0.026874 0.053450 0.039123 0.071410 0.275800 0.248251 -0.081396 -0.044223 0.066391 0.103288 0.150371 0.015887 0.039189 -0.016510 -0.041547 -0.065751 0.156580 0.271428 -0.089505 0.015264 0.306437 0.117000 -0.165032 0.130887 -0.205815 0.039058 -0.126846 0.033987 0.099908 -0.139853 -0.021357 -0.117080 0.061320 -0.082586 -0.008107 0.116250 -0.212074 -0.022817 0.025665 -0.153112 0.107831 0.108865 0.002201 -0.167395 -0.103116 0.129397 0.007000 -0.124094 0.140994 0.279921 0.151387 0.111007 -0.005100 -0.160309 0.137036 -0.063929 -0.277307 0.052737 -0.022020 -0.019900 -0.205465 0.057816 0.020191 0.067020 0.396862 0.082594 0.106550 -0.093174 0.022670 -0.237247 -0.037648 -0.025726 -0.045088 -0.199420 -0.139162 0.006956 -0.053410 0.079410 -0.192528 -0.220217 0.103157 0.241888 0.046394 -0.128007 0.356742 -0.292630 0.187299 0.146814 0.323665 0.017771 -0.065363 -0.127364 0.214197 0.158013 0.079913 -0.102527 0.298305 0.237389 -0.015651\n",
            "\n",
            "» -0.108997 0.089083 0.050054 0.038715 -0.171450 0.010378 -0.305902 0.020203 -0.039860 -0.028567 -0.118321 0.161382 0.060673 0.081576 0.238377 0.178070 -0.043134 0.091542 0.013937 0.058988 0.038124 -0.168112 0.162919 -0.020253 -0.039578 -0.132612 -0.077011 0.080058 -0.056713 -0.028983 0.159477 0.017095 0.163834 0.219610 -0.095304 0.133377 0.017385 -0.035304 0.009280 0.022341 0.109208 0.219275 0.151062 0.229293 0.021091 0.060502 -0.108008 0.213438 0.131358 0.018468 -0.062148 0.223398 -0.110823 -0.020351 0.151195 -0.163134 0.057616 0.105007 0.060884 -0.215534 0.047995 0.081058 -0.140287 -0.100840 -0.075004 0.275263 0.219614 -0.221322 0.101140 0.269837 0.136304 -0.042156 -0.105370 0.200084 0.016805 0.203524 -0.197124 -0.070166 0.010406 -0.106907 -0.018718 0.098181 -0.003119 -0.064032 -0.014971 0.215829 0.268243 -0.166445 0.005624 -0.015310 -0.270912 0.139119 -0.072485 -0.192058 -0.142853 0.076457 0.061405 -0.305239 -0.217999 -0.337373 0.116974 -0.122382 -0.126735 0.052738 -0.035813 0.038333 -0.310328 0.236584 -0.157135 -0.031828 0.021523 0.106837 0.172079 -0.132328 0.228845 0.034710 0.182056 -0.381140 0.003515 0.197972 -0.170102 -0.083936 0.122795 -0.251277 -0.213013 -0.048190 -0.055919 0.124890 -0.397250 0.230987 0.068032 0.029150 0.139143 -0.026230 -0.129557 0.184587 0.083274 0.223707 0.009907 0.072071 0.153189 0.184019 -0.060557 0.031031 0.136556 0.189976 0.043920 0.014004 -0.010290 -0.013096 0.081963 0.118103 0.113814 0.011436 0.043314 0.178701 -0.019140 0.059196 0.226183 -0.197019 -0.075266 -0.335636 -0.153544 0.331972 -0.036085 0.139114 0.025415 0.057490 0.041519 0.008041 0.162166 -0.258821 -0.074118 -0.147280 0.038319 0.092821 -0.196399 -0.169450 0.082603 0.153019 0.061267 0.035175 -0.041567 -0.076088 0.044704 -0.283260 0.033592 0.182657 -0.133984 0.036268 -0.059435 0.197189 -0.051447 0.013753 0.102688 -0.207347 0.033231 0.020308 0.151834 0.171015 0.320441 -0.019526 0.034066 0.155829 0.127773 0.102329 -0.156372 -0.145978 0.151562 -0.046418 -0.262706 -0.034924 0.058533 -0.137512 -0.079482 -0.134689 -0.008235 0.061034 0.109896 0.139120 -0.041110 0.181822 0.226515 -0.081298 -0.050768 -0.040306 0.078925 0.206883 0.147792 0.193848 0.028495 -0.242342 0.135947 0.013748 -0.077346 -0.186382 0.009170 -0.037751 0.024967 0.094864 0.125259 -0.093892 0.037307 0.203836 0.033904 0.006821 0.237454 0.163856 0.147320 0.142470 0.203549 -0.129337 0.067821 0.057042 -0.232779 -0.008672 -0.031740 0.128509 0.267079 0.166150 0.052068 0.399038 -0.077631 -0.011903 0.119938 0.281051 -0.236138 -0.278871 -0.162520 0.057569 -0.149310 -0.156119 0.111750 0.137131 -0.030097 0.008283 0.085201 0.369564 -0.141838 -0.118603 -0.064059 0.013339 -0.155987 -0.038884 -0.136262 -0.107085 -0.031593 0.082002 -0.047412 0.000492 0.375515 0.108088 0.010686 -0.304247 0.070551 0.059962 0.106781 -0.079519 -0.147383 0.065955\n",
            "\n",
            "eu -0.026263 -0.224113 0.206036 -0.190055 0.487431 0.119031 -0.207234 -0.166987 0.187802 -0.043931 0.129347 -0.002358 0.004213 0.217951 -0.082615 -0.379002 0.116064 -0.091457 -0.450485 -0.185267 -0.039337 0.115617 0.055852 -0.356212 0.094050 0.142780 -0.286527 -0.141387 0.250377 0.035766 -0.060926 -0.172735 0.009267 0.051127 0.427785 0.198422 0.034150 -0.016573 -0.212808 -0.372549 0.161186 0.315691 -0.104402 -0.143870 -0.117296 0.230715 0.098802 -0.125266 -0.149591 0.039951 -0.200190 -0.035990 0.113855 0.063748 0.147868 0.349781 -0.034407 0.232718 0.047473 -0.442883 -0.069929 0.079355 -0.278976 0.072038 -0.040549 0.046501 -0.117707 0.149749 -0.168545 0.234487 -0.129910 0.167114 -0.124224 0.166250 -0.145539 0.173213 0.016080 -0.026461 -0.082823 -0.031705 -0.079141 -0.173600 0.022581 0.344735 0.061803 0.086444 0.009175 -0.335234 0.071939 0.151227 0.108901 -0.105613 0.367119 0.063262 -0.136653 0.191248 -0.374945 -0.147715 0.366544 0.252841 0.030671 -0.326502 0.159627 -0.188841 -0.018812 0.034393 0.272176 0.007575 0.185682 -0.470679 0.012891 0.183667 -0.084543 0.076617 0.245108 0.051622 -0.228144 -0.113286 0.133399 -0.107348 -0.078664 0.138559 -0.161891 0.313303 -0.402888 0.235846 -0.028650 -0.164157 0.107319 0.022848 -0.173049 -0.108261 0.140263 -0.094026 -0.120347 -0.060453 0.058071 -0.139718 0.115697 0.268440 0.271939 -0.138933 -0.136057 0.033209 0.004453 0.036105 -0.096332 0.244421 -0.180263 0.085307 0.037339 0.260294 -0.111736 -0.116269 -0.206036 0.080434 0.074412 0.284682 -0.258009 0.127085 0.014576 0.186712 0.091391 -0.129571 0.086933 0.262095 -0.107579 0.122234 0.175149 -0.069750 -0.182445 0.444191 0.131642 0.063232 -0.162752 -0.041658 0.259286 0.042338 -0.008722 -0.142405 0.161415 -0.406025 0.008181 0.072631 0.201963 -0.186540 -0.007773 0.104742 -0.077657 -0.436504 -0.080467 -0.128504 -0.033886 0.082930 -0.146857 0.004526 -0.034160 0.073107 0.095651 0.327634 -0.030057 -0.040142 -0.118955 0.235348 -0.069630 0.219303 -0.140358 -0.106448 -0.001298 0.109166 0.141932 -0.069998 0.086601 0.119224 0.001541 -0.192197 -0.139291 0.020074 -0.185791 0.365250 -0.247126 0.107857 -0.412513 0.043208 -0.029590 0.055881 0.013673 0.018486 0.178841 0.123512 -0.095959 -0.097474 -0.251639 -0.039023 0.144782 -0.259492 -0.123115 0.242058 -0.277506 0.015733 -0.082665 -0.007457 -0.261764 -0.088228 -0.091813 -0.029845 0.062245 -0.160984 0.116836 0.140114 0.097227 -0.089066 0.226468 -0.171121 0.120653 -0.258000 -0.046178 0.213283 0.160536 -0.166979 0.106058 0.140339 0.456282 0.076636 0.233226 0.238031 0.098773 0.103119 -0.128957 0.161539 0.168309 -0.049053 -0.302230 -0.031314 -0.080142 -0.095087 -0.040642 0.329120 0.391835 -0.055479 -0.050619 0.023613 0.078415 0.056877 -0.210506 0.004982 -0.114512 -0.179779 0.052276 0.015854 0.198263 0.217451 0.146928 -0.057294 0.132098 0.075620 -0.100935 0.179738 0.035475 0.150866\n",
            "\n",
            "ele 0.086183 0.103890 -0.026521 0.285790 -0.035552 -0.004913 -0.034791 0.107267 0.148797 -0.010806 0.053255 -0.176871 0.043367 0.101876 -0.170422 -0.080031 -0.036098 -0.007921 0.122917 0.008580 0.038768 0.013070 -0.061045 0.124927 0.087998 0.042218 0.007255 0.059785 0.093926 -0.124096 0.138651 -0.258742 0.197186 -0.102141 0.269080 -0.092566 0.111424 0.125404 0.050895 0.080862 0.238478 -0.057481 0.055886 0.189197 -0.210949 -0.024482 -0.036950 0.062687 0.061049 0.033798 -0.161519 -0.048433 -0.210729 0.055149 0.195927 -0.195050 0.089183 0.017486 0.124071 0.013839 0.051631 0.035018 -0.126481 -0.016143 0.065063 0.076004 0.014159 -0.188791 0.011683 0.015207 -0.111532 0.175658 0.141138 -0.053874 0.037001 0.228772 -0.072123 -0.020705 -0.094656 -0.041707 -0.068159 0.119246 0.125233 -0.075115 -0.065955 0.042110 0.106601 -0.130041 -0.151786 -0.037445 -0.213828 -0.118483 -0.107616 0.052299 -0.100834 -0.003415 0.064215 -0.236577 0.082463 0.022618 0.084360 -0.072044 -0.054006 -0.016187 0.012415 -0.034939 0.205609 -0.046250 -0.052885 -0.096199 0.043782 -0.067125 0.073697 -0.020402 -0.054571 0.194610 -0.009806 -0.152358 0.060294 -0.097095 0.175413 0.092309 -0.024933 0.031521 0.107182 -0.062856 -0.208220 0.057003 -0.021310 -0.156739 0.102574 0.046371 -0.072607 0.164082 0.090679 -0.172610 0.110086 -0.000205 -0.001871 0.109910 -0.040307 0.002680 0.096441 0.045316 -0.053933 -0.071493 -0.020446 0.029340 -0.052150 -0.112323 -0.033603 0.084810 0.082562 0.002032 0.007146 0.099791 0.126253 0.003649 -0.026407 0.174278 -0.089854 0.063566 -0.039218 0.235795 -0.168596 0.010860 -0.038616 0.075833 0.026288 -0.075094 -0.087067 0.163815 0.018723 -0.161338 -0.008896 -0.091451 0.057986 -0.031135 0.014820 0.118322 -0.187758 -0.078189 -0.093040 0.110080 -0.054468 -0.119405 -0.160269 -0.060126 -0.135057 -0.184376 -0.114858 -0.021734 0.105312 0.138928 -0.090608 -0.067312 -0.003128 -0.090633 -0.042306 -0.110107 -0.062687 0.113340 -0.096470 0.069100 0.077433 0.004253 -0.201703 0.009273 0.059824 0.182978 -0.004313 0.114154 -0.006964 0.031325 0.061771 -0.070014 -0.034890 -0.003730 -0.151822 -0.117483 -0.081258 0.048544 -0.116858 -0.032870 0.096686 -0.290659 0.377904 -0.010158 -0.180352 0.111347 -0.122774 -0.214468 -0.042311 -0.173615 0.035165 -0.013628 0.115186 0.117475 -0.117741 -0.018493 0.125190 0.091944 0.036734 0.147156 0.096856 -0.082726 0.224567 -0.104232 -0.004471 -0.034455 -0.049770 -0.016991 0.151301 -0.012635 0.044542 -0.079913 0.074388 -0.021778 -0.094294 -0.021849 0.097778 -0.002042 0.050875 0.030637 -0.113449 0.190178 0.207124 0.093944 -0.003012 -0.030620 -0.100594 0.085694 -0.044638 -0.051656 -0.004736 -0.064203 0.071192 0.366449 0.121619 0.052293 -0.134147 -0.019345 0.009620 0.001080 -0.130201 -0.081569 -0.049209 -0.068560 -0.013103 -0.017316 -0.083768 0.189085 0.017577 0.064898 -0.037492 0.087117 -0.041292 0.183571 -0.133758 0.161270\n",
            "\n"
          ]
        }
      ]
    },
    {
      "cell_type": "code",
      "source": [
        "from gensim.models import KeyedVectors\n",
        "\n",
        "modelo = KeyedVectors.load_word2vec_format(\"cbow_s300.txt\")"
      ],
      "metadata": {
        "id": "gBKRpEL02hqg"
      },
      "execution_count": null,
      "outputs": []
    },
    {
      "cell_type": "code",
      "source": [
        "modelo.get_vector(\"china\")"
      ],
      "metadata": {
        "colab": {
          "base_uri": "https://localhost:8080/"
        },
        "id": "vfBWnN6y2vOP",
        "outputId": "dc0e1770-c69d-4e56-fdd4-f510f17314f3"
      },
      "execution_count": null,
      "outputs": [
        {
          "output_type": "execute_result",
          "data": {
            "text/plain": [
              "array([-1.49033e-01,  1.26020e-01,  2.17628e-01,  1.82684e-01,\n",
              "        1.65151e-01, -1.59660e-01, -2.34411e-01,  6.00570e-02,\n",
              "        8.03680e-02,  2.87578e-01, -4.81100e-03, -5.68800e-02,\n",
              "        2.15676e-01,  8.65540e-02,  1.25983e-01,  3.36157e-01,\n",
              "       -1.83254e-01, -1.18499e-01,  1.13010e-02,  1.03814e-01,\n",
              "        9.37640e-02,  2.90178e-01, -1.64395e-01, -1.13300e-02,\n",
              "       -1.80676e-01, -1.15820e-02,  1.08728e-01,  1.65898e-01,\n",
              "        9.37900e-02,  2.66767e-01, -1.29890e-02,  9.16030e-02,\n",
              "        2.21292e-01, -1.36497e-01, -4.26350e-02, -1.30038e-01,\n",
              "        2.17067e-01, -1.01963e-01, -3.70960e-02,  1.42155e-01,\n",
              "        3.41109e-01,  2.46560e-01,  1.27458e-01,  5.72360e-02,\n",
              "       -1.47962e-01, -1.60290e-02,  1.86533e-01,  7.71550e-02,\n",
              "       -3.50024e-01, -4.06085e-01,  1.67131e-01, -4.75230e-02,\n",
              "        5.13780e-02, -1.28224e-01,  1.06580e-02, -2.92652e-01,\n",
              "        1.40540e-01, -4.57049e-01,  1.31094e-01,  2.03234e-01,\n",
              "        2.94019e-01,  7.38370e-02,  1.11554e-01, -1.64204e-01,\n",
              "       -3.62020e-02,  1.29522e-01, -1.28321e-01,  1.37502e-01,\n",
              "       -7.99200e-03, -5.07100e-03, -2.86010e-02, -8.99040e-02,\n",
              "        8.82800e-03, -8.27730e-02,  6.91940e-02, -2.70182e-01,\n",
              "        5.47610e-02, -3.06060e-02,  6.89880e-02,  2.38759e-01,\n",
              "       -1.41775e-01,  2.34763e-01, -2.23853e-01, -2.84994e-01,\n",
              "        2.53245e-01,  6.77170e-02, -4.39663e-01, -7.00270e-02,\n",
              "        6.39150e-02, -9.67100e-02, -2.18950e-01, -5.77910e-02,\n",
              "       -1.82689e-01, -3.32202e-01, -7.83070e-02,  7.74620e-02,\n",
              "        8.82920e-02, -4.83618e-01, -1.77812e-01,  5.64040e-02,\n",
              "        1.50339e-01,  8.73000e-02, -1.03121e-01,  1.62065e-01,\n",
              "        4.57940e-02,  9.73590e-02,  1.67230e-02,  3.00791e-01,\n",
              "       -6.49640e-02, -1.95840e-01, -4.33790e-02, -9.46810e-02,\n",
              "        3.73222e-01, -1.65359e-01,  5.58780e-02,  1.72660e-02,\n",
              "       -3.16048e-01,  9.24430e-02, -6.84540e-02, -3.57085e-01,\n",
              "       -1.69469e-01, -1.14090e-01,  9.47230e-02,  3.14999e-01,\n",
              "        2.12717e-01, -2.21540e-02,  1.76870e-02,  1.58473e-01,\n",
              "       -1.39150e-02,  1.23610e-02, -4.13190e-02, -1.47159e-01,\n",
              "       -1.00070e-02,  3.41884e-01,  1.16999e-01, -5.01590e-02,\n",
              "        7.88740e-02,  6.27940e-02,  2.73643e-01,  1.46823e-01,\n",
              "       -1.68857e-01, -1.00014e-01, -5.41060e-02, -3.06130e-02,\n",
              "       -8.85920e-02, -6.19840e-02,  1.21595e-01,  1.13775e-01,\n",
              "        3.97190e-02, -8.54000e-03,  1.05670e-02,  1.12375e-01,\n",
              "        9.70000e-02,  9.05850e-02,  1.25026e-01, -2.92209e-01,\n",
              "        6.81330e-02,  4.06070e-02,  1.33042e-01, -9.77780e-02,\n",
              "       -3.26378e-01,  9.71420e-02, -5.13600e-02,  2.01450e-02,\n",
              "        1.20182e-01, -2.14210e-02, -1.30884e-01,  9.52800e-02,\n",
              "       -5.65320e-02, -8.35370e-02, -2.53035e-01,  9.18650e-02,\n",
              "        7.89190e-02, -6.30710e-02, -1.64057e-01,  8.31660e-02,\n",
              "        1.42698e-01, -2.77053e-01,  7.05810e-02, -1.37800e-02,\n",
              "       -2.74883e-01,  3.02011e-01, -8.34330e-02, -1.14381e-01,\n",
              "       -2.88826e-01,  9.03960e-02,  1.94704e-01, -1.57261e-01,\n",
              "       -2.58910e-02,  1.41321e-01, -1.67231e-01, -2.91540e-02,\n",
              "        8.03650e-02,  1.27378e-01, -1.48120e-01,  2.83291e-01,\n",
              "       -2.65930e-02,  2.15319e-01,  3.35030e-02,  6.47140e-02,\n",
              "        4.20010e-02, -3.85537e-01, -2.67068e-01, -2.77017e-01,\n",
              "       -1.82289e-01, -1.18735e-01, -2.51480e-01, -1.83783e-01,\n",
              "       -2.12362e-01,  2.50214e-01,  3.96240e-02,  2.64830e-02,\n",
              "        1.30810e-01, -1.38478e-01, -1.63040e-02, -2.55850e-02,\n",
              "        2.35141e-01, -8.80540e-02, -9.40650e-02,  1.31790e-01,\n",
              "       -8.33330e-02, -2.40020e-02, -3.38183e-01,  8.10370e-02,\n",
              "       -1.68933e-01,  1.92200e-03,  9.34870e-02,  6.58130e-02,\n",
              "       -1.11925e-01,  1.83907e-01, -6.54900e-03,  4.27730e-02,\n",
              "        3.71566e-01, -3.08570e-02,  1.99647e-01,  1.25516e-01,\n",
              "        1.38471e-01, -9.17400e-02, -2.27814e-01,  8.27690e-02,\n",
              "       -2.94581e-01,  9.56830e-02, -3.48070e-01,  1.02342e-01,\n",
              "       -8.05350e-02,  2.34290e-02, -4.19860e-02,  2.44763e-01,\n",
              "        2.37160e-02, -2.23548e-01, -9.26800e-03, -4.33650e-02,\n",
              "       -1.12413e-01, -4.19178e-01,  1.81267e-01,  1.03648e-01,\n",
              "        2.74945e-01, -9.23560e-02, -4.63300e-02, -2.06314e-01,\n",
              "        4.81410e-02,  2.64603e-01, -1.17113e-01,  1.80097e-01,\n",
              "        5.54220e-02, -1.27460e-01, -1.60328e-01,  1.02289e-01,\n",
              "        4.09530e-02,  1.25305e-01,  1.53398e-01, -2.36950e-02,\n",
              "        2.33967e-01,  2.30250e-02, -1.40227e-01,  3.16349e-01,\n",
              "       -1.99592e-01,  1.25398e-01,  2.72858e-01,  1.09793e-01,\n",
              "       -1.64379e-01,  8.63630e-02,  1.97445e-01, -2.18180e-02,\n",
              "       -1.49784e-01, -3.34461e-01, -4.61000e-04,  1.92640e-02,\n",
              "        2.11149e-01, -2.93349e-01,  5.90160e-02,  1.25044e-01,\n",
              "        7.75570e-02, -2.82863e-01, -3.38890e-02, -9.19950e-02,\n",
              "       -1.43850e-01,  1.45775e-01,  1.04246e-01, -2.60548e-01],\n",
              "      dtype=float32)"
            ]
          },
          "metadata": {},
          "execution_count": 51
        }
      ]
    },
    {
      "cell_type": "code",
      "source": [
        "modelo.most_similar(\"china\")"
      ],
      "metadata": {
        "colab": {
          "base_uri": "https://localhost:8080/"
        },
        "id": "Aj05nZvN3QdP",
        "outputId": "fa8391cc-7cb3-4a8a-a256-92da569b2bac"
      },
      "execution_count": null,
      "outputs": [
        {
          "output_type": "execute_result",
          "data": {
            "text/plain": [
              "[('rússia', 0.7320705056190491),\n",
              " ('índia', 0.7241616249084473),\n",
              " ('tailândia', 0.701935887336731),\n",
              " ('indonésia', 0.6860769987106323),\n",
              " ('turquia', 0.6741335988044739),\n",
              " ('malásia', 0.6665689945220947),\n",
              " ('mongólia', 0.6593616008758545),\n",
              " ('manchúria', 0.658184826374054),\n",
              " ('urss', 0.6581669449806213),\n",
              " ('grã-bretanha', 0.6568097472190857)]"
            ]
          },
          "metadata": {},
          "execution_count": 52
        }
      ]
    },
    {
      "cell_type": "code",
      "source": [
        "modelo.most_similar(positive=[\"brasil\", \"uruguai\"])"
      ],
      "metadata": {
        "colab": {
          "base_uri": "https://localhost:8080/"
        },
        "id": "Za_7DJLD6zee",
        "outputId": "8a32507d-2e82-4dc9-ce17-334f81dc9f3a"
      },
      "execution_count": null,
      "outputs": [
        {
          "output_type": "execute_result",
          "data": {
            "text/plain": [
              "[('chile', 0.7702537775039673),\n",
              " ('paraguai', 0.7051714062690735),\n",
              " ('peru', 0.7051546573638916),\n",
              " ('japão', 0.7020419239997864),\n",
              " ('haiti', 0.6905121803283691),\n",
              " ('equador', 0.665618896484375),\n",
              " ('méxico', 0.6647865176200867),\n",
              " ('panamá', 0.6548800468444824),\n",
              " ('irã', 0.6272894740104675),\n",
              " ('canadá', 0.6247324347496033)]"
            ]
          },
          "metadata": {},
          "execution_count": 53
        }
      ]
    },
    {
      "cell_type": "code",
      "source": [
        "#carro -> carros : foguete -> foguetes\n",
        "#carros + foguete - carro = foguetes\n",
        "\n",
        "modelo.most_similar(positive=[\"carros\", \"foguete\"], negative=[\"carro\"])"
      ],
      "metadata": {
        "colab": {
          "base_uri": "https://localhost:8080/"
        },
        "id": "6apkpRMV770p",
        "outputId": "2fd9a5d3-95f9-436c-badc-46eecafc12e2"
      },
      "execution_count": null,
      "outputs": [
        {
          "output_type": "execute_result",
          "data": {
            "text/plain": [
              "[('foguetes', 0.5930031538009644),\n",
              " ('foguetões', 0.5570027828216553),\n",
              " ('caças', 0.550533652305603),\n",
              " ('aviões', 0.526327908039093),\n",
              " ('satélites', 0.5231359004974365),\n",
              " ('motores', 0.5106347799301147),\n",
              " ('hidroaviões', 0.4993920922279358),\n",
              " ('vaivéns', 0.48650243878364563),\n",
              " ('veículos', 0.4795992970466614),\n",
              " ('barcos', 0.47358769178390503)]"
            ]
          },
          "metadata": {},
          "execution_count": 54
        }
      ]
    },
    {
      "cell_type": "markdown",
      "source": [
        "**Vetorização**"
      ],
      "metadata": {
        "id": "Ju4RoizC820x"
      }
    },
    {
      "cell_type": "code",
      "source": [
        "artigo_treino.title[12]"
      ],
      "metadata": {
        "colab": {
          "base_uri": "https://localhost:8080/",
          "height": 35
        },
        "id": "Hw_vrYKs84YP",
        "outputId": "92dfae3a-fe6e-4189-b6d2-e06884aefe48"
      },
      "execution_count": null,
      "outputs": [
        {
          "output_type": "execute_result",
          "data": {
            "text/plain": [
              "\"Daniel Craig será stormtrooper em novo 'Star Wars', diz ator\""
            ],
            "application/vnd.google.colaboratory.intrinsic+json": {
              "type": "string"
            }
          },
          "metadata": {},
          "execution_count": 55
        }
      ]
    },
    {
      "cell_type": "code",
      "source": [
        "import nltk\n",
        "import string\n",
        "nltk.download('punkt')\n",
        "\n",
        "def tokenizador(texto):\n",
        "  texto = texto.lower()\n",
        "  lista_alfanumerico = []\n",
        "\n",
        "  for token_valido in nltk.word_tokenize(texto):\n",
        "    if token_valido in string.punctuation: continue\n",
        "    lista_alfanumerico.append(token_valido)\n",
        "\n",
        "  return lista_alfanumerico"
      ],
      "metadata": {
        "colab": {
          "base_uri": "https://localhost:8080/"
        },
        "id": "afw2da298-Qm",
        "outputId": "91521308-2a26-4d17-f7d1-ff6682149501"
      },
      "execution_count": null,
      "outputs": [
        {
          "output_type": "stream",
          "name": "stderr",
          "text": [
            "[nltk_data] Downloading package punkt to /root/nltk_data...\n",
            "[nltk_data]   Package punkt is already up-to-date!\n"
          ]
        }
      ]
    },
    {
      "cell_type": "code",
      "source": [
        "tokenizador(\"Texto com, pontuação.\")"
      ],
      "metadata": {
        "colab": {
          "base_uri": "https://localhost:8080/"
        },
        "id": "WubjEdlR96S7",
        "outputId": "0226c272-18f9-4c05-f472-6a7091e0cf12"
      },
      "execution_count": null,
      "outputs": [
        {
          "output_type": "execute_result",
          "data": {
            "text/plain": [
              "['texto', 'com', 'pontuação']"
            ]
          },
          "metadata": {},
          "execution_count": 57
        }
      ]
    },
    {
      "cell_type": "code",
      "source": [
        "import numpy as np\n",
        "\n",
        "def combinacao_de_vetores_por_soma(palavras_numeros):\n",
        "  vetor_resultante = np.zeros(300)\n",
        "  for pn in palavras_numeros:\n",
        "    try:\n",
        "      vetor_resultante =+ modelo.get_vector(pn)\n",
        "    except KeyError:\n",
        "      if pn.isnumeric():\n",
        "        pn = \"0\"*len(pn)\n",
        "        vetor_resultante =+ modelo.get_vector(pn)\n",
        "      else:\n",
        "        vetor_resultante =+ modelo.get_vector('unknown')\n",
        "  return vetor_resultante"
      ],
      "metadata": {
        "id": "Tc453BR0-4Sa"
      },
      "execution_count": null,
      "outputs": []
    },
    {
      "cell_type": "code",
      "source": [
        "palavras_numeros = tokenizador(\"texto fiaps\")\n",
        "vetor_texto = combinacao_de_vetores_por_soma(palavras_numeros)\n",
        "print(len(vetor_texto))\n",
        "print(vetor_texto)"
      ],
      "metadata": {
        "colab": {
          "base_uri": "https://localhost:8080/"
        },
        "id": "DHJJ2GFj_aDU",
        "outputId": "99f526da-7348-420c-fd8c-1dbe7b2275b3"
      },
      "execution_count": null,
      "outputs": [
        {
          "output_type": "stream",
          "name": "stdout",
          "text": [
            "300\n",
            "[ 3.54566e-01 -5.48110e-02 -3.84400e-02  1.24058e-01 -8.06360e-02\n",
            "  5.91960e-02  2.04200e-02 -1.78659e-01 -1.81335e-01 -9.11180e-02\n",
            " -4.57600e-02 -1.06127e-01 -4.01736e-01  4.19984e-01 -3.33250e-02\n",
            "  1.77705e-01 -5.43387e-01 -8.51910e-02 -5.33234e-01 -2.86099e-01\n",
            "  3.33630e-02 -1.85811e-01  6.87260e-02  5.20180e-01 -2.98402e-01\n",
            " -3.23700e-02 -2.72469e-01 -9.92270e-02  1.96912e-01 -1.82213e-01\n",
            " -3.08074e-01 -3.69640e-02  9.03970e-02  4.04880e-02 -6.46750e-02\n",
            "  4.37740e-02  8.93440e-02 -4.98380e-02  1.37664e-01 -1.27749e-01\n",
            " -1.14070e-02 -1.04679e-01 -1.39191e-01 -5.21400e-03  2.90866e-01\n",
            " -9.60230e-02  2.38736e-01  3.26503e-01  3.30080e-01  2.03619e-01\n",
            "  9.67800e-03  1.19000e-01 -1.79310e-02  1.29586e-01  3.19442e-01\n",
            " -1.05512e-01  9.31870e-02  1.40411e-01  5.84020e-02  5.88410e-02\n",
            "  1.11957e-01  4.73554e-01  2.45136e-01 -5.09600e-03 -5.26140e-02\n",
            " -1.60310e-02  2.97038e-01  7.49760e-02  3.71848e-01 -1.69017e-01\n",
            "  2.00654e-01 -2.82788e-01  1.90314e-01 -1.79972e-01 -2.16299e-01\n",
            " -3.66670e-02 -1.69905e-01 -7.02750e-02  5.86860e-02  9.41790e-02\n",
            " -3.03166e-01  1.52841e-01  3.96487e-01 -2.16211e-01 -2.30948e-01\n",
            "  1.76833e-01 -2.94953e-01  2.90743e-01  3.21565e-01 -1.10768e-01\n",
            "  1.07695e-01 -1.21356e-01 -1.07924e-01 -1.36235e-01  2.10177e-01\n",
            "  2.14678e-01  1.02345e-01 -1.94468e-01  3.69220e-02 -1.38605e-01\n",
            "  1.25925e-01 -1.18518e-01  2.53088e-01 -3.41490e-02  1.95908e-01\n",
            "  1.66225e-01 -2.19360e-02  2.14925e-01 -3.28731e-01  1.92627e-01\n",
            " -1.08048e-01 -1.42030e-02  2.33410e-02 -1.83589e-01 -6.16500e-03\n",
            "  1.71897e-01  2.09809e-01 -1.68758e-01  1.97822e-01 -1.63032e-01\n",
            "  1.29052e-01 -2.31592e-01 -1.21770e-01 -3.20758e-01 -1.06521e-01\n",
            " -3.31555e-01 -1.86696e-01  5.83900e-03 -1.25445e-01  8.30070e-02\n",
            " -1.87665e-01  2.83092e-01  2.14400e-03 -9.70990e-02  1.92336e-01\n",
            " -4.62000e-04 -6.87670e-02  1.26588e-01  2.30264e-01  1.68407e-01\n",
            " -2.34021e-01 -1.83542e-01  2.25696e-01 -3.68550e-02 -2.02355e-01\n",
            "  1.16067e-01 -9.66530e-02 -9.37850e-02  5.52338e-01 -2.08050e-02\n",
            " -2.22657e-01 -3.91590e-02 -2.71614e-01 -8.88850e-02 -1.10371e-01\n",
            "  2.30076e-01  3.12234e-01 -2.49440e-02  3.63508e-01  9.97640e-02\n",
            "  9.94400e-02  1.98137e-01 -4.53620e-02 -1.63312e-01  4.59920e-02\n",
            "  2.24835e-01  8.87030e-02  1.63012e-01  8.39580e-02  4.94900e-02\n",
            "  1.05920e-01  7.74480e-02  7.22790e-02  2.77470e-02 -3.41775e-01\n",
            " -8.43880e-02  2.13260e-01 -1.92344e-01 -1.35048e-01 -4.14206e-01\n",
            " -2.51764e-01  1.40755e-01 -3.79117e-01 -1.80414e-01  4.49445e-01\n",
            " -2.55424e-01  4.32734e-01  7.38940e-02 -3.63520e-01 -2.80066e-01\n",
            " -7.78670e-02 -1.82440e-02 -2.60580e-01  2.27878e-01  3.61910e-02\n",
            "  4.19251e-01 -5.65530e-02 -4.52800e-02  9.51750e-02  6.36280e-02\n",
            " -4.48832e-01  1.04230e-02  1.75191e-01  9.58800e-03  8.94100e-03\n",
            "  7.20470e-02  6.14360e-02 -2.97154e-01  5.18065e-01  2.76657e-01\n",
            " -4.48700e-02  9.15540e-02  2.80555e-01  5.35000e-04  1.56200e-02\n",
            "  3.23020e-02  3.95104e-01  7.96330e-02 -6.44000e-03 -1.32705e-01\n",
            " -1.68815e-01  9.28090e-02 -2.97701e-01 -2.08200e-01  1.17750e-02\n",
            "  3.04437e-01 -1.47470e-01 -4.27560e-02  1.65153e-01 -7.48640e-02\n",
            " -5.39390e-02 -1.89036e-01  5.28290e-02  1.70170e-02 -3.30300e-02\n",
            "  7.20800e-02 -1.76892e-01  1.28343e-01 -1.15538e-01 -1.55221e-01\n",
            " -6.47630e-02  1.75003e-01  1.79352e-01  1.14050e-02  4.72664e-01\n",
            "  4.63285e-01  1.77089e-01  1.93433e-01  3.03830e-01 -8.25440e-02\n",
            "  8.65560e-02  6.62020e-02  2.77100e-03 -2.33433e-01  6.21270e-02\n",
            "  2.83036e-01 -6.50200e-03  1.18987e-01  1.97000e-01  4.28190e-02\n",
            "  2.08872e-01  9.91100e-02  1.20883e-01  2.65489e-01  1.47170e-01\n",
            " -3.70090e-02  8.58440e-02 -7.04600e-03  1.95963e-01  1.04750e-02\n",
            " -3.04754e-01 -6.90010e-02  3.40596e-01  3.01647e-01 -2.98529e-01\n",
            "  2.04768e-01  2.13634e-01  1.81403e-01  6.20400e-02 -4.57997e-01\n",
            " -5.97951e-01 -2.56535e-01  1.64777e-01  2.45230e-02 -9.61890e-02\n",
            " -1.32140e-01 -1.84682e-01  1.64890e-02 -3.14385e-01 -3.48274e-01\n",
            "  2.41313e-01 -7.74030e-02 -1.39216e-01  5.39330e-02 -2.88890e-02\n",
            "  6.93920e-02 -1.62646e-01 -3.18125e-01  2.47728e-01  6.54519e-01]\n"
          ]
        }
      ]
    },
    {
      "cell_type": "code",
      "source": [
        "def matriz_vetores(textos):\n",
        "  x = len(textos)\n",
        "  y = 300\n",
        "  matriz = np.zeros((x,y))\n",
        "\n",
        "  for i in range(x):\n",
        "    palavras_numeros = tokenizador(textos.iloc[i])\n",
        "    matriz[i] = combinacao_de_vetores_por_soma(palavras_numeros)\n",
        "\n",
        "  return matriz"
      ],
      "metadata": {
        "id": "DliReRW4_jfP"
      },
      "execution_count": null,
      "outputs": []
    },
    {
      "cell_type": "code",
      "source": [
        "matriz_vetores_treino = matriz_vetores(artigo_treino.title)\n",
        "matriz_vetores_teste = matriz_vetores(artigo_teste.title)\n",
        "print(matriz_vetores_treino.shape)\n",
        "print(matriz_vetores_teste.shape)"
      ],
      "metadata": {
        "colab": {
          "base_uri": "https://localhost:8080/"
        },
        "id": "phqPsSeeDpyL",
        "outputId": "3b7c0dec-4300-4148-f55f-7930a04360e8"
      },
      "execution_count": null,
      "outputs": [
        {
          "output_type": "stream",
          "name": "stdout",
          "text": [
            "(90000, 300)\n",
            "(20513, 300)\n"
          ]
        }
      ]
    },
    {
      "cell_type": "code",
      "source": [
        "from sklearn.linear_model import LogisticRegression\n",
        "\n",
        "LR = LogisticRegression(max_iter = 200)\n",
        "LR.fit(matriz_vetores_treino, artigo_treino.category)"
      ],
      "metadata": {
        "colab": {
          "base_uri": "https://localhost:8080/",
          "height": 75
        },
        "id": "KSVRrr9zEZZH",
        "outputId": "06783462-5c5c-4583-c9b2-b6f941ab84a4"
      },
      "execution_count": null,
      "outputs": [
        {
          "output_type": "execute_result",
          "data": {
            "text/plain": [
              "LogisticRegression(max_iter=200)"
            ],
            "text/html": [
              "<style>#sk-container-id-5 {color: black;background-color: white;}#sk-container-id-5 pre{padding: 0;}#sk-container-id-5 div.sk-toggleable {background-color: white;}#sk-container-id-5 label.sk-toggleable__label {cursor: pointer;display: block;width: 100%;margin-bottom: 0;padding: 0.3em;box-sizing: border-box;text-align: center;}#sk-container-id-5 label.sk-toggleable__label-arrow:before {content: \"▸\";float: left;margin-right: 0.25em;color: #696969;}#sk-container-id-5 label.sk-toggleable__label-arrow:hover:before {color: black;}#sk-container-id-5 div.sk-estimator:hover label.sk-toggleable__label-arrow:before {color: black;}#sk-container-id-5 div.sk-toggleable__content {max-height: 0;max-width: 0;overflow: hidden;text-align: left;background-color: #f0f8ff;}#sk-container-id-5 div.sk-toggleable__content pre {margin: 0.2em;color: black;border-radius: 0.25em;background-color: #f0f8ff;}#sk-container-id-5 input.sk-toggleable__control:checked~div.sk-toggleable__content {max-height: 200px;max-width: 100%;overflow: auto;}#sk-container-id-5 input.sk-toggleable__control:checked~label.sk-toggleable__label-arrow:before {content: \"▾\";}#sk-container-id-5 div.sk-estimator input.sk-toggleable__control:checked~label.sk-toggleable__label {background-color: #d4ebff;}#sk-container-id-5 div.sk-label input.sk-toggleable__control:checked~label.sk-toggleable__label {background-color: #d4ebff;}#sk-container-id-5 input.sk-hidden--visually {border: 0;clip: rect(1px 1px 1px 1px);clip: rect(1px, 1px, 1px, 1px);height: 1px;margin: -1px;overflow: hidden;padding: 0;position: absolute;width: 1px;}#sk-container-id-5 div.sk-estimator {font-family: monospace;background-color: #f0f8ff;border: 1px dotted black;border-radius: 0.25em;box-sizing: border-box;margin-bottom: 0.5em;}#sk-container-id-5 div.sk-estimator:hover {background-color: #d4ebff;}#sk-container-id-5 div.sk-parallel-item::after {content: \"\";width: 100%;border-bottom: 1px solid gray;flex-grow: 1;}#sk-container-id-5 div.sk-label:hover label.sk-toggleable__label {background-color: #d4ebff;}#sk-container-id-5 div.sk-serial::before {content: \"\";position: absolute;border-left: 1px solid gray;box-sizing: border-box;top: 0;bottom: 0;left: 50%;z-index: 0;}#sk-container-id-5 div.sk-serial {display: flex;flex-direction: column;align-items: center;background-color: white;padding-right: 0.2em;padding-left: 0.2em;position: relative;}#sk-container-id-5 div.sk-item {position: relative;z-index: 1;}#sk-container-id-5 div.sk-parallel {display: flex;align-items: stretch;justify-content: center;background-color: white;position: relative;}#sk-container-id-5 div.sk-item::before, #sk-container-id-5 div.sk-parallel-item::before {content: \"\";position: absolute;border-left: 1px solid gray;box-sizing: border-box;top: 0;bottom: 0;left: 50%;z-index: -1;}#sk-container-id-5 div.sk-parallel-item {display: flex;flex-direction: column;z-index: 1;position: relative;background-color: white;}#sk-container-id-5 div.sk-parallel-item:first-child::after {align-self: flex-end;width: 50%;}#sk-container-id-5 div.sk-parallel-item:last-child::after {align-self: flex-start;width: 50%;}#sk-container-id-5 div.sk-parallel-item:only-child::after {width: 0;}#sk-container-id-5 div.sk-dashed-wrapped {border: 1px dashed gray;margin: 0 0.4em 0.5em 0.4em;box-sizing: border-box;padding-bottom: 0.4em;background-color: white;}#sk-container-id-5 div.sk-label label {font-family: monospace;font-weight: bold;display: inline-block;line-height: 1.2em;}#sk-container-id-5 div.sk-label-container {text-align: center;}#sk-container-id-5 div.sk-container {/* jupyter's `normalize.less` sets `[hidden] { display: none; }` but bootstrap.min.css set `[hidden] { display: none !important; }` so we also need the `!important` here to be able to override the default hidden behavior on the sphinx rendered scikit-learn.org. See: https://github.com/scikit-learn/scikit-learn/issues/21755 */display: inline-block !important;position: relative;}#sk-container-id-5 div.sk-text-repr-fallback {display: none;}</style><div id=\"sk-container-id-5\" class=\"sk-top-container\"><div class=\"sk-text-repr-fallback\"><pre>LogisticRegression(max_iter=200)</pre><b>In a Jupyter environment, please rerun this cell to show the HTML representation or trust the notebook. <br />On GitHub, the HTML representation is unable to render, please try loading this page with nbviewer.org.</b></div><div class=\"sk-container\" hidden><div class=\"sk-item\"><div class=\"sk-estimator sk-toggleable\"><input class=\"sk-toggleable__control sk-hidden--visually\" id=\"sk-estimator-id-5\" type=\"checkbox\" checked><label for=\"sk-estimator-id-5\" class=\"sk-toggleable__label sk-toggleable__label-arrow\">LogisticRegression</label><div class=\"sk-toggleable__content\"><pre>LogisticRegression(max_iter=200)</pre></div></div></div></div></div>"
            ]
          },
          "metadata": {},
          "execution_count": 62
        }
      ]
    },
    {
      "cell_type": "code",
      "source": [
        "LR.score(matriz_vetores_teste, artigo_teste.category)"
      ],
      "metadata": {
        "colab": {
          "base_uri": "https://localhost:8080/"
        },
        "id": "SMIU0c-uFYUY",
        "outputId": "677ce21e-e50a-4fcc-b08d-92752a6d091a"
      },
      "execution_count": null,
      "outputs": [
        {
          "output_type": "execute_result",
          "data": {
            "text/plain": [
              "0.5121630185735875"
            ]
          },
          "metadata": {},
          "execution_count": 63
        }
      ]
    },
    {
      "cell_type": "code",
      "source": [
        "artigo_teste.category.unique()"
      ],
      "metadata": {
        "colab": {
          "base_uri": "https://localhost:8080/"
        },
        "id": "y4fqzV4KGcE2",
        "outputId": "b7bad774-5279-4639-f9c0-06d93a21839e"
      },
      "execution_count": null,
      "outputs": [
        {
          "output_type": "execute_result",
          "data": {
            "text/plain": [
              "array(['colunas', 'esporte', 'mercado', 'cotidiano', 'mundo', 'ilustrada'],\n",
              "      dtype=object)"
            ]
          },
          "metadata": {},
          "execution_count": 64
        }
      ]
    },
    {
      "cell_type": "code",
      "source": [
        "from sklearn.metrics import classification_report\n",
        "\n",
        "label_prevista = LR.predict(matriz_vetores_teste)\n",
        "CR = classification_report(artigo_teste.category, label_prevista)\n",
        "print(CR)"
      ],
      "metadata": {
        "colab": {
          "base_uri": "https://localhost:8080/"
        },
        "id": "cn-ET1r0GtNs",
        "outputId": "89160a4c-1fd7-4797-be0b-c02501af9c25"
      },
      "execution_count": null,
      "outputs": [
        {
          "output_type": "stream",
          "name": "stdout",
          "text": [
            "              precision    recall  f1-score   support\n",
            "\n",
            "     colunas       0.63      0.38      0.47      6103\n",
            "   cotidiano       0.33      0.54      0.41      1698\n",
            "     esporte       0.67      0.56      0.61      4663\n",
            "   ilustrada       0.03      0.46      0.06       131\n",
            "     mercado       0.63      0.58      0.60      5867\n",
            "       mundo       0.40      0.59      0.48      2051\n",
            "\n",
            "    accuracy                           0.51     20513\n",
            "   macro avg       0.45      0.52      0.44     20513\n",
            "weighted avg       0.59      0.51      0.53     20513\n",
            "\n"
          ]
        }
      ]
    },
    {
      "cell_type": "code",
      "source": [
        "from sklearn.dummy import DummyClassifier\n",
        "\n",
        "DC = DummyClassifier()\n",
        "DC.fit(matriz_vetores_treino, artigo_treino.category)\n",
        "label_previsao_dc = DC.predict(matriz_vetores_teste)\n",
        "CR_dummy = classification_report(artigo_teste.category, label_previsao_dc)\n",
        "print(CR_dummy)"
      ],
      "metadata": {
        "colab": {
          "base_uri": "https://localhost:8080/"
        },
        "id": "w25KWnS5HV3T",
        "outputId": "b2b1918a-3b4a-40ba-9877-d43dd17302c7"
      },
      "execution_count": null,
      "outputs": [
        {
          "output_type": "stream",
          "name": "stderr",
          "text": [
            "/usr/local/lib/python3.10/dist-packages/sklearn/metrics/_classification.py:1344: UndefinedMetricWarning: Precision and F-score are ill-defined and being set to 0.0 in labels with no predicted samples. Use `zero_division` parameter to control this behavior.\n",
            "  _warn_prf(average, modifier, msg_start, len(result))\n"
          ]
        },
        {
          "output_type": "stream",
          "name": "stdout",
          "text": [
            "              precision    recall  f1-score   support\n",
            "\n",
            "     colunas       0.30      1.00      0.46      6103\n",
            "   cotidiano       0.00      0.00      0.00      1698\n",
            "     esporte       0.00      0.00      0.00      4663\n",
            "   ilustrada       0.00      0.00      0.00       131\n",
            "     mercado       0.00      0.00      0.00      5867\n",
            "       mundo       0.00      0.00      0.00      2051\n",
            "\n",
            "    accuracy                           0.30     20513\n",
            "   macro avg       0.05      0.17      0.08     20513\n",
            "weighted avg       0.09      0.30      0.14     20513\n",
            "\n"
          ]
        },
        {
          "output_type": "stream",
          "name": "stderr",
          "text": [
            "/usr/local/lib/python3.10/dist-packages/sklearn/metrics/_classification.py:1344: UndefinedMetricWarning: Precision and F-score are ill-defined and being set to 0.0 in labels with no predicted samples. Use `zero_division` parameter to control this behavior.\n",
            "  _warn_prf(average, modifier, msg_start, len(result))\n",
            "/usr/local/lib/python3.10/dist-packages/sklearn/metrics/_classification.py:1344: UndefinedMetricWarning: Precision and F-score are ill-defined and being set to 0.0 in labels with no predicted samples. Use `zero_division` parameter to control this behavior.\n",
            "  _warn_prf(average, modifier, msg_start, len(result))\n"
          ]
        }
      ]
    },
    {
      "cell_type": "code",
      "source": [
        "!unzip \"/content/drive/MyDrive/Colab Notebooks/Word2Vec/skip_s300.zip\""
      ],
      "metadata": {
        "colab": {
          "base_uri": "https://localhost:8080/"
        },
        "id": "14xbDCPqNWft",
        "outputId": "d4b0b367-3955-4a74-e0cc-868c1a6cdf2a"
      },
      "execution_count": null,
      "outputs": [
        {
          "output_type": "stream",
          "name": "stdout",
          "text": [
            "Archive:  /content/drive/MyDrive/Colab Notebooks/Word2Vec/skip_s300.zip\n",
            "  inflating: skip_s300.txt           \n"
          ]
        }
      ]
    },
    {
      "cell_type": "code",
      "source": [
        "modelo_skipgram = KeyedVectors.load_word2vec_format(\"skip_s300.txt\")"
      ],
      "metadata": {
        "id": "JNjMPw6MMlXw"
      },
      "execution_count": null,
      "outputs": []
    },
    {
      "cell_type": "code",
      "source": [
        "def combinacao_de_vetores_por_soma_skipgram(palavras_numeros):\n",
        "  vetor_resultante = np.zeros(300)\n",
        "  for pn in palavras_numeros:\n",
        "    try:\n",
        "      vetor_resultante =+ modelo_skipgram.get_vector(pn)\n",
        "    except KeyError:\n",
        "      if pn.isnumeric():\n",
        "        pn = \"0\"*len(pn)\n",
        "        vetor_resultante =+ modelo_skipgram.get_vector(pn)\n",
        "      else:\n",
        "        vetor_resultante =+ modelo_skipgram.get_vector('unknown')\n",
        "  return vetor_resultante"
      ],
      "metadata": {
        "id": "X1kVbPzbOO-T"
      },
      "execution_count": null,
      "outputs": []
    },
    {
      "cell_type": "code",
      "source": [
        "def matriz_vetores_skipgram(textos):\n",
        "  x = len(textos)\n",
        "  y = 300\n",
        "  matriz = np.zeros((x,y))\n",
        "\n",
        "  for i in range(x):\n",
        "    palavras_numeros = tokenizador(textos.iloc[i])\n",
        "    matriz[i] = combinacao_de_vetores_por_soma_skipgram(palavras_numeros)\n",
        "\n",
        "  return matriz"
      ],
      "metadata": {
        "id": "ZrkFAfYROJIq"
      },
      "execution_count": null,
      "outputs": []
    },
    {
      "cell_type": "code",
      "source": [
        "matriz_vetores_treino_skipgram = matriz_vetores_skipgram(artigo_treino.title)\n",
        "matriz_vetores_teste_skipgram = matriz_vetores_skipgram(artigo_teste.title)"
      ],
      "metadata": {
        "id": "wcui7YzqOlQz"
      },
      "execution_count": null,
      "outputs": []
    },
    {
      "cell_type": "code",
      "source": [
        "LR_skipgram = LogisticRegression(max_iter = 200)\n",
        "LR_skipgram.fit(matriz_vetores_treino_skipgram, artigo_treino.category)\n",
        "label_previsao_skipgram = LR_skipgram.predict(matriz_vetores_teste_skipgram)\n",
        "CR_skipgram = classification_report(artigo_teste.category, label_previsao_skipgram)\n",
        "print(CR_skipgram)"
      ],
      "metadata": {
        "colab": {
          "base_uri": "https://localhost:8080/"
        },
        "id": "OeovzLPkPG_t",
        "outputId": "d3bf9f6a-f204-48d8-8321-7b3206b7d8a9"
      },
      "execution_count": null,
      "outputs": [
        {
          "output_type": "stream",
          "name": "stdout",
          "text": [
            "              precision    recall  f1-score   support\n",
            "\n",
            "     colunas       0.63      0.40      0.49      6103\n",
            "   cotidiano       0.35      0.55      0.43      1698\n",
            "     esporte       0.68      0.59      0.63      4663\n",
            "   ilustrada       0.04      0.48      0.07       131\n",
            "     mercado       0.63      0.59      0.61      5867\n",
            "       mundo       0.43      0.59      0.50      2051\n",
            "\n",
            "    accuracy                           0.53     20513\n",
            "   macro avg       0.46      0.53      0.45     20513\n",
            "weighted avg       0.60      0.53      0.55     20513\n",
            "\n"
          ]
        }
      ]
    }
  ]
}